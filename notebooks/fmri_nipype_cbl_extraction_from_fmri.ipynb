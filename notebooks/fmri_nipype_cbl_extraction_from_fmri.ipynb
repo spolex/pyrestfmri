{
 "cells": [
  {
   "cell_type": "code",
   "execution_count": 1,
   "metadata": {},
   "outputs": [
    {
     "name": "stdout",
     "output_type": "stream",
     "text": [
      "191020-14:43:29,588 nipype.utils INFO:\n",
      "\t Running nipype version 1.3.0-dev (latest: 1.2.3)\n"
     ]
    }
   ],
   "source": [
    "from nipype.interfaces.fsl import preprocess\n",
    "from nipype.interfaces.fsl import ImageMaths\n",
    "from nilearn import plotting\n",
    "%matplotlib inline\n",
    "from niwidgets import NiftiWidget\n",
    "import ipywidgets as widgets\n",
    "import warnings\n",
    "warnings.filterwarnings('ignore')\n",
    "from IPython.display import display\n",
    "from IPython.display import Javascript\n",
    "import nilearn.plotting as nip#for using nilearn plot functions\n",
    "from nilearn.image.image import mean_img,load_img"
   ]
  },
  {
   "cell_type": "code",
   "execution_count": 2,
   "metadata": {},
   "outputs": [],
   "source": [
    "results_path = \"../../results/output/preproc/*\""
   ]
  },
  {
   "cell_type": "code",
   "execution_count": 3,
   "metadata": {
    "scrolled": true
   },
   "outputs": [],
   "source": [
    "list_subjs = !ls -d $results_path | grep session"
   ]
  },
  {
   "cell_type": "code",
   "execution_count": 4,
   "metadata": {},
   "outputs": [],
   "source": [
    "def run_cells_below():\n",
    "    display(Javascript(\"Jupyter.notebook.execute_cell_range(6,10)\"))"
   ]
  },
  {
   "cell_type": "code",
   "execution_count": 5,
   "metadata": {},
   "outputs": [
    {
     "data": {
      "application/vnd.jupyter.widget-view+json": {
       "model_id": "3a55fba05e3d47a898f32817006df99b",
       "version_major": 2,
       "version_minor": 0
      },
      "text/plain": [
       "Select(description='Subject Id:', options=('../../results/output/preproc/_session_id_1_subject_id_C021', '../.…"
      ]
     },
     "metadata": {},
     "output_type": "display_data"
    }
   ],
   "source": [
    "subj_id_selector = widgets.Select(\n",
    "    options=list_subjs,\n",
    "    # value='C575',\n",
    "    # rows=10,\n",
    "    description='Subject Id:',\n",
    "    disabled=False\n",
    ")\n",
    "#subj_id_selector.on_trait_change(run_cells_below)\n",
    "display(subj_id_selector)"
   ]
  },
  {
   "cell_type": "code",
   "execution_count": 24,
   "metadata": {},
   "outputs": [
    {
     "name": "stdout",
     "output_type": "stream",
     "text": [
      "../../results/output/preproc/_session_id_1_subject_id_T078\n"
     ]
    }
   ],
   "source": [
    "mni_template = \"../../datos/TEMPLATES/MNI152_T1_1mm.nii.gz\"\n",
    "mni_3mm_template = \"../../datos/TEMPLATES/MNI152_T1_3mm.nii.gz\"\n",
    "cbl_template = \"../../datos/TEMPLATES/Cerebellum-MNIflirt-maxprob-thr0-1mm.nii.gz\"\n",
    "cbl_template_prob = \"../../datos/TEMPLATES/Cerebellum-MNIflirt-prob-2mm.nii.gz\"\n",
    "neck_filename = subj_id_selector.value+\"/Neck_remover/mprage_ROI.nii.gz\"\n",
    "skull_filename = subj_id_selector.value+\"/skull_strip/mprage_ROI_flirt_brain.nii.gz\"\n",
    "bold_filename = subj_id_selector.value+\"/applyTransFunc/f1_trim_st_mcf_trans.nii.gz\"\n",
    "print(subj_id_selector.value)"
   ]
  },
  {
   "cell_type": "code",
   "execution_count": 8,
   "metadata": {},
   "outputs": [],
   "source": [
    "maths = ImageMaths(in_file=cbl_template, op_string= '-bin')\n",
    "maths.verbose = True\n",
    "bin_result = maths.run()"
   ]
  },
  {
   "cell_type": "code",
   "execution_count": 9,
   "metadata": {},
   "outputs": [
    {
     "data": {
      "text/plain": [
       "<Figure size 432x288 with 0 Axes>"
      ]
     },
     "metadata": {},
     "output_type": "display_data"
    },
    {
     "data": {
      "application/vnd.jupyter.widget-view+json": {
       "model_id": "f709242a9d0b4133ac4a462fefabf8ca",
       "version_major": 2,
       "version_minor": 0
      },
      "text/plain": [
       "interactive(children=(IntSlider(value=90, continuous_update=False, description='x', max=181), IntSlider(value=…"
      ]
     },
     "metadata": {},
     "output_type": "display_data"
    }
   ],
   "source": [
    "anat_widget = NiftiWidget(bin_result.outputs.out_file)\n",
    "anat_widget.nifti_plotter()"
   ]
  },
  {
   "cell_type": "code",
   "execution_count": 10,
   "metadata": {
    "scrolled": true
   },
   "outputs": [],
   "source": [
    "cbl_img = load_img(bin_result.outputs.out_file)"
   ]
  },
  {
   "cell_type": "code",
   "execution_count": 11,
   "metadata": {},
   "outputs": [
    {
     "name": "stdout",
     "output_type": "stream",
     "text": [
      "[  3 182 218 182   1   1   1   1]\n"
     ]
    }
   ],
   "source": [
    "print(cbl_img.header[\"dim\"])"
   ]
  },
  {
   "cell_type": "code",
   "execution_count": 12,
   "metadata": {
    "scrolled": true
   },
   "outputs": [],
   "source": [
    "bold_img = load_img(bold_filename)"
   ]
  },
  {
   "cell_type": "code",
   "execution_count": 13,
   "metadata": {},
   "outputs": [
    {
     "name": "stdout",
     "output_type": "stream",
     "text": [
      "[  4  61  73  61 158   1   1   1]\n"
     ]
    }
   ],
   "source": [
    "print(bold_img.header[\"dim\"])"
   ]
  },
  {
   "cell_type": "code",
   "execution_count": 22,
   "metadata": {},
   "outputs": [],
   "source": [
    "from nilearn.input_data import NiftiMasker,NiftiMapsMasker\n",
    "masker = NiftiMasker(mask_img=bin_result.outputs.out_file, standardize=True)\n",
    "fmri_masked = masker.fit_transform(bold_filename)"
   ]
  },
  {
   "cell_type": "code",
   "execution_count": 15,
   "metadata": {},
   "outputs": [],
   "source": [
    "fmri_cbl = masker.inverse_transform(fmri_masked)"
   ]
  },
  {
   "cell_type": "code",
   "execution_count": null,
   "metadata": {},
   "outputs": [],
   "source": [
    "fmri_cbl.get_data().shape"
   ]
  },
  {
   "cell_type": "code",
   "execution_count": 17,
   "metadata": {},
   "outputs": [
    {
     "data": {
      "text/plain": [
       "<Figure size 432x288 with 0 Axes>"
      ]
     },
     "metadata": {},
     "output_type": "display_data"
    },
    {
     "data": {
      "application/vnd.jupyter.widget-view+json": {
       "model_id": "279a25d1c2c94404b7c9b31739fa746e",
       "version_major": 2,
       "version_minor": 0
      },
      "text/plain": [
       "interactive(children=(IntSlider(value=90, continuous_update=False, description='x', max=181), IntSlider(value=…"
      ]
     },
     "metadata": {},
     "output_type": "display_data"
    }
   ],
   "source": [
    "roi_widget = NiftiWidget(fmri_cbl)\n",
    "roi_widget.nifti_plotter()"
   ]
  },
  {
   "cell_type": "code",
   "execution_count": 25,
   "metadata": {},
   "outputs": [
    {
     "name": "stdout",
     "output_type": "stream",
     "text": [
      "[NiftiMapsMasker.fit_transform] loading regions from ../../datos/TEMPLATES/Cerebellum-MNIflirt-prob-2mm.nii.gz\n",
      "Resampling maps\n",
      "________________________________________________________________________________\n",
      "[Memory] Calling nilearn.image.resampling.resample_img...\n",
      "resample_img(<nibabel.nifti1.Nifti1Image object at 0x7f577ffa8898>, interpolation='continuous', target_shape=(61, 73, 61), target_affine=array([[  -3.,    0.,    0.,   90.],\n",
      "       [   0.,    3.,    0., -126.],\n",
      "       [   0.,    0.,    3.,  -72.],\n",
      "       [   0.,    0.,    0.,    1.]]))\n",
      "_____________________________________________________resample_img - 5.3s, 0.1min\n",
      "________________________________________________________________________________\n",
      "[Memory] Calling nilearn.input_data.base_masker.filter_and_extract...\n",
      "filter_and_extract('../../results/output/preproc/_session_id_1_subject_id_T078/applyTransFunc/f1_trim_st_mcf_trans.nii.gz', \n",
      "<nilearn.input_data.nifti_maps_masker._ExtractionFunctor object at 0x7f57c190c828>, \n",
      "{ 'allow_overlap': True,\n",
      "  'detrend': True,\n",
      "  'dtype': None,\n",
      "  'high_pass': None,\n",
      "  'low_pass': None,\n",
      "  'maps_img': '../../datos/TEMPLATES/Cerebellum-MNIflirt-prob-2mm.nii.gz',\n",
      "  'mask_img': None,\n",
      "  'smoothing_fwhm': None,\n",
      "  'standardize': False,\n",
      "  't_r': 1.94,\n",
      "  'target_affine': None,\n",
      "  'target_shape': None}, confounds=None, dtype=None, memory=Memory(location=nilearn_cache/joblib), memory_level=1, verbose=10)\n",
      "[NiftiMapsMasker.transform_single_imgs] Loading data from ../../results/output/preproc/_session_id_1_subject_id_T078/applyTransFunc/f1_trim_st_mcf_trans.nii.gz\n",
      "[NiftiMapsMasker.transform_single_imgs] Extracting region signals\n",
      "[NiftiMapsMasker.transform_single_imgs] Cleaning extracted signals\n",
      "_______________________________________________filter_and_extract - 8.9s, 0.1min\n"
     ]
    }
   ],
   "source": [
    "masker = NiftiMapsMasker(maps_img=cbl_template_prob, memory='nilearn_cache', memory_level=1, detrend=True,\n",
    "                             verbose=10, t_r=1.94)\n",
    "fmri_masked = masker.fit_transform(bold_filename)"
   ]
  },
  {
   "cell_type": "code",
   "execution_count": 26,
   "metadata": {},
   "outputs": [
    {
     "name": "stdout",
     "output_type": "stream",
     "text": [
      "[NiftiMapsMasker.inverse_transform] computing image from signals\n"
     ]
    }
   ],
   "source": [
    "fmri_cbl = masker.inverse_transform(fmri_masked)"
   ]
  },
  {
   "cell_type": "code",
   "execution_count": 27,
   "metadata": {},
   "outputs": [
    {
     "data": {
      "text/plain": [
       "<Figure size 432x288 with 0 Axes>"
      ]
     },
     "metadata": {},
     "output_type": "display_data"
    },
    {
     "data": {
      "application/vnd.jupyter.widget-view+json": {
       "model_id": "a0780e3490294113805a21cecf08cebc",
       "version_major": 2,
       "version_minor": 0
      },
      "text/plain": [
       "interactive(children=(IntSlider(value=45, continuous_update=False, description='x', max=90), IntSlider(value=5…"
      ]
     },
     "metadata": {},
     "output_type": "display_data"
    }
   ],
   "source": [
    "roi_widget = NiftiWidget(fmri_cbl)\n",
    "roi_widget.nifti_plotter()"
   ]
  }
 ],
 "metadata": {
  "kernelspec": {
   "display_name": "Python 3",
   "language": "python",
   "name": "python3"
  },
  "language_info": {
   "codemirror_mode": {
    "name": "ipython",
    "version": 3
   },
   "file_extension": ".py",
   "mimetype": "text/x-python",
   "name": "python",
   "nbconvert_exporter": "python",
   "pygments_lexer": "ipython3",
   "version": "3.7.3"
  }
 },
 "nbformat": 4,
 "nbformat_minor": 2
}
