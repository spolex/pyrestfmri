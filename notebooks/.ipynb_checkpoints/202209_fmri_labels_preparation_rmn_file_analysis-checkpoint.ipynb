{
 "cells": [
  {
   "cell_type": "code",
   "execution_count": 1,
   "metadata": {},
   "outputs": [
    {
     "name": "stdout",
     "output_type": "stream",
     "text": [
      "Requirement already satisfied: openpyxl in /usr/local/lib/python3.8/dist-packages (3.0.10)\n",
      "Requirement already satisfied: et-xmlfile in /usr/local/lib/python3.8/dist-packages (from openpyxl) (1.1.0)\n",
      "\u001b[33mWARNING: You are using pip version 20.2.4; however, version 22.2.2 is available.\n",
      "You should consider upgrading via the '/usr/bin/python3 -m pip install --upgrade pip' command.\u001b[0m\n"
     ]
    }
   ],
   "source": [
    "!pip install openpyxl"
   ]
  },
  {
   "cell_type": "code",
   "execution_count": 229,
   "metadata": {},
   "outputs": [],
   "source": [
    "import pandas as pd\n",
    "import numpy as np\n",
    "from matplotlib import pyplot as plt\n",
    "from os import path\n",
    "from scipy.signal import resample\n",
    "from datetime import date\n",
    "import pickle\n",
    "\n",
    "today=date.today().strftime(\"%Y%m%d\")\n",
    "\n",
    "%matplotlib inline"
   ]
  },
  {
   "cell_type": "code",
   "execution_count": 3,
   "metadata": {},
   "outputs": [
    {
     "data": {
      "text/plain": [
       "(75,)"
      ]
     },
     "execution_count": 3,
     "metadata": {},
     "output_type": "execute_result"
    }
   ],
   "source": [
    "rmn = pd.read_excel('/data/elekin/doc/ET-RMN-Age.xlsx', index_col=0)\n",
    "rmn\n",
    "rmn.index.unique().shape"
   ]
  },
  {
   "cell_type": "code",
   "execution_count": 4,
   "metadata": {},
   "outputs": [],
   "source": [
    "rmn_et_subj = rmn[rmn.Level > 0].sort_index().index.unique()\n",
    "rmn_ct_subj = rmn[rmn.Level < 1 ].sort_index().index.unique()"
   ]
  },
  {
   "cell_type": "code",
   "execution_count": 5,
   "metadata": {},
   "outputs": [
    {
     "data": {
      "text/plain": [
       "(50,)"
      ]
     },
     "execution_count": 5,
     "metadata": {},
     "output_type": "execute_result"
    }
   ],
   "source": [
    "rmn_et_subj.shape"
   ]
  },
  {
   "cell_type": "code",
   "execution_count": 6,
   "metadata": {},
   "outputs": [
    {
     "data": {
      "text/plain": [
       "(25,)"
      ]
     },
     "execution_count": 6,
     "metadata": {},
     "output_type": "execute_result"
    }
   ],
   "source": [
    "rmn_ct_subj.shape"
   ]
  },
  {
   "cell_type": "code",
   "execution_count": 7,
   "metadata": {},
   "outputs": [
    {
     "data": {
      "text/plain": [
       "((101, 158, 28), (101,))"
      ]
     },
     "execution_count": 7,
     "metadata": {},
     "output_type": "execute_result"
    }
   ],
   "source": [
    "# origin h5 file location, load and shuffle timeseries\n",
    "h5_file = '/data/elekin/data/results/fmri/preproc/cbl/elekin_fmri_ts_pandas.hdf5'\n",
    "\n",
    "tr_key = 'cbl/dataset' # transformed dataset (id,time series matrix 158x28, label)\n",
    "dataset = pd.read_hdf(h5_file, tr_key)\n",
    "\n",
    "num_samples = dataset.shape[0]\n",
    "features = np.stack(dataset['features'].values)\n",
    "labels = dataset['label'].values.astype('int8') # load labels\n",
    "\n",
    "features.shape, labels.shape"
   ]
  },
  {
   "cell_type": "code",
   "execution_count": 8,
   "metadata": {},
   "outputs": [
    {
     "data": {
      "image/png": "[encoded data removed]",
      "text/plain": [
       "<Figure size 432x288 with 1 Axes>"
      ]
     },
     "metadata": {
      "needs_background": "light"
     },
     "output_type": "display_data"
    }
   ],
   "source": [
    "ax = dataset['label'].value_counts().plot.bar()\n",
    "_ = ax.bar_label(ax.containers[0])"
   ]
  },
  {
   "cell_type": "code",
   "execution_count": 9,
   "metadata": {},
   "outputs": [],
   "source": [
    "ds_et_subj = dataset[dataset['label'] == 1].sort_index().index\n",
    "ds_ct_subj = dataset[dataset['label'] == 0].sort_index().index"
   ]
  },
  {
   "cell_type": "code",
   "execution_count": 10,
   "metadata": {},
   "outputs": [
    {
     "data": {
      "text/plain": [
       "(50,)"
      ]
     },
     "execution_count": 10,
     "metadata": {},
     "output_type": "execute_result"
    }
   ],
   "source": [
    "ds_et_subj.shape"
   ]
  },
  {
   "cell_type": "code",
   "execution_count": 11,
   "metadata": {},
   "outputs": [
    {
     "data": {
      "text/plain": [
       "(51,)"
      ]
     },
     "execution_count": 11,
     "metadata": {},
     "output_type": "execute_result"
    }
   ],
   "source": [
    "ds_ct_subj.shape"
   ]
  },
  {
   "cell_type": "code",
   "execution_count": 12,
   "metadata": {},
   "outputs": [
    {
     "data": {
      "text/plain": [
       "Index(['T001', 'T003', 'T004', 'T005', 'T006', 'T008', 'T009', 'T010', 'T012',\n",
       "       'T013', 'T014', 'T017', 'T018', 'T019', 'T021', 'T023', 'T024', 'T025',\n",
       "       'T027', 'T028', 'T029', 'T030', 'T031', 'T032', 'T033', 'T035', 'T040',\n",
       "       'T042', 'T043', 'T045', 'T046', 'T058', 'T059', 'T060', 'T061', 'T062',\n",
       "       'T063', 'T064', 'T065', 'T066', 'T068', 'T069', 'T072', 'T073', 'T074',\n",
       "       'T075', 'T078', 'T080', 'T081', 'T082'],\n",
       "      dtype='object', name='Suj')"
      ]
     },
     "execution_count": 12,
     "metadata": {},
     "output_type": "execute_result"
    }
   ],
   "source": [
    "rmn_et_subj"
   ]
  },
  {
   "cell_type": "code",
   "execution_count": 13,
   "metadata": {},
   "outputs": [
    {
     "data": {
      "text/plain": [
       "Index(['T032', 'T033', 'T034', 'T056', 'T058', 'T059', 'T063', 'T064', 'T065',\n",
       "       'T066', 'T068', 'T069', 'T072', 'T073', 'T074', 'T075', 'T078', 'T079'],\n",
       "      dtype='object', name='id')"
      ]
     },
     "execution_count": 13,
     "metadata": {},
     "output_type": "execute_result"
    }
   ],
   "source": [
    "ds_et_subj[~np.equal(ds_et_subj.values, rmn_et_subj.values)]"
   ]
  },
  {
   "cell_type": "markdown",
   "metadata": {},
   "source": [
    "* T031 No esta en el h5 del cbl, pero si esta en el directorio cbl\n",
    "* T060 No esta en el h5 del cbl, pero si esta en el directorio cbl\n",
    "* T062 No esta en el h5 del cbl, pero si esta en el directorio cbl\n",
    "* C578 No esta en el h5 del cbl, pero si esta en el directorio cbl y es un control"
   ]
  },
  {
   "cell_type": "code",
   "execution_count": 14,
   "metadata": {},
   "outputs": [
    {
     "data": {
      "text/plain": [
       "(47,)"
      ]
     },
     "execution_count": 14,
     "metadata": {},
     "output_type": "execute_result"
    }
   ],
   "source": [
    "filter_rmn_et_subj = rmn_et_subj[(rmn_et_subj != 'T031') \n",
    "                                 & (rmn_et_subj != 'T060') \n",
    "                                 & (rmn_et_subj != 'T062')]\n",
    "filter_rmn_et_subj.shape"
   ]
  },
  {
   "cell_type": "markdown",
   "metadata": {},
   "source": [
    "* T034 No esta en el archivo rmn y en teoria es un positivo. Desconozco el nivel del temblor\n",
    "* T056 No esta en el archivo rmn y en teoria es un positivo. Desconozco el nivel del temblor\n",
    "* T079 No esta en el archivo rmn y en teoria es un positivo. Desconozco el nivel del temblor\n"
   ]
  },
  {
   "cell_type": "code",
   "execution_count": 15,
   "metadata": {},
   "outputs": [
    {
     "data": {
      "text/plain": [
       "(47,)"
      ]
     },
     "execution_count": 15,
     "metadata": {},
     "output_type": "execute_result"
    }
   ],
   "source": [
    "filter_ds_et_subj = ds_et_subj[(ds_et_subj != 'T034') \n",
    "                                & (ds_et_subj != 'T056') \n",
    "                                 & (ds_et_subj != 'T079')]\n",
    "filter_ds_et_subj.shape"
   ]
  },
  {
   "cell_type": "code",
   "execution_count": 16,
   "metadata": {},
   "outputs": [
    {
     "data": {
      "text/plain": [
       "Index([], dtype='object', name='id')"
      ]
     },
     "execution_count": 16,
     "metadata": {},
     "output_type": "execute_result"
    }
   ],
   "source": [
    "filter_ds_et_subj[~np.equal(filter_ds_et_subj.values, filter_rmn_et_subj.values)]"
   ]
  },
  {
   "cell_type": "code",
   "execution_count": 17,
   "metadata": {},
   "outputs": [
    {
     "data": {
      "text/plain": [
       "11    50\n",
       "12    25\n",
       "13    25\n",
       "Name: Level3, dtype: int64"
      ]
     },
     "execution_count": 17,
     "metadata": {},
     "output_type": "execute_result"
    }
   ],
   "source": [
    "rmn.Level3.value_counts()"
   ]
  },
  {
   "cell_type": "code",
   "execution_count": 18,
   "metadata": {},
   "outputs": [
    {
     "data": {
      "text/plain": [
       "13    24\n",
       "12    23\n",
       "Name: Level3, dtype: int64"
      ]
     },
     "execution_count": 18,
     "metadata": {},
     "output_type": "execute_result"
    }
   ],
   "source": [
    "rmn.loc[filter_rmn_et_subj].Level3.value_counts()"
   ]
  },
  {
   "cell_type": "markdown",
   "metadata": {},
   "source": [
    "Faltan 3 que se corresponden con T031, T060, T062"
   ]
  },
  {
   "cell_type": "code",
   "execution_count": 19,
   "metadata": {
    "scrolled": true
   },
   "outputs": [
    {
     "data": {
      "text/plain": [
       "Index(['C001', 'C021', 'C034', 'C070', 'C079', 'C101', 'C102', 'C103', 'C104',\n",
       "       'C132', 'C192', 'C196', 'C212', 'C234', 'C257', 'C260', 'C280', 'C367',\n",
       "       'C452', 'C478', 'C503', 'C522', 'C534', 'C575', 'C578'],\n",
       "      dtype='object', name='Suj')"
      ]
     },
     "execution_count": 19,
     "metadata": {},
     "output_type": "execute_result"
    }
   ],
   "source": [
    "rmn_ct_subj"
   ]
  },
  {
   "cell_type": "code",
   "execution_count": 20,
   "metadata": {},
   "outputs": [
    {
     "data": {
      "text/plain": [
       "Index(['C021', 'C026', 'C034', 'C045', 'C046', 'C048', 'C049', 'C070', 'C079',\n",
       "       'C084', 'C093', 'C109', 'C112', 'C113', 'C115', 'C127', 'C132', 'C143',\n",
       "       'C180', 'C182', 'C185', 'C192', 'C196', 'C203', 'C212', 'C221', 'C231',\n",
       "       'C234', 'C257', 'C260', 'C266', 'C275', 'C280', 'C282', 'C283', 'C294',\n",
       "       'C367', 'C374', 'C382', 'C452', 'C478', 'C503', 'C522', 'C528', 'C534',\n",
       "       'C575', 'T026', 'T039', 'T067', 'T071', 'T077'],\n",
       "      dtype='object', name='id')"
      ]
     },
     "execution_count": 20,
     "metadata": {},
     "output_type": "execute_result"
    }
   ],
   "source": [
    "ds_ct_subj"
   ]
  },
  {
   "cell_type": "code",
   "execution_count": 21,
   "metadata": {},
   "outputs": [
    {
     "data": {
      "text/plain": [
       "Index(['C021', 'C021', 'C026', 'C034', 'C034', 'C045', 'C046', 'C048', 'C049',\n",
       "       'C070',\n",
       "       ...\n",
       "       'T072', 'T073', 'T074', 'T075', 'T077', 'T078', 'T079', 'T080', 'T081',\n",
       "       'T082'],\n",
       "      dtype='object', length=120)"
      ]
     },
     "execution_count": 21,
     "metadata": {},
     "output_type": "execute_result"
    }
   ],
   "source": [
    "dataset.join(rmn.drop_duplicates(), how='left').index"
   ]
  },
  {
   "cell_type": "code",
   "execution_count": 22,
   "metadata": {},
   "outputs": [
    {
     "data": {
      "text/plain": [
       "array(['C021', 'C026', 'C034', 'C045', 'C046', 'C048', 'C049', 'C070',\n",
       "       'C079', 'C084', 'C093', 'C109', 'C112', 'C113', 'C115', 'C127',\n",
       "       'C132', 'C143', 'C180', 'C182', 'C185', 'C192', 'C196', 'C203',\n",
       "       'C212', 'C221', 'C231', 'C234', 'C257', 'C260', 'C266', 'C275',\n",
       "       'C280', 'C282', 'C283', 'C294', 'C367', 'C374', 'C382', 'C452',\n",
       "       'C478', 'C503', 'C522', 'C528', 'C534', 'C575', 'T001', 'T003',\n",
       "       'T004', 'T005', 'T006', 'T008', 'T009', 'T010', 'T012', 'T013',\n",
       "       'T014', 'T017', 'T018', 'T019', 'T021', 'T023', 'T024', 'T025',\n",
       "       'T026', 'T027', 'T028', 'T029', 'T030', 'T032', 'T033', 'T034',\n",
       "       'T035', 'T039', 'T040', 'T042', 'T043', 'T045', 'T046', 'T056',\n",
       "       'T058', 'T059', 'T061', 'T063', 'T064', 'T065', 'T066', 'T067',\n",
       "       'T068', 'T069', 'T071', 'T072', 'T073', 'T074', 'T075', 'T077',\n",
       "       'T078', 'T079', 'T080', 'T081', 'T082'], dtype=object)"
      ]
     },
     "execution_count": 22,
     "metadata": {},
     "output_type": "execute_result"
    }
   ],
   "source": [
    "dataset.index.unique().values"
   ]
  },
  {
   "cell_type": "code",
   "execution_count": 23,
   "metadata": {},
   "outputs": [
    {
     "data": {
      "text/html": [
       "<div>\n",
       "<style scoped>\n",
       "    .dataframe tbody tr th:only-of-type {\n",
       "        vertical-align: middle;\n",
       "    }\n",
       "\n",
       "    .dataframe tbody tr th {\n",
       "        vertical-align: top;\n",
       "    }\n",
       "\n",
       "    .dataframe thead th {\n",
       "        text-align: right;\n",
       "    }\n",
       "</style>\n",
       "<table border=\"1\" class=\"dataframe\">\n",
       "  <thead>\n",
       "    <tr style=\"text-align: right;\">\n",
       "      <th></th>\n",
       "      <th>features</th>\n",
       "      <th>label</th>\n",
       "      <th>Level</th>\n",
       "      <th>Level3</th>\n",
       "    </tr>\n",
       "  </thead>\n",
       "  <tbody>\n",
       "    <tr>\n",
       "      <th>C001</th>\n",
       "      <td>NaN</td>\n",
       "      <td>NaN</td>\n",
       "      <td>0.0</td>\n",
       "      <td>11.0</td>\n",
       "    </tr>\n",
       "    <tr>\n",
       "      <th>C021</th>\n",
       "      <td>[[0.00819954, -0.00063243444, 0.000901655, 0.0...</td>\n",
       "      <td>0.0</td>\n",
       "      <td>0.0</td>\n",
       "      <td>11.0</td>\n",
       "    </tr>\n",
       "    <tr>\n",
       "      <th>C026</th>\n",
       "      <td>[[0.026825376, -0.00238525, -0.0065030325, 0.0...</td>\n",
       "      <td>0.0</td>\n",
       "      <td>NaN</td>\n",
       "      <td>NaN</td>\n",
       "    </tr>\n",
       "    <tr>\n",
       "      <th>C034</th>\n",
       "      <td>[[0.0025794422, -0.0040355306, -0.005212414, -...</td>\n",
       "      <td>0.0</td>\n",
       "      <td>0.0</td>\n",
       "      <td>11.0</td>\n",
       "    </tr>\n",
       "    <tr>\n",
       "      <th>C045</th>\n",
       "      <td>[[0.015147435, 0.040838275, 0.015698852, 0.011...</td>\n",
       "      <td>0.0</td>\n",
       "      <td>NaN</td>\n",
       "      <td>NaN</td>\n",
       "    </tr>\n",
       "    <tr>\n",
       "      <th>...</th>\n",
       "      <td>...</td>\n",
       "      <td>...</td>\n",
       "      <td>...</td>\n",
       "      <td>...</td>\n",
       "    </tr>\n",
       "    <tr>\n",
       "      <th>T078</th>\n",
       "      <td>[[-0.030099865, -0.019099368, -0.00851318, -0....</td>\n",
       "      <td>1.0</td>\n",
       "      <td>12.0</td>\n",
       "      <td>13.0</td>\n",
       "    </tr>\n",
       "    <tr>\n",
       "      <th>T079</th>\n",
       "      <td>[[-0.00954158, 0.020584784, 0.018022422, 0.022...</td>\n",
       "      <td>1.0</td>\n",
       "      <td>NaN</td>\n",
       "      <td>NaN</td>\n",
       "    </tr>\n",
       "    <tr>\n",
       "      <th>T080</th>\n",
       "      <td>[[-0.012850532, -0.013651238, -0.015877113, -0...</td>\n",
       "      <td>1.0</td>\n",
       "      <td>16.0</td>\n",
       "      <td>13.0</td>\n",
       "    </tr>\n",
       "    <tr>\n",
       "      <th>T081</th>\n",
       "      <td>[[0.008579052, 0.010814828, 0.013825781, 0.022...</td>\n",
       "      <td>1.0</td>\n",
       "      <td>8.0</td>\n",
       "      <td>12.0</td>\n",
       "    </tr>\n",
       "    <tr>\n",
       "      <th>T082</th>\n",
       "      <td>[[-0.0066099693, -0.016889649, -0.0020370192, ...</td>\n",
       "      <td>1.0</td>\n",
       "      <td>13.0</td>\n",
       "      <td>13.0</td>\n",
       "    </tr>\n",
       "  </tbody>\n",
       "</table>\n",
       "<p>110 rows × 4 columns</p>\n",
       "</div>"
      ],
      "text/plain": [
       "                                               features  label  Level  Level3\n",
       "C001                                                NaN    NaN    0.0    11.0\n",
       "C021  [[0.00819954, -0.00063243444, 0.000901655, 0.0...    0.0    0.0    11.0\n",
       "C026  [[0.026825376, -0.00238525, -0.0065030325, 0.0...    0.0    NaN     NaN\n",
       "C034  [[0.0025794422, -0.0040355306, -0.005212414, -...    0.0    0.0    11.0\n",
       "C045  [[0.015147435, 0.040838275, 0.015698852, 0.011...    0.0    NaN     NaN\n",
       "...                                                 ...    ...    ...     ...\n",
       "T078  [[-0.030099865, -0.019099368, -0.00851318, -0....    1.0   12.0    13.0\n",
       "T079  [[-0.00954158, 0.020584784, 0.018022422, 0.022...    1.0    NaN     NaN\n",
       "T080  [[-0.012850532, -0.013651238, -0.015877113, -0...    1.0   16.0    13.0\n",
       "T081  [[0.008579052, 0.010814828, 0.013825781, 0.022...    1.0    8.0    12.0\n",
       "T082  [[-0.0066099693, -0.016889649, -0.0020370192, ...    1.0   13.0    13.0\n",
       "\n",
       "[110 rows x 4 columns]"
      ]
     },
     "execution_count": 23,
     "metadata": {},
     "output_type": "execute_result"
    }
   ],
   "source": [
    "dataset.join(rmn[['Level','Level3']].reset_index().drop_duplicates().set_index('Suj'), how='outer')"
   ]
  },
  {
   "cell_type": "code",
   "execution_count": 24,
   "metadata": {
    "scrolled": false
   },
   "outputs": [
    {
     "name": "stderr",
     "output_type": "stream",
     "text": [
      "<ipython-input-24-23ea3eaaeac5>:13: SettingWithCopyWarning: \n",
      "A value is trying to be set on a copy of a slice from a DataFrame\n",
      "\n",
      "See the caveats in the documentation: https://pandas.pydata.org/pandas-docs/stable/user_guide/indexing.html#returning-a-view-versus-a-copy\n",
      "  new_dataset['Suj'].loc[h] = k\n"
     ]
    },
    {
     "data": {
      "text/html": [
       "<div>\n",
       "<style scoped>\n",
       "    .dataframe tbody tr th:only-of-type {\n",
       "        vertical-align: middle;\n",
       "    }\n",
       "\n",
       "    .dataframe tbody tr th {\n",
       "        vertical-align: top;\n",
       "    }\n",
       "\n",
       "    .dataframe thead th {\n",
       "        text-align: right;\n",
       "    }\n",
       "</style>\n",
       "<table border=\"1\" class=\"dataframe\">\n",
       "  <thead>\n",
       "    <tr style=\"text-align: right;\">\n",
       "      <th></th>\n",
       "      <th>features</th>\n",
       "      <th>label</th>\n",
       "      <th>Suj_hist</th>\n",
       "    </tr>\n",
       "    <tr>\n",
       "      <th>id</th>\n",
       "      <th></th>\n",
       "      <th></th>\n",
       "      <th></th>\n",
       "    </tr>\n",
       "  </thead>\n",
       "  <tbody>\n",
       "    <tr>\n",
       "      <th>C021</th>\n",
       "      <td>[[0.00819954, -0.00063243444, 0.000901655, 0.0...</td>\n",
       "      <td>0</td>\n",
       "      <td>C021</td>\n",
       "    </tr>\n",
       "    <tr>\n",
       "      <th>C026</th>\n",
       "      <td>[[0.026825376, -0.00238525, -0.0065030325, 0.0...</td>\n",
       "      <td>0</td>\n",
       "      <td>C026</td>\n",
       "    </tr>\n",
       "    <tr>\n",
       "      <th>C034</th>\n",
       "      <td>[[0.0025794422, -0.0040355306, -0.005212414, -...</td>\n",
       "      <td>0</td>\n",
       "      <td>C034</td>\n",
       "    </tr>\n",
       "    <tr>\n",
       "      <th>C045</th>\n",
       "      <td>[[0.015147435, 0.040838275, 0.015698852, 0.011...</td>\n",
       "      <td>0</td>\n",
       "      <td>C045</td>\n",
       "    </tr>\n",
       "    <tr>\n",
       "      <th>C046</th>\n",
       "      <td>[[-0.013728838, -0.003905677, 0.010184337, 0.0...</td>\n",
       "      <td>0</td>\n",
       "      <td>C046</td>\n",
       "    </tr>\n",
       "    <tr>\n",
       "      <th>...</th>\n",
       "      <td>...</td>\n",
       "      <td>...</td>\n",
       "      <td>...</td>\n",
       "    </tr>\n",
       "    <tr>\n",
       "      <th>T078</th>\n",
       "      <td>[[-0.030099865, -0.019099368, -0.00851318, -0....</td>\n",
       "      <td>1</td>\n",
       "      <td>T078</td>\n",
       "    </tr>\n",
       "    <tr>\n",
       "      <th>T079</th>\n",
       "      <td>[[-0.00954158, 0.020584784, 0.018022422, 0.022...</td>\n",
       "      <td>1</td>\n",
       "      <td>T079</td>\n",
       "    </tr>\n",
       "    <tr>\n",
       "      <th>T080</th>\n",
       "      <td>[[-0.012850532, -0.013651238, -0.015877113, -0...</td>\n",
       "      <td>1</td>\n",
       "      <td>T080</td>\n",
       "    </tr>\n",
       "    <tr>\n",
       "      <th>T081</th>\n",
       "      <td>[[0.008579052, 0.010814828, 0.013825781, 0.022...</td>\n",
       "      <td>1</td>\n",
       "      <td>T081</td>\n",
       "    </tr>\n",
       "    <tr>\n",
       "      <th>T082</th>\n",
       "      <td>[[-0.0066099693, -0.016889649, -0.0020370192, ...</td>\n",
       "      <td>1</td>\n",
       "      <td>T082</td>\n",
       "    </tr>\n",
       "  </tbody>\n",
       "</table>\n",
       "<p>101 rows × 3 columns</p>\n",
       "</div>"
      ],
      "text/plain": [
       "                                               features  label Suj_hist\n",
       "id                                                                     \n",
       "C021  [[0.00819954, -0.00063243444, 0.000901655, 0.0...      0     C021\n",
       "C026  [[0.026825376, -0.00238525, -0.0065030325, 0.0...      0     C026\n",
       "C034  [[0.0025794422, -0.0040355306, -0.005212414, -...      0     C034\n",
       "C045  [[0.015147435, 0.040838275, 0.015698852, 0.011...      0     C045\n",
       "C046  [[-0.013728838, -0.003905677, 0.010184337, 0.0...      0     C046\n",
       "...                                                 ...    ...      ...\n",
       "T078  [[-0.030099865, -0.019099368, -0.00851318, -0....      1     T078\n",
       "T079  [[-0.00954158, 0.020584784, 0.018022422, 0.022...      1     T079\n",
       "T080  [[-0.012850532, -0.013651238, -0.015877113, -0...      1     T080\n",
       "T081  [[0.008579052, 0.010814828, 0.013825781, 0.022...      1     T081\n",
       "T082  [[-0.0066099693, -0.016889649, -0.0020370192, ...      1     T082\n",
       "\n",
       "[101 rows x 3 columns]"
      ]
     },
     "execution_count": 24,
     "metadata": {},
     "output_type": "execute_result"
    }
   ],
   "source": [
    "## original dataset\n",
    "dataset = pd.read_hdf(h5_file, tr_key)\n",
    "\n",
    "## equivalencias\n",
    "hist =['T026', 'T067', 'T039', 'T071', 'T077']\n",
    "kar =['C001', 'C101', 'C102', 'C103', 'C104']\n",
    "dataset['Suj']=dataset.index\n",
    "\n",
    "new_dataset = dataset.copy()\n",
    "\n",
    "for h,k in zip(hist,kar):\n",
    "    if new_dataset['Suj'].loc[h] == h:\n",
    "        new_dataset['Suj'].loc[h] = k\n",
    "        \n",
    "new_dataset = new_dataset.reset_index().set_index('Suj')\n",
    "new_dataset['Suj_hist'] = new_dataset['id']\n",
    "new_dataset = new_dataset.drop('id', axis=1)\n",
    "new_dataset.index.name = 'id'\n",
    "new_dataset"
   ]
  },
  {
   "cell_type": "code",
   "execution_count": 25,
   "metadata": {},
   "outputs": [
    {
     "data": {
      "text/plain": [
       "features    [[0.00062144565, -0.0015602685, -0.0014423479,...\n",
       "label                                                       0\n",
       "Suj_hist                                                 T026\n",
       "Name: C001, dtype: object"
      ]
     },
     "execution_count": 25,
     "metadata": {},
     "output_type": "execute_result"
    }
   ],
   "source": [
    "new_dataset.loc['C001']"
   ]
  },
  {
   "cell_type": "code",
   "execution_count": 26,
   "metadata": {},
   "outputs": [],
   "source": [
    "joined_dataset = new_dataset.join(rmn[['Level','Level3']].reset_index().drop_duplicates().set_index('Suj'), how='outer')"
   ]
  },
  {
   "cell_type": "code",
   "execution_count": 27,
   "metadata": {},
   "outputs": [],
   "source": [
    "joined_dataset = joined_dataset.fillna({\"Level\": joined_dataset.label}).drop('label', axis=1)"
   ]
  },
  {
   "cell_type": "code",
   "execution_count": 28,
   "metadata": {},
   "outputs": [
    {
     "data": {
      "text/html": [
       "<div>\n",
       "<style scoped>\n",
       "    .dataframe tbody tr th:only-of-type {\n",
       "        vertical-align: middle;\n",
       "    }\n",
       "\n",
       "    .dataframe tbody tr th {\n",
       "        vertical-align: top;\n",
       "    }\n",
       "\n",
       "    .dataframe thead th {\n",
       "        text-align: right;\n",
       "    }\n",
       "</style>\n",
       "<table border=\"1\" class=\"dataframe\">\n",
       "  <thead>\n",
       "    <tr style=\"text-align: right;\">\n",
       "      <th></th>\n",
       "      <th>features</th>\n",
       "      <th>Suj_hist</th>\n",
       "      <th>Level</th>\n",
       "      <th>Level3</th>\n",
       "    </tr>\n",
       "  </thead>\n",
       "  <tbody>\n",
       "    <tr>\n",
       "      <th>C001</th>\n",
       "      <td>[[0.00062144565, -0.0015602685, -0.0014423479,...</td>\n",
       "      <td>T026</td>\n",
       "      <td>0.0</td>\n",
       "      <td>11.0</td>\n",
       "    </tr>\n",
       "    <tr>\n",
       "      <th>C021</th>\n",
       "      <td>[[0.00819954, -0.00063243444, 0.000901655, 0.0...</td>\n",
       "      <td>C021</td>\n",
       "      <td>0.0</td>\n",
       "      <td>11.0</td>\n",
       "    </tr>\n",
       "    <tr>\n",
       "      <th>C026</th>\n",
       "      <td>[[0.026825376, -0.00238525, -0.0065030325, 0.0...</td>\n",
       "      <td>C026</td>\n",
       "      <td>0.0</td>\n",
       "      <td>11.0</td>\n",
       "    </tr>\n",
       "    <tr>\n",
       "      <th>C034</th>\n",
       "      <td>[[0.0025794422, -0.0040355306, -0.005212414, -...</td>\n",
       "      <td>C034</td>\n",
       "      <td>0.0</td>\n",
       "      <td>11.0</td>\n",
       "    </tr>\n",
       "    <tr>\n",
       "      <th>C045</th>\n",
       "      <td>[[0.015147435, 0.040838275, 0.015698852, 0.011...</td>\n",
       "      <td>C045</td>\n",
       "      <td>0.0</td>\n",
       "      <td>11.0</td>\n",
       "    </tr>\n",
       "    <tr>\n",
       "      <th>...</th>\n",
       "      <td>...</td>\n",
       "      <td>...</td>\n",
       "      <td>...</td>\n",
       "      <td>...</td>\n",
       "    </tr>\n",
       "    <tr>\n",
       "      <th>T075</th>\n",
       "      <td>[[0.030922767, 0.02121316, 0.018007915, 0.0324...</td>\n",
       "      <td>T075</td>\n",
       "      <td>5.0</td>\n",
       "      <td>12.0</td>\n",
       "    </tr>\n",
       "    <tr>\n",
       "      <th>T078</th>\n",
       "      <td>[[-0.030099865, -0.019099368, -0.00851318, -0....</td>\n",
       "      <td>T078</td>\n",
       "      <td>12.0</td>\n",
       "      <td>13.0</td>\n",
       "    </tr>\n",
       "    <tr>\n",
       "      <th>T080</th>\n",
       "      <td>[[-0.012850532, -0.013651238, -0.015877113, -0...</td>\n",
       "      <td>T080</td>\n",
       "      <td>16.0</td>\n",
       "      <td>13.0</td>\n",
       "    </tr>\n",
       "    <tr>\n",
       "      <th>T081</th>\n",
       "      <td>[[0.008579052, 0.010814828, 0.013825781, 0.022...</td>\n",
       "      <td>T081</td>\n",
       "      <td>8.0</td>\n",
       "      <td>12.0</td>\n",
       "    </tr>\n",
       "    <tr>\n",
       "      <th>T082</th>\n",
       "      <td>[[-0.0066099693, -0.016889649, -0.0020370192, ...</td>\n",
       "      <td>T082</td>\n",
       "      <td>13.0</td>\n",
       "      <td>13.0</td>\n",
       "    </tr>\n",
       "  </tbody>\n",
       "</table>\n",
       "<p>102 rows × 4 columns</p>\n",
       "</div>"
      ],
      "text/plain": [
       "                                               features Suj_hist  Level  \\\n",
       "C001  [[0.00062144565, -0.0015602685, -0.0014423479,...     T026    0.0   \n",
       "C021  [[0.00819954, -0.00063243444, 0.000901655, 0.0...     C021    0.0   \n",
       "C026  [[0.026825376, -0.00238525, -0.0065030325, 0.0...     C026    0.0   \n",
       "C034  [[0.0025794422, -0.0040355306, -0.005212414, -...     C034    0.0   \n",
       "C045  [[0.015147435, 0.040838275, 0.015698852, 0.011...     C045    0.0   \n",
       "...                                                 ...      ...    ...   \n",
       "T075  [[0.030922767, 0.02121316, 0.018007915, 0.0324...     T075    5.0   \n",
       "T078  [[-0.030099865, -0.019099368, -0.00851318, -0....     T078   12.0   \n",
       "T080  [[-0.012850532, -0.013651238, -0.015877113, -0...     T080   16.0   \n",
       "T081  [[0.008579052, 0.010814828, 0.013825781, 0.022...     T081    8.0   \n",
       "T082  [[-0.0066099693, -0.016889649, -0.0020370192, ...     T082   13.0   \n",
       "\n",
       "      Level3  \n",
       "C001    11.0  \n",
       "C021    11.0  \n",
       "C026    11.0  \n",
       "C034    11.0  \n",
       "C045    11.0  \n",
       "...      ...  \n",
       "T075    12.0  \n",
       "T078    13.0  \n",
       "T080    13.0  \n",
       "T081    12.0  \n",
       "T082    13.0  \n",
       "\n",
       "[102 rows x 4 columns]"
      ]
     },
     "execution_count": 28,
     "metadata": {},
     "output_type": "execute_result"
    }
   ],
   "source": [
    "joined_dataset.drop(['T034', 'T056','T079']).fillna({'Level3':11})"
   ]
  },
  {
   "cell_type": "code",
   "execution_count": 29,
   "metadata": {},
   "outputs": [],
   "source": [
    "# No estan en el archivo rmn pero son positivos. No disponemos de informacion de level3\n",
    "# se queda como na para su posterior filtrado: 'T034', 'T056','T079'\n",
    "final_dataset = pd.concat([joined_dataset.drop(['T034', 'T056','T079']).fillna({'Level3':11}),\n",
    "          joined_dataset.loc[['T034', 'T056','T079']]])"
   ]
  },
  {
   "cell_type": "code",
   "execution_count": 30,
   "metadata": {},
   "outputs": [
    {
     "data": {
      "text/html": [
       "<div>\n",
       "<style scoped>\n",
       "    .dataframe tbody tr th:only-of-type {\n",
       "        vertical-align: middle;\n",
       "    }\n",
       "\n",
       "    .dataframe tbody tr th {\n",
       "        vertical-align: top;\n",
       "    }\n",
       "\n",
       "    .dataframe thead th {\n",
       "        text-align: right;\n",
       "    }\n",
       "</style>\n",
       "<table border=\"1\" class=\"dataframe\">\n",
       "  <thead>\n",
       "    <tr style=\"text-align: right;\">\n",
       "      <th></th>\n",
       "      <th>features</th>\n",
       "      <th>Suj_hist</th>\n",
       "      <th>Level</th>\n",
       "      <th>Level3</th>\n",
       "    </tr>\n",
       "  </thead>\n",
       "  <tbody>\n",
       "    <tr>\n",
       "      <th>C578</th>\n",
       "      <td>NaN</td>\n",
       "      <td>NaN</td>\n",
       "      <td>0.0</td>\n",
       "      <td>11.0</td>\n",
       "    </tr>\n",
       "    <tr>\n",
       "      <th>T031</th>\n",
       "      <td>NaN</td>\n",
       "      <td>NaN</td>\n",
       "      <td>8.0</td>\n",
       "      <td>12.0</td>\n",
       "    </tr>\n",
       "    <tr>\n",
       "      <th>T060</th>\n",
       "      <td>NaN</td>\n",
       "      <td>NaN</td>\n",
       "      <td>12.0</td>\n",
       "      <td>13.0</td>\n",
       "    </tr>\n",
       "    <tr>\n",
       "      <th>T062</th>\n",
       "      <td>NaN</td>\n",
       "      <td>NaN</td>\n",
       "      <td>1.0</td>\n",
       "      <td>12.0</td>\n",
       "    </tr>\n",
       "  </tbody>\n",
       "</table>\n",
       "</div>"
      ],
      "text/plain": [
       "     features Suj_hist  Level  Level3\n",
       "C578      NaN      NaN    0.0    11.0\n",
       "T031      NaN      NaN    8.0    12.0\n",
       "T060      NaN      NaN   12.0    13.0\n",
       "T062      NaN      NaN    1.0    12.0"
      ]
     },
     "execution_count": 30,
     "metadata": {},
     "output_type": "execute_result"
    }
   ],
   "source": [
    "final_dataset[final_dataset.features.isna()]"
   ]
  },
  {
   "cell_type": "code",
   "execution_count": 134,
   "metadata": {},
   "outputs": [
    {
     "data": {
      "text/html": [
       "<div>\n",
       "<style scoped>\n",
       "    .dataframe tbody tr th:only-of-type {\n",
       "        vertical-align: middle;\n",
       "    }\n",
       "\n",
       "    .dataframe tbody tr th {\n",
       "        vertical-align: top;\n",
       "    }\n",
       "\n",
       "    .dataframe thead th {\n",
       "        text-align: right;\n",
       "    }\n",
       "</style>\n",
       "<table border=\"1\" class=\"dataframe\">\n",
       "  <thead>\n",
       "    <tr style=\"text-align: right;\">\n",
       "      <th></th>\n",
       "      <th>features</th>\n",
       "      <th>Suj_hist</th>\n",
       "      <th>Level</th>\n",
       "      <th>Level3</th>\n",
       "    </tr>\n",
       "  </thead>\n",
       "  <tbody>\n",
       "    <tr>\n",
       "      <th>C578</th>\n",
       "      <td>[[0.012177113239433575, 0.0235749165976185, -0...</td>\n",
       "      <td>NaN</td>\n",
       "      <td>0.0</td>\n",
       "      <td>11.0</td>\n",
       "    </tr>\n",
       "    <tr>\n",
       "      <th>T031</th>\n",
       "      <td>[[-0.017088325464119734, -0.02126877336426468,...</td>\n",
       "      <td>NaN</td>\n",
       "      <td>8.0</td>\n",
       "      <td>12.0</td>\n",
       "    </tr>\n",
       "    <tr>\n",
       "      <th>T060</th>\n",
       "      <td>[[0.008024161627028577, 0.0018653381442191473,...</td>\n",
       "      <td>NaN</td>\n",
       "      <td>12.0</td>\n",
       "      <td>13.0</td>\n",
       "    </tr>\n",
       "    <tr>\n",
       "      <th>T062</th>\n",
       "      <td>[[0.0397626245349285, 0.07767266683131223, 0.0...</td>\n",
       "      <td>NaN</td>\n",
       "      <td>1.0</td>\n",
       "      <td>12.0</td>\n",
       "    </tr>\n",
       "  </tbody>\n",
       "</table>\n",
       "</div>"
      ],
      "text/plain": [
       "                                               features Suj_hist  Level  \\\n",
       "C578  [[0.012177113239433575, 0.0235749165976185, -0...      NaN    0.0   \n",
       "T031  [[-0.017088325464119734, -0.02126877336426468,...      NaN    8.0   \n",
       "T060  [[0.008024161627028577, 0.0018653381442191473,...      NaN   12.0   \n",
       "T062  [[0.0397626245349285, 0.07767266683131223, 0.0...      NaN    1.0   \n",
       "\n",
       "      Level3  \n",
       "C578    11.0  \n",
       "T031    12.0  \n",
       "T060    13.0  \n",
       "T062    12.0  "
      ]
     },
     "execution_count": 134,
     "metadata": {},
     "output_type": "execute_result"
    }
   ],
   "source": [
    "file='/data/elekin/data/results/fmri/preproc/cbl/{}/cbl_extracted_ts.csv'\n",
    "df1 = pd.DataFrame(columns=['features'])\n",
    "idx = final_dataset[final_dataset.features.isna()].index\n",
    "\n",
    "for i in idx:\n",
    "    df = pd.read_csv(file.format(i))\n",
    "    df1.loc[len(df1.index)] = [df.apply(resample, num=158).values] \n",
    "    \n",
    "df1.index = idx\n",
    "df2 = df1.join(final_dataset.drop('features', axis=1))\n",
    "df2"
   ]
  },
  {
   "cell_type": "code",
   "execution_count": 135,
   "metadata": {},
   "outputs": [
    {
     "data": {
      "text/html": [
       "<div>\n",
       "<style scoped>\n",
       "    .dataframe tbody tr th:only-of-type {\n",
       "        vertical-align: middle;\n",
       "    }\n",
       "\n",
       "    .dataframe tbody tr th {\n",
       "        vertical-align: top;\n",
       "    }\n",
       "\n",
       "    .dataframe thead th {\n",
       "        text-align: right;\n",
       "    }\n",
       "</style>\n",
       "<table border=\"1\" class=\"dataframe\">\n",
       "  <thead>\n",
       "    <tr style=\"text-align: right;\">\n",
       "      <th></th>\n",
       "      <th>features</th>\n",
       "      <th>Suj_hist</th>\n",
       "      <th>Level</th>\n",
       "      <th>Level3</th>\n",
       "    </tr>\n",
       "  </thead>\n",
       "  <tbody>\n",
       "    <tr>\n",
       "      <th>C578</th>\n",
       "      <td>[[0.012177113239433575, 0.0235749165976185, -0...</td>\n",
       "      <td>NaN</td>\n",
       "      <td>0.0</td>\n",
       "      <td>11.0</td>\n",
       "    </tr>\n",
       "    <tr>\n",
       "      <th>T031</th>\n",
       "      <td>[[-0.017088325464119734, -0.02126877336426468,...</td>\n",
       "      <td>NaN</td>\n",
       "      <td>8.0</td>\n",
       "      <td>12.0</td>\n",
       "    </tr>\n",
       "    <tr>\n",
       "      <th>T060</th>\n",
       "      <td>[[0.008024161627028577, 0.0018653381442191473,...</td>\n",
       "      <td>NaN</td>\n",
       "      <td>12.0</td>\n",
       "      <td>13.0</td>\n",
       "    </tr>\n",
       "    <tr>\n",
       "      <th>T062</th>\n",
       "      <td>[[0.0397626245349285, 0.07767266683131223, 0.0...</td>\n",
       "      <td>NaN</td>\n",
       "      <td>1.0</td>\n",
       "      <td>12.0</td>\n",
       "    </tr>\n",
       "  </tbody>\n",
       "</table>\n",
       "</div>"
      ],
      "text/plain": [
       "                                               features Suj_hist  Level  \\\n",
       "C578  [[0.012177113239433575, 0.0235749165976185, -0...      NaN    0.0   \n",
       "T031  [[-0.017088325464119734, -0.02126877336426468,...      NaN    8.0   \n",
       "T060  [[0.008024161627028577, 0.0018653381442191473,...      NaN   12.0   \n",
       "T062  [[0.0397626245349285, 0.07767266683131223, 0.0...      NaN    1.0   \n",
       "\n",
       "      Level3  \n",
       "C578    11.0  \n",
       "T031    12.0  \n",
       "T060    13.0  \n",
       "T062    12.0  "
      ]
     },
     "execution_count": 135,
     "metadata": {},
     "output_type": "execute_result"
    }
   ],
   "source": [
    "final_dataset.loc[idx,:] = df2\n",
    "final_dataset.loc[idx,:]"
   ]
  },
  {
   "cell_type": "code",
   "execution_count": 151,
   "metadata": {},
   "outputs": [],
   "source": [
    "final_dataset.to_csv('/data/elekin/data/results/fmri/preproc/cbl/elekin_fmri_ts_pandas_{}.csv'.format(today))"
   ]
  },
  {
   "cell_type": "code",
   "execution_count": 136,
   "metadata": {
    "scrolled": true
   },
   "outputs": [
    {
     "name": "stdout",
     "output_type": "stream",
     "text": [
      "C001 (158, 28)\n",
      "C021 (158, 28)\n",
      "C026 (158, 28)\n",
      "C034 (158, 28)\n",
      "C045 (158, 28)\n",
      "C046 (158, 28)\n",
      "C048 (158, 28)\n",
      "C049 (158, 28)\n",
      "C070 (158, 28)\n",
      "C079 (158, 28)\n",
      "C084 (158, 28)\n",
      "C093 (158, 28)\n",
      "C101 (158, 28)\n",
      "C102 (158, 28)\n",
      "C103 (158, 28)\n",
      "C104 (158, 28)\n",
      "C109 (158, 28)\n",
      "C112 (158, 28)\n",
      "C113 (158, 28)\n",
      "C115 (158, 28)\n",
      "C127 (158, 28)\n",
      "C132 (158, 28)\n",
      "C143 (158, 28)\n",
      "C180 (158, 28)\n",
      "C182 (158, 28)\n",
      "C185 (158, 28)\n",
      "C192 (158, 28)\n",
      "C196 (158, 28)\n",
      "C203 (158, 28)\n",
      "C212 (158, 28)\n",
      "C221 (158, 28)\n",
      "C231 (158, 28)\n",
      "C234 (158, 28)\n",
      "C257 (158, 28)\n",
      "C260 (158, 28)\n",
      "C266 (158, 28)\n",
      "C275 (158, 28)\n",
      "C280 (158, 28)\n",
      "C282 (158, 28)\n",
      "C283 (158, 28)\n",
      "C294 (158, 28)\n",
      "C367 (158, 28)\n",
      "C374 (158, 28)\n",
      "C382 (158, 28)\n",
      "C452 (158, 28)\n",
      "C478 (158, 28)\n",
      "C503 (158, 28)\n",
      "C522 (158, 28)\n",
      "C528 (158, 28)\n",
      "C534 (158, 28)\n",
      "C575 (158, 28)\n",
      "C578 (158, 28)\n",
      "T001 (158, 28)\n",
      "T003 (158, 28)\n",
      "T004 (158, 28)\n",
      "T005 (158, 28)\n",
      "T006 (158, 28)\n",
      "T008 (158, 28)\n",
      "T009 (158, 28)\n",
      "T010 (158, 28)\n",
      "T012 (158, 28)\n",
      "T013 (158, 28)\n",
      "T014 (158, 28)\n",
      "T017 (158, 28)\n",
      "T018 (158, 28)\n",
      "T019 (158, 28)\n",
      "T021 (158, 28)\n",
      "T023 (158, 28)\n",
      "T024 (158, 28)\n",
      "T025 (158, 28)\n",
      "T027 (158, 28)\n",
      "T028 (158, 28)\n",
      "T029 (158, 28)\n",
      "T030 (158, 28)\n",
      "T031 (158, 28)\n",
      "T032 (158, 28)\n",
      "T033 (158, 28)\n",
      "T035 (158, 28)\n",
      "T040 (158, 28)\n",
      "T042 (158, 28)\n",
      "T043 (158, 28)\n",
      "T045 (158, 28)\n",
      "T046 (158, 28)\n",
      "T058 (158, 28)\n",
      "T059 (158, 28)\n",
      "T060 (158, 28)\n",
      "T061 (158, 28)\n",
      "T062 (158, 28)\n",
      "T063 (158, 28)\n",
      "T064 (158, 28)\n",
      "T065 (158, 28)\n",
      "T066 (158, 28)\n",
      "T068 (158, 28)\n",
      "T069 (158, 28)\n",
      "T072 (158, 28)\n",
      "T073 (158, 28)\n",
      "T074 (158, 28)\n",
      "T075 (158, 28)\n",
      "T078 (158, 28)\n",
      "T080 (158, 28)\n",
      "T081 (158, 28)\n",
      "T082 (158, 28)\n",
      "T034 (158, 28)\n",
      "T056 (158, 28)\n",
      "T079 (158, 28)\n"
     ]
    }
   ],
   "source": [
    "for i,v in zip(final_dataset.index, final_dataset.features):\n",
    "    print(i, v.shape)"
   ]
  },
  {
   "cell_type": "code",
   "execution_count": 172,
   "metadata": {},
   "outputs": [
    {
     "data": {
      "text/plain": [
       "(105, 158, 28)"
      ]
     },
     "execution_count": 172,
     "metadata": {},
     "output_type": "execute_result"
    }
   ],
   "source": [
    "np.array(final_dataset.features.dropna().values.tolist()).shape"
   ]
  },
  {
   "cell_type": "code",
   "execution_count": 148,
   "metadata": {},
   "outputs": [
    {
     "data": {
      "text/plain": [
       "<AxesSubplot:>"
      ]
     },
     "execution_count": 148,
     "metadata": {},
     "output_type": "execute_result"
    },
    {
     "data": {
      "image/png": "[encoded data removed]",
      "text/plain": [
       "<Figure size 432x288 with 1 Axes>"
      ]
     },
     "metadata": {
      "needs_background": "light"
     },
     "output_type": "display_data"
    }
   ],
   "source": [
    "pd.DataFrame(final_dataset.loc['C001'].features).plot(legend=False)"
   ]
  },
  {
   "cell_type": "code",
   "execution_count": 196,
   "metadata": {},
   "outputs": [],
   "source": [
    "for i in final_dataset.index:\n",
    "    pd.DataFrame(final_dataset.loc[i].features).\\\n",
    "    to_csv('/data/elekin/data/results/fmri/preproc/cbl/{}/cbl_extracted_ts_{}.csv'.\n",
    "           format(i, today),header=False, index=False)"
   ]
  },
  {
   "cell_type": "code",
   "execution_count": 223,
   "metadata": {},
   "outputs": [],
   "source": [
    "data = []\n",
    "for i in final_dataset.index:\n",
    "    df = pd.read_csv('/data/elekin/data/results/fmri/preproc/cbl/{}/cbl_extracted_ts_{}.csv'.format(i, today), header=None)\n",
    "    data.append(df.values.flatten())"
   ]
  },
  {
   "cell_type": "code",
   "execution_count": 224,
   "metadata": {},
   "outputs": [
    {
     "data": {
      "text/plain": [
       "(105, 4424)"
      ]
     },
     "execution_count": 224,
     "metadata": {},
     "output_type": "execute_result"
    }
   ],
   "source": [
    "np.array(data).shape"
   ]
  },
  {
   "cell_type": "code",
   "execution_count": 225,
   "metadata": {},
   "outputs": [],
   "source": [
    "data = []\n",
    "for i in final_dataset.index:\n",
    "    df = pd.read_csv('/data/elekin/data/results/fmri/preproc/cbl/{}/cbl_extracted_ts_{}.csv'.format(i, today), header=None)\n",
    "    data.append(df.values)"
   ]
  },
  {
   "cell_type": "code",
   "execution_count": 226,
   "metadata": {},
   "outputs": [
    {
     "data": {
      "text/plain": [
       "(105, 158, 28)"
      ]
     },
     "execution_count": 226,
     "metadata": {},
     "output_type": "execute_result"
    }
   ],
   "source": [
    "np.array(data).shape"
   ]
  },
  {
   "cell_type": "code",
   "execution_count": 235,
   "metadata": {},
   "outputs": [],
   "source": [
    "final_dataset[['Level','Level3']].to_csv('/data/elekin/data/results/fmri/preproc/cbl/cbl_levels_{}.csv'.format(today))"
   ]
  }
 ],
 "metadata": {
  "kernelspec": {
   "display_name": "Python 3",
   "language": "python",
   "name": "python3"
  },
  "language_info": {
   "codemirror_mode": {
    "name": "ipython",
    "version": 3
   },
   "file_extension": ".py",
   "mimetype": "text/x-python",
   "name": "python",
   "nbconvert_exporter": "python",
   "pygments_lexer": "ipython3",
   "version": "3.8.10"
  }
 },
 "nbformat": 4,
 "nbformat_minor": 2
}
