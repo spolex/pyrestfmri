{
 "cells": [
  {
   "cell_type": "markdown",
   "metadata": {},
   "source": [
    "# Extraction of motion correction parameters\n",
    "MCFLIRT is an intra-modal motion correction tool designed for use on fMRI time series and based on optimization and registration techniques used in FLIRT, a fully automated robust and accurate tool for linear (affine) inter- and inter-modal brain image registration.\n",
    "\n",
    "_Jenkinson, M., Bannister, P., Brady, J. M. and Smith, S. M. Improved Optimisation for the Robust and Accurate Linear Registration and Motion Correction of Brain Images. NeuroImage, 17(2), 825-841, 2002._"
   ]
  },
  {
   "cell_type": "code",
   "execution_count": 3,
   "metadata": {},
   "outputs": [
    {
     "ename": "ModuleNotFoundError",
     "evalue": "No module named 'nipype.workflows.fmri'",
     "output_type": "error",
     "traceback": [
      "\u001b[0;31m---------------------------------------------------------------------------\u001b[0m",
      "\u001b[0;31mModuleNotFoundError\u001b[0m                       Traceback (most recent call last)",
      "Input \u001b[0;32mIn [3]\u001b[0m, in \u001b[0;36m<cell line: 1>\u001b[0;34m()\u001b[0m\n\u001b[0;32m----> 1\u001b[0m \u001b[38;5;28;01mfrom\u001b[39;00m \u001b[38;5;21;01mnipype\u001b[39;00m\u001b[38;5;21;01m.\u001b[39;00m\u001b[38;5;21;01mworkflows\u001b[39;00m\u001b[38;5;21;01m.\u001b[39;00m\u001b[38;5;21;01mfmri\u001b[39;00m\u001b[38;5;21;01m.\u001b[39;00m\u001b[38;5;21;01mfsl\u001b[39;00m \u001b[38;5;28;01mimport\u001b[39;00m resting\n",
      "\u001b[0;31mModuleNotFoundError\u001b[0m: No module named 'nipype.workflows.fmri'"
     ]
    }
   ],
   "source": [
    "from nipype.workflows.rsfmri.fsl import resting"
   ]
  },
  {
   "cell_type": "code",
   "execution_count": 1,
   "metadata": {},
   "outputs": [],
   "source": [
    "func_filenames = \"/data/elekin/data/results/fmri/preproc/_session_id_1_subject_id_C578/select_volumes/sub-T004_ses-1_task-rest_bold_trim.nii.gz\"\n",
    "mcflirt_out_file = \"/data/elekin/data/results/fmri/preproc/_session_id_1_subject_id_C578/mcflirt_new/sub-T004_ses-1_task-rest_bold_trim_mcflirt.nii.gz\"\n",
    "mcflirt_par_file = \"/data/elekin/data/results/fmri/preproc/_session_id_1_subject_id_C578/mcflirt_new/sub-T004_ses-1_task-rest_bold_trim_mcflirt.par\""
   ]
  },
  {
   "cell_type": "markdown",
   "metadata": {},
   "source": [
    "Realign a time series to the middle volume using spline interpolation\n",
    "\n",
    "Uses MCFLIRT to realign the time series and ApplyWarp to apply the rigid body transformations using spline interpolation (unknown order)."
   ]
  },
  {
   "cell_type": "code",
   "execution_count": 60,
   "metadata": {},
   "outputs": [
    {
     "data": {
      "text/plain": [
       "'mcflirt -in /home/elekin/datos-niix/preproc/_session_id_1_subject_id_T004/select_volumes/sub-T004_ses-1_task-rest_bold_trim.nii.gz -cost mutualinfo -out /home/elekin/datos-niix/preproc/_session_id_1_subject_id_T004/mcflirt_new/sub-T004_ses-1_task-rest_bold_trim_mcflirt.nii.gz -plots'"
      ]
     },
     "execution_count": 60,
     "metadata": {},
     "output_type": "execute_result"
    }
   ],
   "source": [
    "from nipype.interfaces import fsl\n",
    "mcflt = fsl.MCFLIRT()\n",
    "mcflt.inputs.in_file = func_filenames\n",
    "mcflt.inputs.cost = 'mutualinfo'\n",
    "mcflt.inputs.out_file = mcflirt_out_file\n",
    "mcflt.inputs.save_plots=True\n",
    "mcflt.cmdline"
   ]
  },
  {
   "cell_type": "code",
   "execution_count": 38,
   "metadata": {},
   "outputs": [],
   "source": [
    "result = mcflt.run()"
   ]
  },
  {
   "cell_type": "code",
   "execution_count": 61,
   "metadata": {},
   "outputs": [
    {
     "data": {
      "text/plain": [
       "\n",
       "mat_file = <undefined>\n",
       "mean_img = <undefined>\n",
       "out_file = /home/elekin/datos-niix/preproc/_session_id_1_subject_id_T004/mcflirt_new/sub-T004_ses-1_task-rest_bold_trim_mcflirt.nii.gz\n",
       "par_file = /home/elekin/datos-niix/preproc/_session_id_1_subject_id_T004/mcflirt_new/sub-T004_ses-1_task-rest_bold_trim_mcflirt.nii.gz.par\n",
       "rms_files = <undefined>\n",
       "std_img = <undefined>\n",
       "variance_img = <undefined>"
      ]
     },
     "execution_count": 61,
     "metadata": {},
     "output_type": "execute_result"
    }
   ],
   "source": [
    "result.outputs"
   ]
  },
  {
   "cell_type": "markdown",
   "metadata": {},
   "source": [
    "Wraps the executable command fsl_tsplot.\n",
    "\n",
    "Use fsl_tsplot to plot the estimated motion parameters from a realignment program."
   ]
  },
  {
   "cell_type": "code",
   "execution_count": 75,
   "metadata": {},
   "outputs": [],
   "source": [
    "import nipype.interfaces.fsl as fsl\n",
    "plotter = fsl.PlotMotionParams()\n",
    "plotter.inputs.in_file = result.outputs.par_file\n",
    "plotter.inputs.out_file = 'rotations.png'\n",
    "plotter.inputs.in_source = 'fsl'\n",
    "plotter.inputs.plot_type = 'rotations'\n",
    "plot_res = plotter.run()"
   ]
  },
  {
   "cell_type": "code",
   "execution_count": 73,
   "metadata": {},
   "outputs": [
    {
     "data": {
      "text/plain": [
       "\n",
       "out_file = /home/elekin/pyrestfmri/notebooks/rotations.png"
      ]
     },
     "execution_count": 73,
     "metadata": {},
     "output_type": "execute_result"
    }
   ],
   "source": [
    "plot_res.outputs"
   ]
  },
  {
   "cell_type": "markdown",
   "metadata": {},
   "source": [
    "![alt text](rotations.png \"Logo Title Text 1\")\n"
   ]
  },
  {
   "cell_type": "code",
   "execution_count": 81,
   "metadata": {},
   "outputs": [
    {
     "data": {
      "text/plain": [
       "'fsl_tsplot'"
      ]
     },
     "execution_count": 81,
     "metadata": {},
     "output_type": "execute_result"
    }
   ],
   "source": [
    "plotter.inputs.out_file = 'translation.png'\n",
    "plotter.inputs.plot_type = 'translations'\n",
    "plotter.cmd"
   ]
  },
  {
   "cell_type": "code",
   "execution_count": 83,
   "metadata": {},
   "outputs": [
    {
     "data": {
      "text/plain": [
       "\n",
       "out_file = /home/elekin/pyrestfmri/notebooks/translation.png"
      ]
     },
     "execution_count": 83,
     "metadata": {},
     "output_type": "execute_result"
    }
   ],
   "source": [
    "plot_res = plotter.run()\n",
    "plot_res.outputs"
   ]
  },
  {
   "cell_type": "markdown",
   "metadata": {},
   "source": [
    "![alt text](translation.png \"Logo Title Text 1\")"
   ]
  }
 ],
 "metadata": {
  "kernelspec": {
   "display_name": "Python 3",
   "language": "python",
   "name": "python3"
  },
  "language_info": {
   "codemirror_mode": {
    "name": "ipython",
    "version": 3
   },
   "file_extension": ".py",
   "mimetype": "text/x-python",
   "name": "python",
   "nbconvert_exporter": "python",
   "pygments_lexer": "ipython3",
   "version": "3.8.10"
  }
 },
 "nbformat": 4,
 "nbformat_minor": 2
}
