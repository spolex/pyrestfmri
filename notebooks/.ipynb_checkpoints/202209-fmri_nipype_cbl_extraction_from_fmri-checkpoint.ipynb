{
 "cells": [
  {
   "cell_type": "code",
   "execution_count": 12,
   "metadata": {},
   "outputs": [],
   "source": [
    "from nipype.interfaces.fsl import preprocess\n",
    "from nipype.interfaces.fsl import ImageMaths\n",
    "from nilearn import plotting\n",
    "%matplotlib inline\n",
    "from niwidgets import NiftiWidget\n",
    "import ipywidgets as widgets\n",
    "import warnings\n",
    "warnings.filterwarnings('ignore')\n",
    "from IPython.display import display\n",
    "from IPython.display import Javascript\n",
    "import nilearn.plotting as nip#for using nilearn plot functions\n",
    "from nilearn.image.image import mean_img,load_img"
   ]
  },
  {
   "cell_type": "code",
   "execution_count": 13,
   "metadata": {},
   "outputs": [],
   "source": [
    "origing_path = \"/data/elekin/data/origin/fmri\"\n",
    "results_path = \"/data/elekin/data/results/fmri/preproc/*\""
   ]
  },
  {
   "cell_type": "code",
   "execution_count": 14,
   "metadata": {
    "scrolled": true
   },
   "outputs": [],
   "source": [
    "list_subjs = !ls -d $results_path | grep session"
   ]
  },
  {
   "cell_type": "code",
   "execution_count": 5,
   "metadata": {},
   "outputs": [],
   "source": [
    "def run_cells_below():\n",
    "    display(Javascript(\"Jupyter.notebook.execute_cell_range(6,10)\"))"
   ]
  },
  {
   "cell_type": "code",
   "execution_count": 6,
   "metadata": {},
   "outputs": [
    {
     "data": {
      "application/vnd.jupyter.widget-view+json": {
       "model_id": "90fda45a39184b838f6a53d2120c2cdd",
       "version_major": 2,
       "version_minor": 0
      },
      "text/plain": [
       "Select(description='Subject Id:', options=('/data/elekin/data/results/fmri/preproc/_session_id_1_subject_id_C0…"
      ]
     },
     "metadata": {},
     "output_type": "display_data"
    }
   ],
   "source": [
    "subj_id_selector = widgets.Select(\n",
    "    options=list_subjs,\n",
    "    # value='C575',\n",
    "    # rows=10,\n",
    "    description='Subject Id:',\n",
    "    disabled=False\n",
    ")\n",
    "#subj_id_selector.on_trait_change(run_cells_below)\n",
    "display(subj_id_selector)"
   ]
  },
  {
   "cell_type": "code",
   "execution_count": 7,
   "metadata": {},
   "outputs": [
    {
     "name": "stdout",
     "output_type": "stream",
     "text": [
      "/data/elekin/data/results/fmri/preproc/_session_id_1_subject_id_C021\n"
     ]
    }
   ],
   "source": [
    "mni_template = \"../../datos/TEMPLATES/MNI152_T1_1mm.nii.gz\"\n",
    "mni_3mm_template = \"../../datos/TEMPLATES/MNI152_T1_3mm.nii.gz\"\n",
    "cbl_template = \"../../datos/TEMPLATES/Cerebellum-MNIflirt-maxprob-thr0-1mm.nii.gz\"\n",
    "cbl_template_prob = \"../../datos/TEMPLATES/Cerebellum-MNIflirt-prob-2mm.nii.gz\"\n",
    "neck_filename = subj_id_selector.value+\"/Neck_remover/mprage_ROI.nii.gz\"\n",
    "skull_filename = subj_id_selector.value+\"/skull_strip/mprage_ROI_flirt_brain.nii.gz\"\n",
    "bold_filename = subj_id_selector.value+\"/applyTransFunc/f1_trim_st_mcf_trans.nii.gz\"\n",
    "print(subj_id_selector.value)"
   ]
  },
  {
   "cell_type": "code",
   "execution_count": 8,
   "metadata": {},
   "outputs": [
    {
     "ename": "TraitError",
     "evalue": "The 'in_file' trait of an ImageMathsInputSpec instance must be a pathlike object or string representing an existing file, but a value of '../../datos/TEMPLATES/Cerebellum-MNIflirt-maxprob-thr0-1mm.nii.gz' <class 'str'> was specified.",
     "output_type": "error",
     "traceback": [
      "\u001b[0;31m---------------------------------------------------------------------------\u001b[0m",
      "\u001b[0;31mTraitError\u001b[0m                                Traceback (most recent call last)",
      "Input \u001b[0;32mIn [8]\u001b[0m, in \u001b[0;36m<cell line: 1>\u001b[0;34m()\u001b[0m\n\u001b[0;32m----> 1\u001b[0m maths \u001b[38;5;241m=\u001b[39m \u001b[43mImageMaths\u001b[49m\u001b[43m(\u001b[49m\u001b[43min_file\u001b[49m\u001b[38;5;241;43m=\u001b[39;49m\u001b[43mcbl_template\u001b[49m\u001b[43m,\u001b[49m\u001b[43m \u001b[49m\u001b[43mop_string\u001b[49m\u001b[38;5;241;43m=\u001b[39;49m\u001b[43m \u001b[49m\u001b[38;5;124;43m'\u001b[39;49m\u001b[38;5;124;43m-bin\u001b[39;49m\u001b[38;5;124;43m'\u001b[39;49m\u001b[43m)\u001b[49m\n\u001b[1;32m      2\u001b[0m maths\u001b[38;5;241m.\u001b[39mverbose \u001b[38;5;241m=\u001b[39m \u001b[38;5;28;01mTrue\u001b[39;00m\n\u001b[1;32m      3\u001b[0m bin_result \u001b[38;5;241m=\u001b[39m maths\u001b[38;5;241m.\u001b[39mrun()\n",
      "File \u001b[0;32m/usr/local/lib/python3.8/dist-packages/nipype/interfaces/fsl/base.py:171\u001b[0m, in \u001b[0;36mFSLCommand.__init__\u001b[0;34m(self, **inputs)\u001b[0m\n\u001b[1;32m    170\u001b[0m \u001b[38;5;28;01mdef\u001b[39;00m \u001b[38;5;21m__init__\u001b[39m(\u001b[38;5;28mself\u001b[39m, \u001b[38;5;241m*\u001b[39m\u001b[38;5;241m*\u001b[39minputs):\n\u001b[0;32m--> 171\u001b[0m     \u001b[38;5;28;43msuper\u001b[39;49m\u001b[43m(\u001b[49m\u001b[43mFSLCommand\u001b[49m\u001b[43m,\u001b[49m\u001b[43m \u001b[49m\u001b[38;5;28;43mself\u001b[39;49m\u001b[43m)\u001b[49m\u001b[38;5;241;43m.\u001b[39;49m\u001b[38;5;21;43m__init__\u001b[39;49m\u001b[43m(\u001b[49m\u001b[38;5;241;43m*\u001b[39;49m\u001b[38;5;241;43m*\u001b[39;49m\u001b[43minputs\u001b[49m\u001b[43m)\u001b[49m\n\u001b[1;32m    172\u001b[0m     \u001b[38;5;28mself\u001b[39m\u001b[38;5;241m.\u001b[39minputs\u001b[38;5;241m.\u001b[39mon_trait_change(\u001b[38;5;28mself\u001b[39m\u001b[38;5;241m.\u001b[39m_output_update, \u001b[38;5;124m\"\u001b[39m\u001b[38;5;124moutput_type\u001b[39m\u001b[38;5;124m\"\u001b[39m)\n\u001b[1;32m    174\u001b[0m     \u001b[38;5;28;01mif\u001b[39;00m \u001b[38;5;28mself\u001b[39m\u001b[38;5;241m.\u001b[39m_output_type \u001b[38;5;129;01mis\u001b[39;00m \u001b[38;5;28;01mNone\u001b[39;00m:\n",
      "File \u001b[0;32m/usr/local/lib/python3.8/dist-packages/nipype/interfaces/base/core.py:630\u001b[0m, in \u001b[0;36mCommandLine.__init__\u001b[0;34m(self, command, terminal_output, write_cmdline, **inputs)\u001b[0m\n\u001b[1;32m    627\u001b[0m \u001b[38;5;28;01mdef\u001b[39;00m \u001b[38;5;21m__init__\u001b[39m(\n\u001b[1;32m    628\u001b[0m     \u001b[38;5;28mself\u001b[39m, command\u001b[38;5;241m=\u001b[39m\u001b[38;5;28;01mNone\u001b[39;00m, terminal_output\u001b[38;5;241m=\u001b[39m\u001b[38;5;28;01mNone\u001b[39;00m, write_cmdline\u001b[38;5;241m=\u001b[39m\u001b[38;5;28;01mFalse\u001b[39;00m, \u001b[38;5;241m*\u001b[39m\u001b[38;5;241m*\u001b[39minputs\n\u001b[1;32m    629\u001b[0m ):\n\u001b[0;32m--> 630\u001b[0m     \u001b[38;5;28;43msuper\u001b[39;49m\u001b[43m(\u001b[49m\u001b[43mCommandLine\u001b[49m\u001b[43m,\u001b[49m\u001b[43m \u001b[49m\u001b[38;5;28;43mself\u001b[39;49m\u001b[43m)\u001b[49m\u001b[38;5;241;43m.\u001b[39;49m\u001b[38;5;21;43m__init__\u001b[39;49m\u001b[43m(\u001b[49m\u001b[38;5;241;43m*\u001b[39;49m\u001b[38;5;241;43m*\u001b[39;49m\u001b[43minputs\u001b[49m\u001b[43m)\u001b[49m\n\u001b[1;32m    631\u001b[0m     \u001b[38;5;28mself\u001b[39m\u001b[38;5;241m.\u001b[39m_environ \u001b[38;5;241m=\u001b[39m \u001b[38;5;28;01mNone\u001b[39;00m\n\u001b[1;32m    632\u001b[0m     \u001b[38;5;66;03m# Set command. Input argument takes precedence\u001b[39;00m\n",
      "File \u001b[0;32m/usr/local/lib/python3.8/dist-packages/nipype/interfaces/base/core.py:202\u001b[0m, in \u001b[0;36mBaseInterface.__init__\u001b[0;34m(self, from_file, resource_monitor, ignore_exception, **inputs)\u001b[0m\n\u001b[1;32m    200\u001b[0m \u001b[38;5;28;01mif\u001b[39;00m unavailable_traits:\n\u001b[1;32m    201\u001b[0m     \u001b[38;5;28mself\u001b[39m\u001b[38;5;241m.\u001b[39minputs\u001b[38;5;241m.\u001b[39mtrait_set(\u001b[38;5;241m*\u001b[39m\u001b[38;5;241m*\u001b[39m{k: Undefined \u001b[38;5;28;01mfor\u001b[39;00m k \u001b[38;5;129;01min\u001b[39;00m unavailable_traits})\n\u001b[0;32m--> 202\u001b[0m \u001b[38;5;28;43mself\u001b[39;49m\u001b[38;5;241;43m.\u001b[39;49m\u001b[43minputs\u001b[49m\u001b[38;5;241;43m.\u001b[39;49m\u001b[43mtrait_set\u001b[49m\u001b[43m(\u001b[49m\u001b[38;5;241;43m*\u001b[39;49m\u001b[38;5;241;43m*\u001b[39;49m\u001b[43minputs\u001b[49m\u001b[43m)\u001b[49m\n\u001b[1;32m    204\u001b[0m \u001b[38;5;28mself\u001b[39m\u001b[38;5;241m.\u001b[39mignore_exception \u001b[38;5;241m=\u001b[39m ignore_exception\n\u001b[1;32m    206\u001b[0m \u001b[38;5;28;01mif\u001b[39;00m resource_monitor \u001b[38;5;129;01mis\u001b[39;00m \u001b[38;5;129;01mnot\u001b[39;00m \u001b[38;5;28;01mNone\u001b[39;00m:\n",
      "File \u001b[0;32m/usr/local/lib/python3.8/dist-packages/traits/has_traits.py:1520\u001b[0m, in \u001b[0;36mHasTraits.trait_set\u001b[0;34m(self, trait_change_notify, **traits)\u001b[0m\n\u001b[1;32m   1518\u001b[0m \u001b[38;5;28;01melse\u001b[39;00m:\n\u001b[1;32m   1519\u001b[0m     \u001b[38;5;28;01mfor\u001b[39;00m name, value \u001b[38;5;129;01min\u001b[39;00m traits\u001b[38;5;241m.\u001b[39mitems():\n\u001b[0;32m-> 1520\u001b[0m         \u001b[38;5;28;43msetattr\u001b[39;49m\u001b[43m(\u001b[49m\u001b[38;5;28;43mself\u001b[39;49m\u001b[43m,\u001b[49m\u001b[43m \u001b[49m\u001b[43mname\u001b[49m\u001b[43m,\u001b[49m\u001b[43m \u001b[49m\u001b[43mvalue\u001b[49m\u001b[43m)\u001b[49m\n\u001b[1;32m   1522\u001b[0m \u001b[38;5;28;01mreturn\u001b[39;00m \u001b[38;5;28mself\u001b[39m\n",
      "File \u001b[0;32m/usr/local/lib/python3.8/dist-packages/nipype/interfaces/base/traits_extension.py:330\u001b[0m, in \u001b[0;36mFile.validate\u001b[0;34m(self, objekt, name, value, return_pathlike)\u001b[0m\n\u001b[1;32m    328\u001b[0m \u001b[38;5;28;01mdef\u001b[39;00m \u001b[38;5;21mvalidate\u001b[39m(\u001b[38;5;28mself\u001b[39m, objekt, name, value, return_pathlike\u001b[38;5;241m=\u001b[39m\u001b[38;5;28;01mFalse\u001b[39;00m):\n\u001b[1;32m    329\u001b[0m     \u001b[38;5;124;03m\"\"\"Validate a value change.\"\"\"\u001b[39;00m\n\u001b[0;32m--> 330\u001b[0m     value \u001b[38;5;241m=\u001b[39m \u001b[38;5;28;43msuper\u001b[39;49m\u001b[43m(\u001b[49m\u001b[43mFile\u001b[49m\u001b[43m,\u001b[49m\u001b[43m \u001b[49m\u001b[38;5;28;43mself\u001b[39;49m\u001b[43m)\u001b[49m\u001b[38;5;241;43m.\u001b[39;49m\u001b[43mvalidate\u001b[49m\u001b[43m(\u001b[49m\u001b[43mobjekt\u001b[49m\u001b[43m,\u001b[49m\u001b[43m \u001b[49m\u001b[43mname\u001b[49m\u001b[43m,\u001b[49m\u001b[43m \u001b[49m\u001b[43mvalue\u001b[49m\u001b[43m,\u001b[49m\u001b[43m \u001b[49m\u001b[43mreturn_pathlike\u001b[49m\u001b[38;5;241;43m=\u001b[39;49m\u001b[38;5;28;43;01mTrue\u001b[39;49;00m\u001b[43m)\u001b[49m\n\u001b[1;32m    331\u001b[0m     \u001b[38;5;28;01mif\u001b[39;00m \u001b[38;5;28mself\u001b[39m\u001b[38;5;241m.\u001b[39m_exts:\n\u001b[1;32m    332\u001b[0m         fname \u001b[38;5;241m=\u001b[39m value\u001b[38;5;241m.\u001b[39mname\n",
      "File \u001b[0;32m/usr/local/lib/python3.8/dist-packages/nipype/interfaces/base/traits_extension.py:135\u001b[0m, in \u001b[0;36mBasePath.validate\u001b[0;34m(self, objekt, name, value, return_pathlike)\u001b[0m\n\u001b[1;32m    133\u001b[0m \u001b[38;5;28;01mif\u001b[39;00m \u001b[38;5;28mself\u001b[39m\u001b[38;5;241m.\u001b[39mexists:\n\u001b[1;32m    134\u001b[0m     \u001b[38;5;28;01mif\u001b[39;00m \u001b[38;5;129;01mnot\u001b[39;00m value\u001b[38;5;241m.\u001b[39mexists():\n\u001b[0;32m--> 135\u001b[0m         \u001b[38;5;28;43mself\u001b[39;49m\u001b[38;5;241;43m.\u001b[39;49m\u001b[43merror\u001b[49m\u001b[43m(\u001b[49m\u001b[43mobjekt\u001b[49m\u001b[43m,\u001b[49m\u001b[43m \u001b[49m\u001b[43mname\u001b[49m\u001b[43m,\u001b[49m\u001b[43m \u001b[49m\u001b[38;5;28;43mstr\u001b[39;49m\u001b[43m(\u001b[49m\u001b[43mvalue\u001b[49m\u001b[43m)\u001b[49m\u001b[43m)\u001b[49m\n\u001b[1;32m    137\u001b[0m     \u001b[38;5;28;01mif\u001b[39;00m \u001b[38;5;28mself\u001b[39m\u001b[38;5;241m.\u001b[39m_is_file \u001b[38;5;129;01mand\u001b[39;00m \u001b[38;5;129;01mnot\u001b[39;00m value\u001b[38;5;241m.\u001b[39mis_file():\n\u001b[1;32m    138\u001b[0m         \u001b[38;5;28mself\u001b[39m\u001b[38;5;241m.\u001b[39merror(objekt, name, \u001b[38;5;28mstr\u001b[39m(value))\n",
      "File \u001b[0;32m/usr/local/lib/python3.8/dist-packages/traits/base_trait_handler.py:74\u001b[0m, in \u001b[0;36mBaseTraitHandler.error\u001b[0;34m(self, object, name, value)\u001b[0m\n\u001b[1;32m     57\u001b[0m \u001b[38;5;28;01mdef\u001b[39;00m \u001b[38;5;21merror\u001b[39m(\u001b[38;5;28mself\u001b[39m, \u001b[38;5;28mobject\u001b[39m, name, value):\n\u001b[1;32m     58\u001b[0m     \u001b[38;5;124;03m\"\"\"Raises a TraitError exception.\u001b[39;00m\n\u001b[1;32m     59\u001b[0m \n\u001b[1;32m     60\u001b[0m \u001b[38;5;124;03m    This method is called by the validate() method when an assigned value\u001b[39;00m\n\u001b[0;32m   (...)\u001b[0m\n\u001b[1;32m     72\u001b[0m \u001b[38;5;124;03m        The proposed new value for the attribute.\u001b[39;00m\n\u001b[1;32m     73\u001b[0m \u001b[38;5;124;03m    \"\"\"\u001b[39;00m\n\u001b[0;32m---> 74\u001b[0m     \u001b[38;5;28;01mraise\u001b[39;00m TraitError(\n\u001b[1;32m     75\u001b[0m         \u001b[38;5;28mobject\u001b[39m, name, \u001b[38;5;28mself\u001b[39m\u001b[38;5;241m.\u001b[39mfull_info(\u001b[38;5;28mobject\u001b[39m, name, value), value\n\u001b[1;32m     76\u001b[0m     )\n",
      "\u001b[0;31mTraitError\u001b[0m: The 'in_file' trait of an ImageMathsInputSpec instance must be a pathlike object or string representing an existing file, but a value of '../../datos/TEMPLATES/Cerebellum-MNIflirt-maxprob-thr0-1mm.nii.gz' <class 'str'> was specified."
     ]
    }
   ],
   "source": [
    "maths = ImageMaths(in_file=cbl_template, op_string= '-bin')\n",
    "maths.verbose = True\n",
    "bin_result = maths.run()"
   ]
  },
  {
   "cell_type": "code",
   "execution_count": 9,
   "metadata": {},
   "outputs": [
    {
     "ename": "NameError",
     "evalue": "name 'bin_result' is not defined",
     "output_type": "error",
     "traceback": [
      "\u001b[0;31m---------------------------------------------------------------------------\u001b[0m",
      "\u001b[0;31mNameError\u001b[0m                                 Traceback (most recent call last)",
      "Input \u001b[0;32mIn [9]\u001b[0m, in \u001b[0;36m<cell line: 1>\u001b[0;34m()\u001b[0m\n\u001b[0;32m----> 1\u001b[0m anat_widget \u001b[38;5;241m=\u001b[39m NiftiWidget(\u001b[43mbin_result\u001b[49m\u001b[38;5;241m.\u001b[39moutputs\u001b[38;5;241m.\u001b[39mout_file)\n\u001b[1;32m      2\u001b[0m anat_widget\u001b[38;5;241m.\u001b[39mnifti_plotter()\n",
      "\u001b[0;31mNameError\u001b[0m: name 'bin_result' is not defined"
     ]
    }
   ],
   "source": [
    "anat_widget = NiftiWidget(bin_result.outputs.out_file)\n",
    "anat_widget.nifti_plotter()"
   ]
  },
  {
   "cell_type": "code",
   "execution_count": 10,
   "metadata": {
    "scrolled": true
   },
   "outputs": [
    {
     "ename": "NameError",
     "evalue": "name 'bin_result' is not defined",
     "output_type": "error",
     "traceback": [
      "\u001b[0;31m---------------------------------------------------------------------------\u001b[0m",
      "\u001b[0;31mNameError\u001b[0m                                 Traceback (most recent call last)",
      "Input \u001b[0;32mIn [10]\u001b[0m, in \u001b[0;36m<cell line: 1>\u001b[0;34m()\u001b[0m\n\u001b[0;32m----> 1\u001b[0m cbl_img \u001b[38;5;241m=\u001b[39m load_img(\u001b[43mbin_result\u001b[49m\u001b[38;5;241m.\u001b[39moutputs\u001b[38;5;241m.\u001b[39mout_file)\n",
      "\u001b[0;31mNameError\u001b[0m: name 'bin_result' is not defined"
     ]
    }
   ],
   "source": [
    "cbl_img = load_img(bin_result.outputs.out_file)"
   ]
  },
  {
   "cell_type": "code",
   "execution_count": 11,
   "metadata": {},
   "outputs": [
    {
     "ename": "NameError",
     "evalue": "name 'cbl_img' is not defined",
     "output_type": "error",
     "traceback": [
      "\u001b[0;31m---------------------------------------------------------------------------\u001b[0m",
      "\u001b[0;31mNameError\u001b[0m                                 Traceback (most recent call last)",
      "Input \u001b[0;32mIn [11]\u001b[0m, in \u001b[0;36m<cell line: 1>\u001b[0;34m()\u001b[0m\n\u001b[0;32m----> 1\u001b[0m \u001b[38;5;28mprint\u001b[39m(\u001b[43mcbl_img\u001b[49m\u001b[38;5;241m.\u001b[39mheader[\u001b[38;5;124m\"\u001b[39m\u001b[38;5;124mdim\u001b[39m\u001b[38;5;124m\"\u001b[39m])\n",
      "\u001b[0;31mNameError\u001b[0m: name 'cbl_img' is not defined"
     ]
    }
   ],
   "source": [
    "print(cbl_img.header[\"dim\"])"
   ]
  },
  {
   "cell_type": "code",
   "execution_count": 12,
   "metadata": {
    "scrolled": true
   },
   "outputs": [],
   "source": [
    "bold_img = load_img(bold_filename)"
   ]
  },
  {
   "cell_type": "code",
   "execution_count": 13,
   "metadata": {},
   "outputs": [
    {
     "name": "stdout",
     "output_type": "stream",
     "text": [
      "[  4  61  73  61 158   1   1   1]\n"
     ]
    }
   ],
   "source": [
    "print(bold_img.header[\"dim\"])"
   ]
  },
  {
   "cell_type": "code",
   "execution_count": 22,
   "metadata": {},
   "outputs": [],
   "source": [
    "from nilearn.input_data import NiftiMasker,NiftiMapsMasker\n",
    "masker = NiftiMasker(mask_img=bin_result.outputs.out_file, standardize=True)\n",
    "fmri_masked = masker.fit_transform(bold_filename)"
   ]
  },
  {
   "cell_type": "code",
   "execution_count": 15,
   "metadata": {},
   "outputs": [],
   "source": [
    "fmri_cbl = masker.inverse_transform(fmri_masked)"
   ]
  },
  {
   "cell_type": "code",
   "execution_count": null,
   "metadata": {},
   "outputs": [],
   "source": [
    "fmri_cbl.get_data().shape"
   ]
  },
  {
   "cell_type": "code",
   "execution_count": 17,
   "metadata": {},
   "outputs": [
    {
     "data": {
      "text/plain": [
       "<Figure size 432x288 with 0 Axes>"
      ]
     },
     "metadata": {},
     "output_type": "display_data"
    },
    {
     "data": {
      "application/vnd.jupyter.widget-view+json": {
       "model_id": "279a25d1c2c94404b7c9b31739fa746e",
       "version_major": 2,
       "version_minor": 0
      },
      "text/plain": [
       "interactive(children=(IntSlider(value=90, continuous_update=False, description='x', max=181), IntSlider(value=…"
      ]
     },
     "metadata": {},
     "output_type": "display_data"
    }
   ],
   "source": [
    "roi_widget = NiftiWidget(fmri_cbl)\n",
    "roi_widget.nifti_plotter()"
   ]
  },
  {
   "cell_type": "code",
   "execution_count": 25,
   "metadata": {},
   "outputs": [
    {
     "name": "stdout",
     "output_type": "stream",
     "text": [
      "[NiftiMapsMasker.fit_transform] loading regions from ../../datos/TEMPLATES/Cerebellum-MNIflirt-prob-2mm.nii.gz\n",
      "Resampling maps\n",
      "________________________________________________________________________________\n",
      "[Memory] Calling nilearn.image.resampling.resample_img...\n",
      "resample_img(<nibabel.nifti1.Nifti1Image object at 0x7f577ffa8898>, interpolation='continuous', target_shape=(61, 73, 61), target_affine=array([[  -3.,    0.,    0.,   90.],\n",
      "       [   0.,    3.,    0., -126.],\n",
      "       [   0.,    0.,    3.,  -72.],\n",
      "       [   0.,    0.,    0.,    1.]]))\n",
      "_____________________________________________________resample_img - 5.3s, 0.1min\n",
      "________________________________________________________________________________\n",
      "[Memory] Calling nilearn.input_data.base_masker.filter_and_extract...\n",
      "filter_and_extract('../../results/output/preproc/_session_id_1_subject_id_T078/applyTransFunc/f1_trim_st_mcf_trans.nii.gz', \n",
      "<nilearn.input_data.nifti_maps_masker._ExtractionFunctor object at 0x7f57c190c828>, \n",
      "{ 'allow_overlap': True,\n",
      "  'detrend': True,\n",
      "  'dtype': None,\n",
      "  'high_pass': None,\n",
      "  'low_pass': None,\n",
      "  'maps_img': '../../datos/TEMPLATES/Cerebellum-MNIflirt-prob-2mm.nii.gz',\n",
      "  'mask_img': None,\n",
      "  'smoothing_fwhm': None,\n",
      "  'standardize': False,\n",
      "  't_r': 1.94,\n",
      "  'target_affine': None,\n",
      "  'target_shape': None}, confounds=None, dtype=None, memory=Memory(location=nilearn_cache/joblib), memory_level=1, verbose=10)\n",
      "[NiftiMapsMasker.transform_single_imgs] Loading data from ../../results/output/preproc/_session_id_1_subject_id_T078/applyTransFunc/f1_trim_st_mcf_trans.nii.gz\n",
      "[NiftiMapsMasker.transform_single_imgs] Extracting region signals\n",
      "[NiftiMapsMasker.transform_single_imgs] Cleaning extracted signals\n",
      "_______________________________________________filter_and_extract - 8.9s, 0.1min\n"
     ]
    }
   ],
   "source": [
    "masker = NiftiMapsMasker(maps_img=cbl_template_prob, memory='nilearn_cache', memory_level=1, detrend=True,\n",
    "                             verbose=10, t_r=1.94)\n",
    "fmri_masked = masker.fit_transform(bold_filename)"
   ]
  },
  {
   "cell_type": "code",
   "execution_count": 26,
   "metadata": {},
   "outputs": [
    {
     "name": "stdout",
     "output_type": "stream",
     "text": [
      "[NiftiMapsMasker.inverse_transform] computing image from signals\n"
     ]
    }
   ],
   "source": [
    "fmri_cbl = masker.inverse_transform(fmri_masked)"
   ]
  },
  {
   "cell_type": "code",
   "execution_count": 27,
   "metadata": {},
   "outputs": [
    {
     "data": {
      "text/plain": [
       "<Figure size 432x288 with 0 Axes>"
      ]
     },
     "metadata": {},
     "output_type": "display_data"
    },
    {
     "data": {
      "application/vnd.jupyter.widget-view+json": {
       "model_id": "a0780e3490294113805a21cecf08cebc",
       "version_major": 2,
       "version_minor": 0
      },
      "text/plain": [
       "interactive(children=(IntSlider(value=45, continuous_update=False, description='x', max=90), IntSlider(value=5…"
      ]
     },
     "metadata": {},
     "output_type": "display_data"
    }
   ],
   "source": [
    "roi_widget = NiftiWidget(fmri_cbl)\n",
    "roi_widget.nifti_plotter()"
   ]
  }
 ],
 "metadata": {
  "kernelspec": {
   "display_name": "Python 3",
   "language": "python",
   "name": "python3"
  },
  "language_info": {
   "codemirror_mode": {
    "name": "ipython",
    "version": 3
   },
   "file_extension": ".py",
   "mimetype": "text/x-python",
   "name": "python",
   "nbconvert_exporter": "python",
   "pygments_lexer": "ipython3",
   "version": "3.8.10"
  }
 },
 "nbformat": 4,
 "nbformat_minor": 2
}
