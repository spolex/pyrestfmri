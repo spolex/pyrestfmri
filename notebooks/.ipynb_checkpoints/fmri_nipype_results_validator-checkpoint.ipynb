{
 "cells": [
  {
   "cell_type": "code",
   "execution_count": 4,
   "metadata": {},
   "outputs": [],
   "source": [
    "from nipype.interfaces.fsl import preprocess\n",
    "from nilearn import plotting\n",
    "%matplotlib inline\n",
    "from niwidgets import NiftiWidget\n",
    "import ipywidgets as widgets\n",
    "import warnings\n",
    "warnings.filterwarnings('ignore')\n",
    "from IPython.display import display\n",
    "from IPython.display import Javascript\n",
    "import nilearn.plotting as nip#for using nilearn plot functions\n",
    "from nilearn.image.image import mean_img\n",
    "\n",
    "import os"
   ]
  },
  {
   "cell_type": "code",
   "execution_count": 5,
   "metadata": {},
   "outputs": [],
   "source": [
    "origing_path = \"/data/elekin/data/origin/fmri\"\n",
    "results_path = \"/data/elekin/data/results/fmri/preproc/*\""
   ]
  },
  {
   "cell_type": "code",
   "execution_count": 6,
   "metadata": {
    "scrolled": true
   },
   "outputs": [],
   "source": [
    "list_subjs = !ls -d $results_path | grep session"
   ]
  },
  {
   "cell_type": "code",
   "execution_count": 7,
   "metadata": {},
   "outputs": [],
   "source": [
    "def run_cells_below():\n",
    "    display(Javascript(\"Jupyter.notebook.execute_cell_range(5,10)\"))"
   ]
  },
  {
   "cell_type": "code",
   "execution_count": 8,
   "metadata": {
    "scrolled": true
   },
   "outputs": [
    {
     "data": {
      "application/vnd.jupyter.widget-view+json": {
       "model_id": "a36f3bd460054177a9437d3541066355",
       "version_major": 2,
       "version_minor": 0
      },
      "text/plain": [
       "Select(description='Subject Id:', options=('/data/elekin/data/results/fmri/preproc/_session_id_1_subject_id_C0…"
      ]
     },
     "metadata": {},
     "output_type": "display_data"
    }
   ],
   "source": [
    "subj_id_selector = widgets.Select(\n",
    "    options=list_subjs,\n",
    "    # value='C575',\n",
    "    # rows=10,\n",
    "    description='Subject Id:',\n",
    "    disabled=False\n",
    ")\n",
    "subj_id_selector.on_trait_change(run_cells_below)\n",
    "display(subj_id_selector)"
   ]
  },
  {
   "cell_type": "code",
   "execution_count": null,
   "metadata": {},
   "outputs": [],
   "source": [
    "mni_template = os.path(origing_path, \"TEMPLATES/MNI152_T1_1mm.nii.gz\")\n",
    "neck_filename = subj_id_selector.value+\"/Normalize/mprage_ROI_flirt.nii.gz\"\n",
    "skull_filename = subj_id_selector.value+\"/skull_strip/mprage_ROI_flirt_brain.nii.gz\"\n",
    "bold_filename = subj_id_selector.value+\"/applyTransFunc/f1_trim_st_mcf_trans.nii.gz\"\n",
    "print(subj_id_selector.value)"
   ]
  },
  {
   "cell_type": "code",
   "execution_count": null,
   "metadata": {},
   "outputs": [],
   "source": [
    "anat_widget = NiftiWidget(neck_filename)\n",
    "anat_widget.nifti_plotter(colormap=\"gray\")"
   ]
  },
  {
   "cell_type": "code",
   "execution_count": null,
   "metadata": {},
   "outputs": [],
   "source": [
    "roi_widget = NiftiWidget(skull_filename)\n",
    "roi_widget.nifti_plotter(plotting_func=nip.plot_roi, bg_img=neck_filename)"
   ]
  },
  {
   "cell_type": "code",
   "execution_count": null,
   "metadata": {},
   "outputs": [],
   "source": [
    "mean_fmri = mean_img(bold_filename)"
   ]
  },
  {
   "cell_type": "code",
   "execution_count": null,
   "metadata": {},
   "outputs": [],
   "source": [
    "roi_widget = NiftiWidget(mean_fmri)\n",
    "roi_widget.nifti_plotter(plotting_func=nip.plot_roi, bg_img=neck_filename)"
   ]
  }
 ],
 "metadata": {
  "kernelspec": {
   "display_name": "Python 3",
   "language": "python",
   "name": "python3"
  },
  "language_info": {
   "codemirror_mode": {
    "name": "ipython",
    "version": 3
   },
   "file_extension": ".py",
   "mimetype": "text/x-python",
   "name": "python",
   "nbconvert_exporter": "python",
   "pygments_lexer": "ipython3",
   "version": "3.8.10"
  }
 },
 "nbformat": 4,
 "nbformat_minor": 2
}
