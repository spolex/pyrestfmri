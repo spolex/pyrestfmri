{
 "cells": [
  {
   "cell_type": "code",
   "execution_count": 1,
   "metadata": {},
   "outputs": [],
   "source": [
    "import os\n",
    "import numpy as np\n",
    "import nibabel as nib\n",
    "import tensorflow as tf"
   ]
  },
  {
   "cell_type": "code",
   "execution_count": 2,
   "metadata": {},
   "outputs": [],
   "source": [
    "data_path = 'E:/04-DATASOURCES/01-PHD/00-NEW/00-DRIVE/modalitat/FMRI/'\n",
    "old_data_path = 'E:/04-DATASOURCES/01-PHD/datos/'\n",
    "filename_db_gz = '/FMRI2.nii.gz.gz'\n",
    "filename = '/FMRI2.nii.gz'\n",
    "old_filename = '/f1.nii.gz'\n",
    "results_path='Z:/elekin/02-RESULTADOS/01-DEEPLEARNING/'"
   ]
  },
  {
   "cell_type": "code",
   "execution_count": 3,
   "metadata": {},
   "outputs": [],
   "source": [
    "old_files = list(map(lambda f: old_data_path+f+old_filename,os.listdir(old_data_path)))\n",
    "old_tfrecords_filename = results_path+'et.1.tfrecords'"
   ]
  },
  {
   "cell_type": "code",
   "execution_count": 4,
   "metadata": {},
   "outputs": [],
   "source": [
    "files_db_gz = list(map(lambda f: data_path+f+filename_db_gz,os.listdir(data_path)))\n",
    "files = list(map(lambda f: data_path+f+filename,os.listdir(data_path)))\n",
    "new_tfrecords_filename = results_path+'et.0.tfrecords'"
   ]
  },
  {
   "cell_type": "code",
   "execution_count": null,
   "metadata": {},
   "outputs": [],
   "source": [
    "for file in files_db_gz:\n",
    "    if os.path.exists(file):\n",
    "        print(file)\n",
    "        os.rename(file,file.replace('.gz.gz','.gz')) "
   ]
  },
  {
   "cell_type": "code",
   "execution_count": 5,
   "metadata": {},
   "outputs": [],
   "source": [
    "files_abs_names = old_files\n",
    "tfrecords_filename = old_tfrecords_filename"
   ]
  },
  {
   "cell_type": "code",
   "execution_count": 6,
   "metadata": {},
   "outputs": [],
   "source": [
    "# The following functions can be used to convert a value to a type compatible\n",
    "# with tf.Example.\n",
    "\n",
    "def _bytes_feature(value):\n",
    "  \"\"\"Returns a bytes_list from a string / byte.\"\"\"\n",
    "  if isinstance(value, type(tf.constant(0))):\n",
    "    value = value.numpy() # BytesList won't unpack a string from an EagerTensor.\n",
    "  return tf.train.Feature(bytes_list=tf.train.BytesList(value=[value]))\n",
    "\n",
    "def _float_feature(value):\n",
    "  \"\"\"Returns a float_list from a float / double.\"\"\"\n",
    "  return tf.train.Feature(float_list=tf.train.FloatList(value=[value]))\n",
    "\n",
    "def _int64_feature(value):\n",
    "  \"\"\"Returns an int64_list from a bool / enum / int / uint.\"\"\"\n",
    "  return tf.train.Feature(int64_list=tf.train.Int64List(value=[value]))"
   ]
  },
  {
   "cell_type": "code",
   "execution_count": 7,
   "metadata": {},
   "outputs": [],
   "source": [
    "def serialize_fmri(img):\n",
    "    \"\"\"\n",
    "    Creates a tf.Example message ready to be written to a file.\n",
    "    \"\"\"\n",
    "    img_data = img.get_data()\n",
    "    img_shape = img_data.shape\n",
    "    img_raw = img_data.tostring()\n",
    "    img_shape_raw = str.encode(str(img_shape))\n",
    "    img_dtype = str.encode(img.get_data_dtype().name)\n",
    "    print(img_shape_raw)\n",
    "    # Create a dictionary mapping the feature name to the tf.Example-compatible\n",
    "    # data type.\n",
    "    features = tf.train.Features(feature={'img_raw': _bytes_feature(img_raw), \n",
    "                                          'img_shape': _bytes_feature(img_shape_raw), \n",
    "                                          'img_dtype': _bytes_feature(img_dtype)})\n",
    "    example_proto = tf.train.Example(features=features)\n",
    "    return example_proto.SerializeToString()"
   ]
  },
  {
   "cell_type": "code",
   "execution_count": null,
   "metadata": {},
   "outputs": [
    {
     "name": "stdout",
     "output_type": "stream",
     "text": [
      "b'(64, 64, 36, 306)'\n",
      "\n",
      "file\tE:/04-DATASOURCES/01-PHD/datos/T003/f1.nii.gz\tadded to tfrecords file\n",
      "b'(64, 64, 36, 306)'\n",
      "\n",
      "file\tE:/04-DATASOURCES/01-PHD/datos/T004/f1.nii.gz\tadded to tfrecords file\n",
      "b'(64, 64, 36, 306)'\n",
      "\n",
      "file\tE:/04-DATASOURCES/01-PHD/datos/T006/f1.nii.gz\tadded to tfrecords file\n",
      "b'(64, 64, 36, 162)'\n",
      "\n",
      "file\tE:/04-DATASOURCES/01-PHD/datos/T012/f1.nii.gz\tadded to tfrecords file\n",
      "b'(64, 64, 36, 162)'\n",
      "\n",
      "file\tE:/04-DATASOURCES/01-PHD/datos/T013/f1.nii.gz\tadded to tfrecords file\n",
      "b'(64, 64, 36, 261)'\n",
      "\n",
      "file\tE:/04-DATASOURCES/01-PHD/datos/T014/f1.nii.gz\tadded to tfrecords file\n",
      "b'(64, 64, 36, 163)'\n",
      "\n",
      "file\tE:/04-DATASOURCES/01-PHD/datos/T015/f1.nii.gz\tadded to tfrecords file\n",
      "b'(64, 64, 36, 295)'\n",
      "\n",
      "file\tE:/04-DATASOURCES/01-PHD/datos/T017/f1.nii.gz\tadded to tfrecords file\n",
      "b'(64, 64, 36, 261)'\n",
      "\n",
      "file\tE:/04-DATASOURCES/01-PHD/datos/T018/f1.nii.gz\tadded to tfrecords file\n",
      "b'(64, 64, 36, 174)'\n",
      "\n",
      "file\tE:/04-DATASOURCES/01-PHD/datos/T019/f1.nii.gz\tadded to tfrecords file\n",
      "b'(64, 64, 36, 325)'\n",
      "\n",
      "file\tE:/04-DATASOURCES/01-PHD/datos/T021/f1.nii.gz\tadded to tfrecords file\n",
      "b'(64, 64, 36, 162)'\n",
      "\n",
      "file\tE:/04-DATASOURCES/01-PHD/datos/T023/f1.nii.gz\tadded to tfrecords file\n",
      "b'(64, 64, 36, 306)'\n",
      "\n",
      "file\tE:/04-DATASOURCES/01-PHD/datos/T024/f1.nii.gz\tadded to tfrecords file\n",
      "b'(64, 64, 36, 162)'\n",
      "\n",
      "file\tE:/04-DATASOURCES/01-PHD/datos/T025/f1.nii.gz\tadded to tfrecords file\n",
      "b'(64, 64, 36, 325)'\n",
      "\n",
      "file\tE:/04-DATASOURCES/01-PHD/datos/T026/f1.nii.gz\tadded to tfrecords file\n",
      "b'(64, 64, 36, 325)'\n",
      "\n",
      "file\tE:/04-DATASOURCES/01-PHD/datos/T027/f1.nii.gz\tadded to tfrecords file\n",
      "b'(64, 64, 36, 162)'\n",
      "\n",
      "file\tE:/04-DATASOURCES/01-PHD/datos/T028/f1.nii.gz\tadded to tfrecords file\n",
      "b'(64, 64, 36, 325)'\n",
      "\n",
      "file\tE:/04-DATASOURCES/01-PHD/datos/T029/f1.nii.gz\tadded to tfrecords file\n",
      "b'(64, 64, 36, 162)'\n",
      "\n",
      "file\tE:/04-DATASOURCES/01-PHD/datos/T030/f1.nii.gz\tadded to tfrecords file\n",
      "b'(64, 64, 36, 142)'\n",
      "\n",
      "file\tE:/04-DATASOURCES/01-PHD/datos/T031/f1.nii.gz\tadded to tfrecords file\n",
      "b'(64, 64, 33, 164)'\n",
      "\n",
      "file\tE:/04-DATASOURCES/01-PHD/datos/T032/f1.nii.gz\tadded to tfrecords file\n",
      "b'(64, 64, 36, 162)'\n",
      "\n",
      "file\tE:/04-DATASOURCES/01-PHD/datos/T033/f1.nii.gz\tadded to tfrecords file\n",
      "b'(64, 64, 36, 162)'\n",
      "\n",
      "file\tE:/04-DATASOURCES/01-PHD/datos/T035/f1.nii.gz\tadded to tfrecords file\n",
      "b'(64, 64, 36, 168)'\n",
      "\n",
      "file\tE:/04-DATASOURCES/01-PHD/datos/T039/f1.nii.gz\tadded to tfrecords file\n",
      "b'(64, 64, 36, 162)'\n",
      "\n",
      "file\tE:/04-DATASOURCES/01-PHD/datos/T040/f1.nii.gz\tadded to tfrecords file\n",
      "b'(64, 64, 36, 162)'\n",
      "\n",
      "file\tE:/04-DATASOURCES/01-PHD/datos/T042/f1.nii.gz\tadded to tfrecords file\n",
      "b'(64, 64, 36, 162)'\n",
      "\n",
      "file\tE:/04-DATASOURCES/01-PHD/datos/T043/f1.nii.gz\tadded to tfrecords file\n",
      "b'(64, 64, 36, 162)'\n",
      "\n",
      "file\tE:/04-DATASOURCES/01-PHD/datos/T045/f1.nii.gz\tadded to tfrecords file\n",
      "b'(64, 64, 36, 162)'\n"
     ]
    }
   ],
   "source": [
    "#some variables for tfrecords\n",
    "writer = tf.io.TFRecordWriter(tfrecords_filename)\n",
    "for file_name in files_abs_names:\n",
    "    \"\"\"\n",
    "    Creates a tf.Example message ready to be written to a file.\n",
    "    \"\"\"\n",
    "    img = nib.load(file_name)\n",
    "    message = serialize_fmri(img)\n",
    "    writer.write(message)\n",
    "    print ('\\nfile\\t' + file_name + '\\tadded to tfrecords file')\n",
    "print(\"Data record file has being writed to %s\",tfrecords_filename)\n",
    "writer.close()"
   ]
  }
 ],
 "metadata": {
  "kernelspec": {
   "display_name": "Python 3",
   "language": "python",
   "name": "python3"
  },
  "language_info": {
   "codemirror_mode": {
    "name": "ipython",
    "version": 3
   },
   "file_extension": ".py",
   "mimetype": "text/x-python",
   "name": "python",
   "nbconvert_exporter": "python",
   "pygments_lexer": "ipython3",
   "version": "3.7.2"
  }
 },
 "nbformat": 4,
 "nbformat_minor": 4
}
