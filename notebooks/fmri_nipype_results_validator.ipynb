{
 "cells": [
  {
   "cell_type": "code",
   "execution_count": 2,
   "metadata": {},
   "outputs": [
    {
     "name": "stdout",
     "output_type": "stream",
     "text": [
      "191015-23:00:26,934 nipype.utils INFO:\n",
      "\t Running nipype version 1.3.0-dev (latest: 1.2.3)\n"
     ]
    }
   ],
   "source": [
    "from nipype.interfaces.fsl import preprocess\n",
    "from nilearn import plotting\n",
    "%matplotlib inline\n",
    "from niwidgets import NiftiWidget\n",
    "import ipywidgets as widgets\n",
    "import warnings\n",
    "warnings.filterwarnings('ignore')\n",
    "from IPython.display import display\n",
    "from IPython.display import Javascript\n",
    "import nilearn.plotting as nip#for using nilearn plot functions\n",
    "from nilearn.image.image import mean_img"
   ]
  },
  {
   "cell_type": "code",
   "execution_count": 3,
   "metadata": {},
   "outputs": [],
   "source": [
    "results_path = \"../../results/output/preproc/*\""
   ]
  },
  {
   "cell_type": "code",
   "execution_count": 4,
   "metadata": {
    "scrolled": true
   },
   "outputs": [],
   "source": [
    "list_subjs = !ls -d $results_path | grep session"
   ]
  },
  {
   "cell_type": "code",
   "execution_count": 5,
   "metadata": {},
   "outputs": [],
   "source": [
    "def run_cells_below():\n",
    "    display(Javascript(\"Jupyter.notebook.execute_cell_range(5,10)\"))"
   ]
  },
  {
   "cell_type": "code",
   "execution_count": 6,
   "metadata": {
    "scrolled": true
   },
   "outputs": [
    {
     "data": {
      "application/vnd.jupyter.widget-view+json": {
       "model_id": "563355ff5bc34f2a83e3832ad75e2031",
       "version_major": 2,
       "version_minor": 0
      },
      "text/plain": [
       "Select(description='Subject Id:', options=('../../results/output/preproc/_session_id_1_subject_id_C113', '../.…"
      ]
     },
     "metadata": {},
     "output_type": "display_data"
    },
    {
     "data": {
      "application/javascript": [
       "Jupyter.notebook.execute_cell_range(5,10)"
      ],
      "text/plain": [
       "<IPython.core.display.Javascript object>"
      ]
     },
     "metadata": {},
     "output_type": "display_data"
    },
    {
     "data": {
      "application/javascript": [
       "Jupyter.notebook.execute_cell_range(5,10)"
      ],
      "text/plain": [
       "<IPython.core.display.Javascript object>"
      ]
     },
     "metadata": {},
     "output_type": "display_data"
    },
    {
     "data": {
      "application/javascript": [
       "Jupyter.notebook.execute_cell_range(5,10)"
      ],
      "text/plain": [
       "<IPython.core.display.Javascript object>"
      ]
     },
     "metadata": {},
     "output_type": "display_data"
    },
    {
     "data": {
      "application/javascript": [
       "Jupyter.notebook.execute_cell_range(5,10)"
      ],
      "text/plain": [
       "<IPython.core.display.Javascript object>"
      ]
     },
     "metadata": {},
     "output_type": "display_data"
    },
    {
     "data": {
      "application/javascript": [
       "Jupyter.notebook.execute_cell_range(5,10)"
      ],
      "text/plain": [
       "<IPython.core.display.Javascript object>"
      ]
     },
     "metadata": {},
     "output_type": "display_data"
    }
   ],
   "source": [
    "subj_id_selector = widgets.Select(\n",
    "    options=list_subjs,\n",
    "    # value='C575',\n",
    "    # rows=10,\n",
    "    description='Subject Id:',\n",
    "    disabled=False\n",
    ")\n",
    "subj_id_selector.on_trait_change(run_cells_below)\n",
    "display(subj_id_selector)"
   ]
  },
  {
   "cell_type": "code",
   "execution_count": 27,
   "metadata": {},
   "outputs": [
    {
     "name": "stdout",
     "output_type": "stream",
     "text": [
      "../../results/output/preproc/_session_id_1_subject_id_C234\n"
     ]
    }
   ],
   "source": [
    "mni_template = \"../../datos/TEMPLATES/MNI152_T1_1mm.nii.gz\"\n",
    "neck_filename = subj_id_selector.value+\"/Neck_remover/mprage_ROI.nii.gz\"\n",
    "skull_filename = subj_id_selector.value+\"/skull_strip/mprage_ROI_flirt_brain.nii.gz\"\n",
    "bold_filename = subj_id_selector.value+\"/applyTransFunc/f1_trim_st_mcf_trans.nii.gz\"\n",
    "print(subj_id_selector.value)"
   ]
  },
  {
   "cell_type": "code",
   "execution_count": 28,
   "metadata": {},
   "outputs": [
    {
     "data": {
      "text/plain": [
       "<Figure size 432x288 with 0 Axes>"
      ]
     },
     "metadata": {},
     "output_type": "display_data"
    },
    {
     "data": {
      "application/vnd.jupyter.widget-view+json": {
       "model_id": "02f0644c73b44d55a0cc1e225973fa4f",
       "version_major": 2,
       "version_minor": 0
      },
      "text/plain": [
       "interactive(children=(IntSlider(value=71, continuous_update=False, description='x', max=143), IntSlider(value=…"
      ]
     },
     "metadata": {},
     "output_type": "display_data"
    }
   ],
   "source": [
    "anat_widget = NiftiWidget(neck_filename)\n",
    "anat_widget.nifti_plotter(colormap=\"gray\")"
   ]
  },
  {
   "cell_type": "code",
   "execution_count": 29,
   "metadata": {},
   "outputs": [
    {
     "data": {
      "text/plain": [
       "<Figure size 432x288 with 0 Axes>"
      ]
     },
     "metadata": {},
     "output_type": "display_data"
    },
    {
     "data": {
      "application/vnd.jupyter.widget-view+json": {
       "model_id": "e69048db3f2542fa9e5d9817439eff93",
       "version_major": 2,
       "version_minor": 0
      },
      "text/plain": [
       "interactive(children=(Text(value='../../datos/TEMPLATES/MNI152_T1_1mm.nii.gz', description='bg_img'), Dropdown…"
      ]
     },
     "metadata": {},
     "output_type": "display_data"
    }
   ],
   "source": [
    "roi_widget = NiftiWidget(skull_filename)\n",
    "roi_widget.nifti_plotter(plotting_func=nip.plot_roi, bg_img=mni_template)"
   ]
  },
  {
   "cell_type": "code",
   "execution_count": 30,
   "metadata": {},
   "outputs": [],
   "source": [
    "mean_fmri = mean_img(bold_filename)"
   ]
  },
  {
   "cell_type": "code",
   "execution_count": 31,
   "metadata": {},
   "outputs": [
    {
     "data": {
      "text/plain": [
       "<Figure size 432x288 with 0 Axes>"
      ]
     },
     "metadata": {},
     "output_type": "display_data"
    },
    {
     "data": {
      "application/vnd.jupyter.widget-view+json": {
       "model_id": "7767d9cde02142189f8de2be51f8093a",
       "version_major": 2,
       "version_minor": 0
      },
      "text/plain": [
       "interactive(children=(Text(value='../../datos/TEMPLATES/MNI152_T1_1mm.nii.gz', description='bg_img'), Dropdown…"
      ]
     },
     "metadata": {},
     "output_type": "display_data"
    }
   ],
   "source": [
    "roi_widget = NiftiWidget(mean_fmri)\n",
    "roi_widget.nifti_plotter(plotting_func=nip.plot_roi, bg_img=mni_template)"
   ]
  }
 ],
 "metadata": {
  "kernelspec": {
   "display_name": "Python 3",
   "language": "python",
   "name": "python3"
  },
  "language_info": {
   "codemirror_mode": {
    "name": "ipython",
    "version": 3
   },
   "file_extension": ".py",
   "mimetype": "text/x-python",
   "name": "python",
   "nbconvert_exporter": "python",
   "pygments_lexer": "ipython3",
   "version": "3.7.3"
  }
 },
 "nbformat": 4,
 "nbformat_minor": 2
}
