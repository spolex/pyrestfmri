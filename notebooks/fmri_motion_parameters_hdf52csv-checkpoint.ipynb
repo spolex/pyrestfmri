{
 "cells": [
  {
   "cell_type": "code",
   "execution_count": 46,
   "metadata": {},
   "outputs": [],
   "source": [
    "import h5py\n",
    "import numpy as np\n",
    "from os.path import join, exists"
   ]
  },
  {
   "cell_type": "code",
   "execution_count": 47,
   "metadata": {},
   "outputs": [],
   "source": [
    "root = \"Z:/elekin/02-RESULTADOS/00-EXTRACCION-CEREBELO\"\n",
    "filename = \"elekin_phd_et_crbl.hdf5\"\n",
    "path = join(root,filename)"
   ]
  },
  {
   "cell_type": "code",
   "execution_count": 48,
   "metadata": {},
   "outputs": [
    {
     "name": "stdout",
     "output_type": "stream",
     "text": [
      "Z:/elekin/02-RESULTADOS/00-EXTRACCION-CEREBELO\\elekin_phd_et_crbl.hdf5\n"
     ]
    }
   ],
   "source": [
    "print(path)"
   ]
  },
  {
   "cell_type": "code",
   "execution_count": 49,
   "metadata": {},
   "outputs": [],
   "source": [
    "h5_ts_file = h5py.File(path,'r')"
   ]
  },
  {
   "cell_type": "code",
   "execution_count": 50,
   "metadata": {},
   "outputs": [
    {
     "data": {
      "text/plain": [
       "<KeysViewHDF5 ['cerebellum_imgs', 'cerebellum_ts', 'motion_pars']>"
      ]
     },
     "execution_count": 50,
     "metadata": {},
     "output_type": "execute_result"
    }
   ],
   "source": [
    "h5_ts_file.keys()"
   ]
  },
  {
   "cell_type": "code",
   "execution_count": 51,
   "metadata": {},
   "outputs": [],
   "source": [
    "mp = h5_ts_file['motion_pars']\n",
    "values = np.asarray(list(map(lambda x: x.value,mp.values())))"
   ]
  },
  {
   "cell_type": "code",
   "execution_count": 52,
   "metadata": {},
   "outputs": [
    {
     "data": {
      "text/plain": [
       "(101, 158, 6)"
      ]
     },
     "execution_count": 52,
     "metadata": {},
     "output_type": "execute_result"
    }
   ],
   "source": [
    "values.shape"
   ]
  },
  {
   "cell_type": "code",
   "execution_count": 59,
   "metadata": {},
   "outputs": [
    {
     "data": {
      "text/plain": [
       "(101, 158)"
      ]
     },
     "execution_count": 59,
     "metadata": {},
     "output_type": "execute_result"
    }
   ],
   "source": [
    "values[:,:,3].shape"
   ]
  },
  {
   "cell_type": "code",
   "execution_count": 65,
   "metadata": {},
   "outputs": [],
   "source": [
    "keys = np.asarray(list(map(lambda x: x.name,mp.values())))"
   ]
  },
  {
   "cell_type": "code",
   "execution_count": 66,
   "metadata": {},
   "outputs": [
    {
     "data": {
      "text/plain": [
       "(101,)"
      ]
     },
     "execution_count": 66,
     "metadata": {},
     "output_type": "execute_result"
    }
   ],
   "source": [
    "keys.shape"
   ]
  },
  {
   "cell_type": "code",
   "execution_count": 88,
   "metadata": {},
   "outputs": [],
   "source": [
    "def save(path, data):\n",
    "    print(path)\n",
    "    np.savetxt(path, data, delimiter=\";\")"
   ]
  },
  {
   "cell_type": "code",
   "execution_count": 71,
   "metadata": {},
   "outputs": [
    {
     "data": {
      "text/plain": [
       "<map at 0x1e057725320>"
      ]
     },
     "execution_count": 71,
     "metadata": {},
     "output_type": "execute_result"
    }
   ],
   "source": [
    "map(lambda k,v: save(k,v),(keys,values))"
   ]
  },
  {
   "cell_type": "code",
   "execution_count": 89,
   "metadata": {},
   "outputs": [
    {
     "name": "stdout",
     "output_type": "stream",
     "text": [
      "(158, 6)\n",
      "Z:/elekin/02-RESULTADOS/motion_pars/_session_id_1_subject_id_C185.csv\n",
      "(158, 6)\n",
      "Z:/elekin/02-RESULTADOS/motion_pars/_session_id_1_subject_id_C026.csv\n",
      "(158, 6)\n",
      "Z:/elekin/02-RESULTADOS/motion_pars/_session_id_1_subject_id_C367.csv\n",
      "(158, 6)\n",
      "Z:/elekin/02-RESULTADOS/motion_pars/_session_id_1_subject_id_C280.csv\n",
      "(158, 6)\n",
      "Z:/elekin/02-RESULTADOS/motion_pars/_session_id_1_subject_id_T076.csv\n",
      "(158, 6)\n",
      "Z:/elekin/02-RESULTADOS/motion_pars/_session_id_1_subject_id_T021.csv\n",
      "(158, 6)\n",
      "Z:/elekin/02-RESULTADOS/motion_pars/_session_id_1_subject_id_T014.csv\n",
      "(158, 6)\n",
      "Z:/elekin/02-RESULTADOS/motion_pars/_session_id_1_subject_id_T026.csv\n",
      "(158, 6)\n",
      "Z:/elekin/02-RESULTADOS/motion_pars/_session_id_1_subject_id_T046.csv\n",
      "(158, 6)\n",
      "Z:/elekin/02-RESULTADOS/motion_pars/_session_id_1_subject_id_T059.csv\n",
      "(158, 6)\n",
      "Z:/elekin/02-RESULTADOS/motion_pars/_session_id_1_subject_id_T033.csv\n",
      "(158, 6)\n",
      "Z:/elekin/02-RESULTADOS/motion_pars/_session_id_1_subject_id_C079.csv\n",
      "(158, 6)\n",
      "Z:/elekin/02-RESULTADOS/motion_pars/_session_id_1_subject_id_C132.csv\n",
      "(158, 6)\n",
      "Z:/elekin/02-RESULTADOS/motion_pars/_session_id_1_subject_id_T024.csv\n",
      "(158, 6)\n",
      "Z:/elekin/02-RESULTADOS/motion_pars/_session_id_1_subject_id_C115.csv\n",
      "(158, 6)\n",
      "Z:/elekin/02-RESULTADOS/motion_pars/_session_id_1_subject_id_C093.csv\n",
      "(158, 6)\n",
      "Z:/elekin/02-RESULTADOS/motion_pars/_session_id_1_subject_id_T073.csv\n",
      "(158, 6)\n",
      "Z:/elekin/02-RESULTADOS/motion_pars/_session_id_1_subject_id_C212.csv\n",
      "(158, 6)\n",
      "Z:/elekin/02-RESULTADOS/motion_pars/_session_id_1_subject_id_C221.csv\n",
      "(158, 6)\n",
      "Z:/elekin/02-RESULTADOS/motion_pars/_session_id_1_subject_id_T025.csv\n",
      "(158, 6)\n",
      "Z:/elekin/02-RESULTADOS/motion_pars/_session_id_1_subject_id_C382.csv\n",
      "(158, 6)\n",
      "Z:/elekin/02-RESULTADOS/motion_pars/_session_id_1_subject_id_C503.csv\n",
      "(158, 6)\n",
      "Z:/elekin/02-RESULTADOS/motion_pars/_session_id_1_subject_id_T081.csv\n",
      "(158, 6)\n",
      "Z:/elekin/02-RESULTADOS/motion_pars/_session_id_1_subject_id_C275.csv\n",
      "(158, 6)\n",
      "Z:/elekin/02-RESULTADOS/motion_pars/_session_id_1_subject_id_T056.csv\n",
      "(158, 6)\n",
      "Z:/elekin/02-RESULTADOS/motion_pars/_session_id_1_subject_id_T060.csv\n",
      "(158, 6)\n",
      "Z:/elekin/02-RESULTADOS/motion_pars/_session_id_1_subject_id_T067.csv\n",
      "(158, 6)\n",
      "Z:/elekin/02-RESULTADOS/motion_pars/_session_id_1_subject_id_T023.csv\n",
      "(158, 6)\n",
      "Z:/elekin/02-RESULTADOS/motion_pars/_session_id_1_subject_id_T080.csv\n",
      "(158, 6)\n",
      "Z:/elekin/02-RESULTADOS/motion_pars/_session_id_1_subject_id_C113.csv\n",
      "(158, 6)\n",
      "Z:/elekin/02-RESULTADOS/motion_pars/_session_id_1_subject_id_T074.csv\n",
      "(158, 6)\n",
      "Z:/elekin/02-RESULTADOS/motion_pars/_session_id_1_subject_id_T062.csv\n",
      "(158, 6)\n",
      "Z:/elekin/02-RESULTADOS/motion_pars/_session_id_1_subject_id_T030.csv\n",
      "(158, 6)\n",
      "Z:/elekin/02-RESULTADOS/motion_pars/_session_id_1_subject_id_T004.csv\n",
      "(158, 6)\n",
      "Z:/elekin/02-RESULTADOS/motion_pars/_session_id_1_subject_id_C534.csv\n",
      "(158, 6)\n",
      "Z:/elekin/02-RESULTADOS/motion_pars/_session_id_1_subject_id_T017.csv\n",
      "(158, 6)\n",
      "Z:/elekin/02-RESULTADOS/motion_pars/_session_id_1_subject_id_T042.csv\n",
      "(158, 6)\n",
      "Z:/elekin/02-RESULTADOS/motion_pars/_session_id_1_subject_id_T064.csv\n",
      "(158, 6)\n",
      "Z:/elekin/02-RESULTADOS/motion_pars/_session_id_1_subject_id_C283.csv\n",
      "(158, 6)\n",
      "Z:/elekin/02-RESULTADOS/motion_pars/_session_id_1_subject_id_T040.csv\n",
      "(158, 6)\n",
      "Z:/elekin/02-RESULTADOS/motion_pars/_session_id_1_subject_id_C478.csv\n",
      "(158, 6)\n",
      "Z:/elekin/02-RESULTADOS/motion_pars/_session_id_1_subject_id_C021.csv\n",
      "(158, 6)\n",
      "Z:/elekin/02-RESULTADOS/motion_pars/_session_id_1_subject_id_C192.csv\n",
      "(158, 6)\n",
      "Z:/elekin/02-RESULTADOS/motion_pars/_session_id_1_subject_id_C112.csv\n",
      "(158, 6)\n",
      "Z:/elekin/02-RESULTADOS/motion_pars/_session_id_1_subject_id_C182.csv\n",
      "(158, 6)\n",
      "Z:/elekin/02-RESULTADOS/motion_pars/_session_id_1_subject_id_C257.csv\n",
      "(158, 6)\n",
      "Z:/elekin/02-RESULTADOS/motion_pars/_session_id_1_subject_id_T075.csv\n",
      "(158, 6)\n",
      "Z:/elekin/02-RESULTADOS/motion_pars/_session_id_1_subject_id_C070.csv\n",
      "(158, 6)\n",
      "Z:/elekin/02-RESULTADOS/motion_pars/_session_id_1_subject_id_C282.csv\n",
      "(158, 6)\n",
      "Z:/elekin/02-RESULTADOS/motion_pars/_session_id_1_subject_id_C522.csv\n",
      "(158, 6)\n",
      "Z:/elekin/02-RESULTADOS/motion_pars/_session_id_1_subject_id_C578.csv\n",
      "(158, 6)\n",
      "Z:/elekin/02-RESULTADOS/motion_pars/_session_id_1_subject_id_C294.csv\n",
      "(158, 6)\n",
      "Z:/elekin/02-RESULTADOS/motion_pars/_session_id_1_subject_id_T069.csv\n",
      "(158, 6)\n",
      "Z:/elekin/02-RESULTADOS/motion_pars/_session_id_1_subject_id_T045.csv\n",
      "(158, 6)\n",
      "Z:/elekin/02-RESULTADOS/motion_pars/_session_id_1_subject_id_C452.csv\n",
      "(158, 6)\n",
      "Z:/elekin/02-RESULTADOS/motion_pars/_session_id_1_subject_id_T018.csv\n",
      "(158, 6)\n",
      "Z:/elekin/02-RESULTADOS/motion_pars/_session_id_1_subject_id_T079.csv\n",
      "(158, 6)\n",
      "Z:/elekin/02-RESULTADOS/motion_pars/_session_id_1_subject_id_T035.csv\n",
      "(158, 6)\n",
      "Z:/elekin/02-RESULTADOS/motion_pars/_session_id_1_subject_id_T066.csv\n",
      "(158, 6)\n",
      "Z:/elekin/02-RESULTADOS/motion_pars/_session_id_1_subject_id_T078.csv\n",
      "(158, 6)\n",
      "Z:/elekin/02-RESULTADOS/motion_pars/_session_id_1_subject_id_C266.csv\n",
      "(158, 6)\n",
      "Z:/elekin/02-RESULTADOS/motion_pars/_session_id_1_subject_id_T068.csv\n",
      "(158, 6)\n",
      "Z:/elekin/02-RESULTADOS/motion_pars/_session_id_1_subject_id_C048.csv\n",
      "(158, 6)\n",
      "Z:/elekin/02-RESULTADOS/motion_pars/_session_id_1_subject_id_C203.csv\n",
      "(158, 6)\n",
      "Z:/elekin/02-RESULTADOS/motion_pars/_session_id_1_subject_id_C234.csv\n",
      "(158, 6)\n",
      "Z:/elekin/02-RESULTADOS/motion_pars/_session_id_1_subject_id_C196.csv\n",
      "(158, 6)\n",
      "Z:/elekin/02-RESULTADOS/motion_pars/_session_id_1_subject_id_T043.csv\n",
      "(158, 6)\n",
      "Z:/elekin/02-RESULTADOS/motion_pars/_session_id_1_subject_id_C528.csv\n",
      "(158, 6)\n",
      "Z:/elekin/02-RESULTADOS/motion_pars/_session_id_1_subject_id_T028.csv\n",
      "(158, 6)\n",
      "Z:/elekin/02-RESULTADOS/motion_pars/_session_id_1_subject_id_C374.csv\n",
      "(158, 6)\n",
      "Z:/elekin/02-RESULTADOS/motion_pars/_session_id_1_subject_id_C127.csv\n",
      "(158, 6)\n",
      "Z:/elekin/02-RESULTADOS/motion_pars/_session_id_1_subject_id_C046.csv\n",
      "(158, 6)\n",
      "Z:/elekin/02-RESULTADOS/motion_pars/_session_id_1_subject_id_C045.csv\n",
      "(158, 6)\n",
      "Z:/elekin/02-RESULTADOS/motion_pars/_session_id_1_subject_id_T015.csv\n",
      "(158, 6)\n",
      "Z:/elekin/02-RESULTADOS/motion_pars/_session_id_1_subject_id_T039.csv\n",
      "(158, 6)\n",
      "Z:/elekin/02-RESULTADOS/motion_pars/_session_id_1_subject_id_T019.csv\n",
      "(158, 6)\n",
      "Z:/elekin/02-RESULTADOS/motion_pars/_session_id_1_subject_id_T065.csv\n",
      "(158, 6)\n",
      "Z:/elekin/02-RESULTADOS/motion_pars/_session_id_1_subject_id_C260.csv\n",
      "(158, 6)\n",
      "Z:/elekin/02-RESULTADOS/motion_pars/_session_id_1_subject_id_T027.csv\n",
      "(158, 6)\n",
      "Z:/elekin/02-RESULTADOS/motion_pars/_session_id_1_subject_id_T029.csv\n",
      "(158, 6)\n",
      "Z:/elekin/02-RESULTADOS/motion_pars/_session_id_1_subject_id_C180.csv\n",
      "(158, 6)\n",
      "Z:/elekin/02-RESULTADOS/motion_pars/_session_id_1_subject_id_C575.csv\n",
      "(158, 6)\n",
      "Z:/elekin/02-RESULTADOS/motion_pars/_session_id_1_subject_id_T003.csv\n",
      "(158, 6)\n",
      "Z:/elekin/02-RESULTADOS/motion_pars/_session_id_1_subject_id_T061.csv\n",
      "(158, 6)\n",
      "Z:/elekin/02-RESULTADOS/motion_pars/_session_id_1_subject_id_T071.csv\n",
      "(158, 6)\n",
      "Z:/elekin/02-RESULTADOS/motion_pars/_session_id_1_subject_id_C143.csv\n",
      "(158, 6)\n",
      "Z:/elekin/02-RESULTADOS/motion_pars/_session_id_1_subject_id_C034.csv\n",
      "(158, 6)\n",
      "Z:/elekin/02-RESULTADOS/motion_pars/_session_id_1_subject_id_T012.csv\n",
      "(158, 6)\n",
      "Z:/elekin/02-RESULTADOS/motion_pars/_session_id_1_subject_id_T063.csv\n",
      "(158, 6)\n",
      "Z:/elekin/02-RESULTADOS/motion_pars/_session_id_1_subject_id_C231.csv\n",
      "(158, 6)\n",
      "Z:/elekin/02-RESULTADOS/motion_pars/_session_id_1_subject_id_T006.csv\n",
      "(158, 6)\n",
      "Z:/elekin/02-RESULTADOS/motion_pars/_session_id_1_subject_id_C084.csv\n",
      "(158, 6)\n",
      "Z:/elekin/02-RESULTADOS/motion_pars/_session_id_1_subject_id_T070.csv\n",
      "(158, 6)\n",
      "Z:/elekin/02-RESULTADOS/motion_pars/_session_id_1_subject_id_C109.csv\n",
      "(158, 6)\n",
      "Z:/elekin/02-RESULTADOS/motion_pars/_session_id_1_subject_id_T077.csv\n",
      "(158, 6)\n",
      "Z:/elekin/02-RESULTADOS/motion_pars/_session_id_1_subject_id_T013.csv\n",
      "(158, 6)\n",
      "Z:/elekin/02-RESULTADOS/motion_pars/_session_id_1_subject_id_T032.csv\n",
      "(158, 6)\n",
      "Z:/elekin/02-RESULTADOS/motion_pars/_session_id_1_subject_id_T031.csv\n",
      "(158, 6)\n",
      "Z:/elekin/02-RESULTADOS/motion_pars/_session_id_1_subject_id_T072.csv\n",
      "(158, 6)\n",
      "Z:/elekin/02-RESULTADOS/motion_pars/_session_id_1_subject_id_C049.csv\n",
      "(158, 6)\n",
      "Z:/elekin/02-RESULTADOS/motion_pars/_session_id_1_subject_id_T058.csv\n"
     ]
    }
   ],
   "source": [
    "for i,k in enumerate(keys):\n",
    "    path = \"Z:/elekin/02-RESULTADOS\"+k+\".csv\"\n",
    "    value =  values[i,:,:]\n",
    "    save(path,value)    "
   ]
  }
 ],
 "metadata": {
  "kernelspec": {
   "display_name": "Python 3",
   "language": "python",
   "name": "python3"
  },
  "language_info": {
   "codemirror_mode": {
    "name": "ipython",
    "version": 3
   },
   "file_extension": ".py",
   "mimetype": "text/x-python",
   "name": "python",
   "nbconvert_exporter": "python",
   "pygments_lexer": "ipython3",
   "version": "3.7.2"
  }
 },
 "nbformat": 4,
 "nbformat_minor": 4
}
