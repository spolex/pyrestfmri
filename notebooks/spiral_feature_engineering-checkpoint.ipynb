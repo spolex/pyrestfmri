{
 "cells": [
  {
   "cell_type": "code",
   "execution_count": 1,
   "metadata": {},
   "outputs": [],
   "source": [
    "import h5py\n",
    "from pandas import HDFStore \n",
    "import pandas as pd\n",
    "import numpy as np\n",
    "from os import path\n",
    "from sklearn import preprocessing\n",
    "import matplotlib.pyplot as plt\n",
    "import matplotlib\n",
    "import seaborn as sns\n",
    "%matplotlib inline\n",
    "matplotlib.style.use('ggplot')"
   ]
  },
  {
   "cell_type": "markdown",
   "metadata": {},
   "source": [
    "Load data previously preprocessed"
   ]
  },
  {
   "cell_type": "code",
   "execution_count": 2,
   "metadata": {},
   "outputs": [],
   "source": [
    "root=\"Z:/elekin/02-RESULTADOS/03-HANDWRITTING/00-OUTPUT\"\n",
    "filename=\"archimedean-17.h5\"\n",
    "df = HDFStore(path.join(root,filename))"
   ]
  },
  {
   "cell_type": "code",
   "execution_count": 3,
   "metadata": {},
   "outputs": [
    {
     "data": {
      "text/plain": [
       "['/source/dataset',\n",
       " '/source/labels',\n",
       " '/results/residues/features',\n",
       " '/results/residues/rd',\n",
       " '/results/radius/features',\n",
       " '/results/radius/r']"
      ]
     },
     "execution_count": 3,
     "metadata": {},
     "output_type": "execute_result"
    }
   ],
   "source": [
    "df.keys()"
   ]
  },
  {
   "cell_type": "code",
   "execution_count": 4,
   "metadata": {},
   "outputs": [],
   "source": [
    "y = df['source/labels']\n",
    "train_rd = df['results/residues/rd']\n",
    "train_r = df['results/radius/r']"
   ]
  },
  {
   "cell_type": "code",
   "execution_count": 5,
   "metadata": {},
   "outputs": [],
   "source": [
    "features_rd= df['/results/radius/features']"
   ]
  },
  {
   "cell_type": "code",
   "execution_count": 6,
   "metadata": {},
   "outputs": [
    {
     "name": "stderr",
     "output_type": "stream",
     "text": [
      "C:\\Users\\isancmen\\AppData\\Local\\Continuum\\anaconda3\\envs\\spiral\\lib\\site-packages\\sklearn\\externals\\joblib\\__init__.py:15: DeprecationWarning: sklearn.externals.joblib is deprecated in 0.21 and will be removed in 0.23. Please import this functionality directly from joblib, which can be installed with: pip install joblib. If this warning is raised when loading pickled models, you may need to re-serialize those models with scikit-learn 0.21+.\n",
      "  warnings.warn(msg, category=DeprecationWarning)\n"
     ]
    }
   ],
   "source": [
    "from sklearn import preprocessing\n",
    "from skrebate import ReliefF,SURF,MultiSURF\n",
    "fltr = MultiSURF(ReliefF(n_features_to_select=5))"
   ]
  },
  {
   "cell_type": "code",
   "execution_count": null,
   "metadata": {},
   "outputs": [],
   "source": [
    "#x = scaler.fit_transform(train_rd[:,-27:])\n",
    "f = plt.figure(figsize=(16, 16))\n",
    "train_r.T.plot(figsize=(16, 16))\n",
    "plt.legend(loc='center left', bbox_to_anchor=(1.0, 0.5))"
   ]
  },
  {
   "cell_type": "code",
   "execution_count": 7,
   "metadata": {},
   "outputs": [
    {
     "data": {
      "text/plain": [
       "((50,), (50, 27))"
      ]
     },
     "execution_count": 7,
     "metadata": {},
     "output_type": "execute_result"
    }
   ],
   "source": [
    "y.shape, features_rd.shape"
   ]
  },
  {
   "cell_type": "code",
   "execution_count": 8,
   "metadata": {},
   "outputs": [
    {
     "data": {
      "text/plain": [
       "Index(['mean_abs_val(L)', 'np.var(L)', 'root_mean_square(L)',\n",
       "       'log_detector(L)', 'wl(L)', 'np.nanstd(L)', 'diff_abs_std(L)',\n",
       "       'higuchi(L)', 'mfl(L)', 'myo(L)', 'iemg(L)', 'ssi(L)', 'zc(L)',\n",
       "       'ssc(L)', 'wamp(L)', 'p_max(Pxx, L)', 'f_max(Pxx)', 'mp(Pxx)',\n",
       "       'tp(Pxx)', 'meanfreq(L)', 'medfreq(L)', 'std_psd(Pxx)',\n",
       "       'mmnt(Pxx, order=1)', 'mmnt(Pxx, order=2)', 'mmnt(Pxx, order=3)',\n",
       "       'kurt(Pxx)', 'skw(Pxx)'],\n",
       "      dtype='object')"
      ]
     },
     "execution_count": 8,
     "metadata": {},
     "output_type": "execute_result"
    }
   ],
   "source": [
    "features_rd.columns"
   ]
  },
  {
   "cell_type": "code",
   "execution_count": 9,
   "metadata": {},
   "outputs": [
    {
     "data": {
      "text/plain": [
       "<bound method DataFrame.info of              mean_abs_val(L)     np.var(L)  root_mean_square(L)  \\\n",
       "C01_11           6318.005926  3.604807e+05         4.027768e+07   \n",
       "C01_12           9860.596748  3.469124e+05         9.757828e+07   \n",
       "C02_11           6065.495646  3.635784e+05         3.715382e+07   \n",
       "C02_12           9325.660255  3.592998e+05         8.732724e+07   \n",
       "C03_11           5809.378877  3.469214e+05         3.409580e+07   \n",
       "C03_12           9215.021824  3.525372e+05         8.526916e+07   \n",
       "C04_11           6163.159633  3.077598e+05         3.829230e+07   \n",
       "C04_12           9480.862828  3.818346e+05         9.026859e+07   \n",
       "C05_11           5871.448248  3.381562e+05         3.481206e+07   \n",
       "C05_12           9260.006519  3.695280e+05         8.611725e+07   \n",
       "C06_11           6363.119045  4.305915e+05         4.091988e+07   \n",
       "C06_12           9864.490448  4.348456e+05         9.774302e+07   \n",
       "C07_11           6155.330822  3.349382e+05         3.822304e+07   \n",
       "C07_12           9808.409890  3.641013e+05         9.656901e+07   \n",
       "C08_11           6335.386726  3.839713e+05         4.052110e+07   \n",
       "T001_01         11165.098802  4.727828e+05         1.251322e+08   \n",
       "T002_01          6936.516727  7.353089e+05         4.885057e+07   \n",
       "T005_01          6727.651422  5.917589e+06         5.117888e+07   \n",
       "T006_01         10841.127997  4.921818e+05         1.180222e+08   \n",
       "T007_02         11387.363836  7.601209e+05         1.304322e+08   \n",
       "T008_01          6266.974695  3.402635e+05         3.961524e+07   \n",
       "T009_01          9844.494558  5.704767e+05         9.748455e+07   \n",
       "T010_02          9747.010402  4.285873e+05         9.543280e+07   \n",
       "T011_02          9689.975292  3.709789e+05         9.426660e+07   \n",
       "T012_01          6225.245516  3.873518e+05         3.914103e+07   \n",
       "T012_02         10147.483403  4.291421e+05         1.034006e+08   \n",
       "T013_02         10476.193277  4.025266e+05         1.101532e+08   \n",
       "T014_01          6175.158050  3.074030e+05         3.843998e+07   \n",
       "T015_02          9679.126611  4.464733e+05         9.413197e+07   \n",
       "T018_02         10120.261243  3.802487e+05         1.027999e+08   \n",
       "T020_01          5947.178436  3.817589e+05         3.575069e+07   \n",
       "T021_01          6249.013796  3.813675e+05         3.943154e+07   \n",
       "T023_02          9918.288772  3.499620e+05         9.872241e+07   \n",
       "T025_02         10371.504353  4.382876e+05         1.080064e+08   \n",
       "T026_02          9329.434368  3.169715e+05         8.735532e+07   \n",
       "T027_02         10103.240043  4.102419e+05         1.024857e+08   \n",
       "T028_02          5545.447958  2.381365e+05         3.099013e+07   \n",
       "T029_02          5905.455611  3.906897e+05         3.526510e+07   \n",
       "control1_01      6364.025223  3.623899e+05         4.086321e+07   \n",
       "control1_02      9723.371656  3.726437e+05         9.491660e+07   \n",
       "control2_01      6065.239404  3.126172e+05         3.709975e+07   \n",
       "control2_02      9423.054000  3.599127e+05         8.915386e+07   \n",
       "control3_01      5982.387797  4.673806e+05         3.625634e+07   \n",
       "control3_02      9315.791967  3.595917e+05         8.714357e+07   \n",
       "control4_01      6010.379227  4.355007e+05         3.656016e+07   \n",
       "control4_02      9334.764463  2.986290e+05         8.743646e+07   \n",
       "control6_01      6066.120780  3.202015e+05         3.711802e+07   \n",
       "control6_02      9299.141463  3.276587e+05         8.680169e+07   \n",
       "control7_01      6003.169301  2.961148e+05         3.633416e+07   \n",
       "control7_02      9261.469765  3.240362e+05         8.609886e+07   \n",
       "\n",
       "             log_detector(L)          wl(L)  np.nanstd(L)  diff_abs_std(L)  \\\n",
       "C01_11          2.004085e+24   14469.757317    600.400489         7.707199   \n",
       "C01_12          2.949816e+25   15346.030357    588.992741        11.871390   \n",
       "C02_11          1.597639e+24   12838.982400    602.974615         7.085169   \n",
       "C02_12          2.421750e+25   15157.010512    599.416221        10.572957   \n",
       "C03_11          9.879311e+23   12715.580607    589.000334         7.507214   \n",
       "C03_12          2.057228e+25   14707.407430    593.748402        12.377045   \n",
       "C04_11          8.604443e+23   13463.950806    554.761003         8.256729   \n",
       "C04_12          3.553902e+25   14260.503781    617.927664         9.053140   \n",
       "C05_11          9.478495e+23   14026.669262    581.512008         8.879161   \n",
       "C05_12          2.629739e+25   14707.790625    607.888183        11.644439   \n",
       "C06_11          4.540459e+24   20755.673818    656.194692         8.056573   \n",
       "C06_12          8.330493e+25   21261.630006    659.428224         9.168931   \n",
       "C07_11          1.231923e+24   13894.878155    578.738428         8.225009   \n",
       "C07_12          3.557995e+25   22984.295897    603.408111        47.128408   \n",
       "C08_11          2.685889e+24   32322.345487    619.654141        48.233693   \n",
       "T001_01         2.754635e+26   16253.986657    687.592037        13.290814   \n",
       "T002_01         8.319248e+25   42545.816699    857.501520        25.631885   \n",
       "T005_01         4.126664e+29  106692.378400   2432.609517       146.158487   \n",
       "T006_01         2.734760e+26   50711.810221    701.556699        70.845964   \n",
       "T007_02         2.856027e+27   30642.900612    871.849104        19.380768   \n",
       "T008_01         1.479463e+24   38801.586910    583.321065        29.021087   \n",
       "T009_01         2.846414e+26   38469.053837    755.299104        38.086076   \n",
       "T010_02         7.209999e+25   16303.019318    654.665805        11.848109   \n",
       "T011_02         3.584964e+25   25299.490623    609.080338        49.336559   \n",
       "T012_01         2.486968e+24   46553.720887    622.375957        27.646381   \n",
       "T012_02         9.423896e+25   34315.636012    655.089416        60.284828   \n",
       "T013_02         8.634388e+25   14266.271428    634.449858         6.474106   \n",
       "T014_01         8.668597e+23   16580.324905    554.439343        16.765178   \n",
       "T015_02         8.307414e+25   15716.379324    668.186551        13.229196   \n",
       "T018_02         5.312643e+25   15638.775154    616.643119        12.017105   \n",
       "T020_01         1.736533e+24   46956.173603    617.866440        36.308792   \n",
       "T021_01         2.382266e+24   16987.666663    617.549593         9.497751   \n",
       "T023_02         3.186516e+25   47328.750929    591.575882        65.326373   \n",
       "T025_02         1.197722e+26   27443.336136    662.032929        55.489684   \n",
       "T026_02         1.371349e+25   28097.924567    563.002228        43.528676   \n",
       "T027_02         7.449347e+25   18128.974896    640.501312        14.361899   \n",
       "T028_02         1.463472e+23   23527.566458    487.992321        19.022864   \n",
       "T029_02         1.831575e+24   19136.355129    625.051771        19.681431   \n",
       "control1_01     2.149290e+24   13418.593381    601.988268         8.439888   \n",
       "control1_02     3.741272e+25   37011.936512    610.445483        60.012318   \n",
       "control2_01     8.313951e+23   23458.988031    559.121830        22.706455   \n",
       "control2_02     2.608843e+25   22190.627900    599.927268        48.052089   \n",
       "control3_01     4.322537e+24   35296.089060    683.652373        44.325745   \n",
       "control3_02     2.413604e+25   30164.117947    599.659677        44.122613   \n",
       "control4_01     3.279350e+24   32580.772206    659.924749        24.513872   \n",
       "control4_02     1.048869e+25   20512.464849    546.469594        48.700659   \n",
       "control6_01     9.233235e+23   16999.813645    565.863468        13.582873   \n",
       "control6_02     1.562379e+25   20822.328052    572.414771        35.562920   \n",
       "control7_01     6.159714e+23   16297.887518    544.164332        11.575211   \n",
       "control7_02     1.447224e+25   36428.685828    569.241786        49.713524   \n",
       "\n",
       "             higuchi(L)     mfl(L)  myo(L)  ...       mp(Pxx)       tp(Pxx)  \\\n",
       "C01_11         1.092907   9.579816     0.0  ...  7.206096e+05  1.476529e+09   \n",
       "C01_12         1.149401   9.638612     0.0  ...  6.934863e+05  1.420953e+09   \n",
       "C02_11         1.085192   9.460241     0.0  ...  7.268019e+05  1.489217e+09   \n",
       "C02_12         1.126025   9.626218     0.0  ...  7.182489e+05  1.471692e+09   \n",
       "C03_11         1.094602   9.450583     0.0  ...  6.935042e+05  1.420990e+09   \n",
       "C03_12         1.156422   9.596107     0.0  ...  7.047302e+05  1.443992e+09   \n",
       "C04_11         1.109017   9.507771     0.0  ...  6.152191e+05  1.260584e+09   \n",
       "C04_12         1.122436   9.565249     0.0  ...  7.632965e+05  1.563995e+09   \n",
       "C05_11         1.108881   9.548716     0.0  ...  6.759824e+05  1.385088e+09   \n",
       "C05_12         1.136184   9.596133     0.0  ...  7.386954e+05  1.513587e+09   \n",
       "C06_11         1.208010   9.940575     0.0  ...  8.607627e+05  1.763703e+09   \n",
       "C06_12         1.195832   9.964659     0.0  ...  8.692667e+05  1.781128e+09   \n",
       "C07_11         1.088352   9.539276     0.0  ...  6.695494e+05  1.371907e+09   \n",
       "C07_12         1.219263  10.042566     0.0  ...  7.278473e+05  1.491359e+09   \n",
       "C08_11         1.422642  10.383514     0.0  ...  7.675677e+05  1.572746e+09   \n",
       "T001_01        1.163721   9.696093     0.0  ...  9.451041e+05  1.936518e+09   \n",
       "T002_01        1.105752  10.658337     0.0  ...  1.469900e+06  3.011825e+09   \n",
       "T005_01        1.182029  11.577705     0.0  ...  1.182940e+07  2.423844e+10   \n",
       "T006_01        1.223353  10.833914     0.0  ...  9.838832e+05  2.015977e+09   \n",
       "T007_02        1.141423  10.330156     0.0  ...  1.519500e+06  3.113455e+09   \n",
       "T008_01        1.144103  10.566216     0.0  ...  6.801948e+05  1.393719e+09   \n",
       "T009_01        1.201409  10.557609     0.0  ...  1.140397e+06  2.336673e+09   \n",
       "T010_02        1.134426   9.699106     0.0  ...  8.567563e+05  1.755494e+09   \n",
       "T011_02        1.281693  10.138540     0.0  ...  7.415956e+05  1.519529e+09   \n",
       "T012_01        1.173283  10.748362     0.0  ...  7.743256e+05  1.586593e+09   \n",
       "T012_02        1.443793  10.443356     0.0  ...  8.578654e+05  1.757766e+09   \n",
       "T013_02        1.099129   9.565653     0.0  ...  8.046603e+05  1.648749e+09   \n",
       "T014_01        1.165289   9.715972     0.0  ...  6.145059e+05  1.259123e+09   \n",
       "T015_02        1.147428   9.662459     0.0  ...  8.925107e+05  1.828755e+09   \n",
       "T018_02        1.161994   9.657509     0.0  ...  7.601263e+05  1.557499e+09   \n",
       "T020_01        1.086340  10.756970     0.0  ...  7.631452e+05  1.563685e+09   \n",
       "T021_01        1.072340   9.740243     0.0  ...  7.623628e+05  1.562081e+09   \n",
       "T023_02        1.539610  10.764873     0.0  ...  6.995825e+05  1.433444e+09   \n",
       "T025_02        1.389363  10.219879     0.0  ...  8.761474e+05  1.795226e+09   \n",
       "T026_02        1.270326  10.243451     0.0  ...  6.336336e+05  1.298315e+09   \n",
       "T027_02        1.141692   9.805267     0.0  ...  8.200834e+05  1.680351e+09   \n",
       "T028_02        1.197029  10.065928     0.0  ...  4.760406e+05  9.754071e+08   \n",
       "T029_02        1.155518   9.859345     0.0  ...  7.809981e+05  1.600265e+09   \n",
       "control1_01    1.109648   9.504397     0.0  ...  7.244260e+05  1.484349e+09   \n",
       "control1_02    1.519663  10.518996     0.0  ...  7.449236e+05  1.526349e+09   \n",
       "control2_01    1.267570  10.063009     0.0  ...  6.249293e+05  1.280480e+09   \n",
       "control2_02    1.260306  10.007425     0.0  ...  7.194741e+05  1.474203e+09   \n",
       "control3_01    1.341824  10.471527     0.0  ...  9.343049e+05  1.914391e+09   \n",
       "control3_02    1.376482  10.314408     0.0  ...  7.188325e+05  1.472888e+09   \n",
       "control4_01    1.053180  10.391478     0.0  ...  8.705763e+05  1.783811e+09   \n",
       "control4_02    1.262747   9.928788     0.0  ...  5.969665e+05  1.223184e+09   \n",
       "control6_01    1.121339   9.740958     0.0  ...  6.400904e+05  1.311545e+09   \n",
       "control6_02    1.232476   9.943781     0.0  ...  6.549975e+05  1.342090e+09   \n",
       "control7_01    1.101395   9.698791     0.0  ...  5.919406e+05  1.212886e+09   \n",
       "control7_02    1.484188  10.503112     0.0  ...  6.477561e+05  1.327252e+09   \n",
       "\n",
       "             meanfreq(L)    medfreq(L)  std_psd(Pxx)  mmnt(Pxx, order=1)  \\\n",
       "C01_11          0.251363  1.920122e-05  2.174840e+07                 0.0   \n",
       "C01_12          0.250975  6.448504e-04  2.079210e+07                 0.0   \n",
       "C02_11          0.251435  4.424347e-08  1.963125e+07                 0.0   \n",
       "C02_12          0.253005  6.158674e-04  1.880496e+07                 0.0   \n",
       "C03_11          0.253550  1.465746e-04  2.194374e+07                 0.0   \n",
       "C03_12          0.252881  8.048530e-04  2.097057e+07                 0.0   \n",
       "C04_11          0.251004  1.400991e-03  1.526827e+07                 0.0   \n",
       "C04_12          0.249412  8.683725e-04  2.038269e+07                 0.0   \n",
       "C05_11          0.252600  8.715818e-04  1.913620e+07                 0.0   \n",
       "C05_12          0.251520  9.174580e-04  2.160279e+07                 0.0   \n",
       "C06_11          0.255011  6.543752e-02  2.487414e+07                 0.0   \n",
       "C06_12          0.253854  6.972451e-02  2.859805e+07                 0.0   \n",
       "C07_11          0.251836  8.312551e-04  1.910288e+07                 0.0   \n",
       "C07_12          0.250570  1.702489e-03  1.686246e+07                 0.0   \n",
       "C08_11          0.256803  7.654888e-04  1.972108e+07                 0.0   \n",
       "T001_01         0.256359  9.257198e-04  2.657162e+07                 0.0   \n",
       "T002_01         0.352798  4.333464e-07  3.463977e+07                 0.0   \n",
       "T005_01         0.666298  5.965336e+01  3.243677e+08                 0.0   \n",
       "T006_01         0.367019  9.393618e-05  1.593313e+07                 0.0   \n",
       "T007_02         0.260755  7.963934e-08  4.414599e+07                 0.0   \n",
       "T008_01         0.360326  6.019176e-04  9.447657e+06                 0.0   \n",
       "T009_01         0.551334  1.192154e-07  2.207084e+07                 0.0   \n",
       "T010_02         0.258264  3.934288e-08  2.843320e+07                 0.0   \n",
       "T011_02         0.251209  3.979860e-07  2.061933e+07                 0.0   \n",
       "T012_01         0.422173  9.235790e-07  1.026540e+07                 0.0   \n",
       "T012_02         0.256976  2.685302e-06  2.158513e+07                 0.0   \n",
       "T013_02         0.255060  7.541611e-04  2.217712e+07                 0.0   \n",
       "T014_01         0.255884  1.131859e-03  1.993724e+07                 0.0   \n",
       "T015_02         0.251054  9.767553e-04  2.002477e+07                 0.0   \n",
       "T018_02         0.249661  8.060187e-04  2.114417e+07                 0.0   \n",
       "T020_01         0.636100  1.061844e+00  1.904057e+07                 0.0   \n",
       "T021_01         0.275129  1.189861e-01  2.455149e+07                 0.0   \n",
       "T023_02         0.282162  1.249392e-01  1.561936e+07                 0.0   \n",
       "T025_02         0.257636  1.068709e-03  2.972022e+07                 0.0   \n",
       "T026_02         0.417605  1.175441e+00  1.506429e+07                 0.0   \n",
       "T027_02         0.261949  1.388711e-02  1.953354e+07                 0.0   \n",
       "T028_02         0.463258  3.221347e-08  1.374776e+07                 0.0   \n",
       "T029_02         0.263741  8.387900e-02  2.198614e+07                 0.0   \n",
       "control1_01     0.250749  4.771864e-08  2.125273e+07                 0.0   \n",
       "control1_02     0.257104  7.495376e-04  1.893894e+07                 0.0   \n",
       "control2_01     0.293266  9.502336e-08  1.489553e+07                 0.0   \n",
       "control2_02     0.256244  4.790224e-02  1.906193e+07                 0.0   \n",
       "control3_01     0.286472  2.392996e-01  2.201016e+07                 0.0   \n",
       "control3_02     0.255104  8.305709e-03  1.783085e+07                 0.0   \n",
       "control4_01     0.614754  4.896065e-01  1.755823e+07                 0.0   \n",
       "control4_02     0.249850  5.148165e-04  1.727034e+07                 0.0   \n",
       "control6_01     0.304412  1.793105e-01  1.715092e+07                 0.0   \n",
       "control6_02     0.247155  1.895050e-03  1.772825e+07                 0.0   \n",
       "control7_01     0.255992  1.285789e-02  1.673799e+07                 0.0   \n",
       "control7_02     0.256352  3.988970e-07  2.053535e+07                 0.0   \n",
       "\n",
       "             mmnt(Pxx, order=2)  mmnt(Pxx, order=3)    kurt(Pxx)   skw(Pxx)  \n",
       "C01_11             4.729928e+14        3.904528e+23  1525.313605  37.956548  \n",
       "C01_12             4.323114e+14        3.107595e+23  1245.580903  34.572386  \n",
       "C02_11             3.853862e+14        2.780988e+23  1474.823342  36.758256  \n",
       "C02_12             3.536265e+14        2.128948e+23  1088.478758  32.014583  \n",
       "C03_11             4.815277e+14        4.410212e+23  1813.342624  41.737611  \n",
       "C03_12             4.397649e+14        3.722557e+23  1714.991283  40.365512  \n",
       "C04_11             2.331201e+14        1.094302e+23   984.092603  30.744505  \n",
       "C04_12             4.154539e+14        3.129258e+23  1490.345229  36.953625  \n",
       "C05_11             3.661941e+14        2.516943e+23  1380.492962  35.917519  \n",
       "C05_12             4.666806e+14        4.088030e+23  1738.073710  40.549404  \n",
       "C06_11             6.187230e+14        6.091981e+23  1668.990922  39.583496  \n",
       "C06_12             8.178483e+14        1.008994e+24  1909.523059  43.139929  \n",
       "C07_11             3.649201e+14        2.310683e+23  1143.623698  33.146966  \n",
       "C07_12             2.843426e+14        1.364335e+23   835.408205  28.454969  \n",
       "C08_11             3.889210e+14        2.793304e+23  1430.498089  36.418839  \n",
       "T001_01            7.060511e+14        6.756857e+23  1376.902733  36.015592  \n",
       "T002_01            1.199913e+15        1.265510e+24  1000.695555  30.446727  \n",
       "T005_01            1.052144e+17        1.379150e+27  1715.906576  40.410900  \n",
       "T006_01            2.538646e+14        9.141236e+22   554.845460  22.599654  \n",
       "T007_02            1.948869e+15        3.111507e+24  1386.905220  36.165706  \n",
       "T008_01            8.925822e+13        1.805076e+22   512.610360  21.405388  \n",
       "T009_01            4.871222e+14        3.341447e+23  1073.168358  31.079763  \n",
       "T010_02            8.084468e+14        9.734922e+23  1849.887568  42.350181  \n",
       "T011_02            4.251569e+14        3.566997e+23  1741.422330  40.689176  \n",
       "T012_01            1.053785e+14        2.100141e+22   422.464501  19.414230  \n",
       "T012_02            4.659178e+14        3.592929e+23  1352.410041  35.726021  \n",
       "T013_02            4.918245e+14        3.850278e+23  1334.351565  35.300173  \n",
       "T014_01            3.974936e+14        3.371276e+23  1866.578962  42.540156  \n",
       "T015_02            4.009912e+14        2.142418e+23   739.816251  26.680990  \n",
       "T018_02            4.470761e+14        3.135772e+23  1142.444605  33.172043  \n",
       "T020_01            3.625433e+14        2.157650e+23  1024.318484  31.256551  \n",
       "T021_01            6.027755e+14        6.457040e+23  1942.821770  43.631496  \n",
       "T023_02            2.439645e+14        1.183919e+23   993.967872  31.069346  \n",
       "T025_02            8.832912e+14        1.140042e+24  1926.159330  43.427529  \n",
       "T026_02            2.269327e+14        1.108612e+23  1123.213427  32.429019  \n",
       "T027_02            3.815592e+14        2.331980e+23  1093.106682  31.288296  \n",
       "T028_02            1.890008e+14        9.859328e+22  1545.765183  37.944755  \n",
       "T029_02            4.833903e+14        3.718191e+23  1286.077194  34.985237  \n",
       "control1_01        4.516783e+14        3.752068e+23  1630.049993  39.086504  \n",
       "control1_02        3.586833e+14        2.516483e+23  1492.194391  37.044806  \n",
       "control2_01        2.218768e+14        9.853391e+22   925.269853  29.813839  \n",
       "control2_02        3.633570e+14        2.221489e+23  1056.981726  32.073321  \n",
       "control3_01        4.844471e+14        3.419657e+23  1058.206083  32.071044  \n",
       "control3_02        3.179390e+14        1.807362e+23  1031.167161  31.880804  \n",
       "control4_01        3.082915e+14        1.417862e+23   748.583052  26.193382  \n",
       "control4_02        2.982645e+14        2.082876e+23  1722.297499  40.435329  \n",
       "control6_01        2.941540e+14        1.758536e+23  1295.155725  34.856925  \n",
       "control6_02        3.142910e+14        2.130638e+23  1563.847523  38.239461  \n",
       "control7_01        2.801604e+14        1.670947e+23  1349.567417  35.633011  \n",
       "control7_02        4.217005e+14        3.601129e+23  1792.313713  41.584605  \n",
       "\n",
       "[50 rows x 27 columns]>"
      ]
     },
     "execution_count": 9,
     "metadata": {},
     "output_type": "execute_result"
    }
   ],
   "source": [
    "x = features_rd[features_rd.columns]\n",
    "x[features_rd.columns].info"
   ]
  },
  {
   "cell_type": "code",
   "execution_count": 10,
   "metadata": {},
   "outputs": [
    {
     "data": {
      "text/plain": [
       "Index(['mean_abs_val(L)', 'np.var(L)', 'root_mean_square(L)',\n",
       "       'log_detector(L)', 'wl(L)', 'np.nanstd(L)', 'diff_abs_std(L)',\n",
       "       'higuchi(L)', 'mfl(L)', 'myo(L)', 'iemg(L)', 'ssi(L)', 'zc(L)',\n",
       "       'ssc(L)', 'wamp(L)', 'p_max(Pxx, L)', 'f_max(Pxx)', 'mp(Pxx)',\n",
       "       'tp(Pxx)', 'meanfreq(L)', 'medfreq(L)', 'std_psd(Pxx)',\n",
       "       'mmnt(Pxx, order=1)', 'mmnt(Pxx, order=2)', 'mmnt(Pxx, order=3)',\n",
       "       'kurt(Pxx)', 'skw(Pxx)'],\n",
       "      dtype='object')"
      ]
     },
     "execution_count": 10,
     "metadata": {},
     "output_type": "execute_result"
    }
   ],
   "source": [
    "x.columns"
   ]
  },
  {
   "cell_type": "code",
   "execution_count": 24,
   "metadata": {},
   "outputs": [
    {
     "name": "stderr",
     "output_type": "stream",
     "text": [
      "C:\\Users\\isancmen\\AppData\\Local\\Continuum\\anaconda3\\envs\\spiral\\lib\\site-packages\\sklearn\\svm\\base.py:193: FutureWarning: The default value of gamma will change from 'auto' to 'scale' in version 0.22 to account better for unscaled features. Set gamma explicitly to 'auto' or 'scale' to avoid this warning.\n",
      "  \"avoid this warning.\", FutureWarning)\n",
      "C:\\Users\\isancmen\\AppData\\Local\\Continuum\\anaconda3\\envs\\spiral\\lib\\site-packages\\sklearn\\svm\\base.py:193: FutureWarning: The default value of gamma will change from 'auto' to 'scale' in version 0.22 to account better for unscaled features. Set gamma explicitly to 'auto' or 'scale' to avoid this warning.\n",
      "  \"avoid this warning.\", FutureWarning)\n",
      "C:\\Users\\isancmen\\AppData\\Local\\Continuum\\anaconda3\\envs\\spiral\\lib\\site-packages\\sklearn\\svm\\base.py:193: FutureWarning: The default value of gamma will change from 'auto' to 'scale' in version 0.22 to account better for unscaled features. Set gamma explicitly to 'auto' or 'scale' to avoid this warning.\n",
      "  \"avoid this warning.\", FutureWarning)\n",
      "C:\\Users\\isancmen\\AppData\\Local\\Continuum\\anaconda3\\envs\\spiral\\lib\\site-packages\\sklearn\\svm\\base.py:193: FutureWarning: The default value of gamma will change from 'auto' to 'scale' in version 0.22 to account better for unscaled features. Set gamma explicitly to 'auto' or 'scale' to avoid this warning.\n",
      "  \"avoid this warning.\", FutureWarning)\n",
      "C:\\Users\\isancmen\\AppData\\Local\\Continuum\\anaconda3\\envs\\spiral\\lib\\site-packages\\sklearn\\svm\\base.py:193: FutureWarning: The default value of gamma will change from 'auto' to 'scale' in version 0.22 to account better for unscaled features. Set gamma explicitly to 'auto' or 'scale' to avoid this warning.\n",
      "  \"avoid this warning.\", FutureWarning)\n",
      "C:\\Users\\isancmen\\AppData\\Local\\Continuum\\anaconda3\\envs\\spiral\\lib\\site-packages\\sklearn\\svm\\base.py:193: FutureWarning: The default value of gamma will change from 'auto' to 'scale' in version 0.22 to account better for unscaled features. Set gamma explicitly to 'auto' or 'scale' to avoid this warning.\n",
      "  \"avoid this warning.\", FutureWarning)\n",
      "C:\\Users\\isancmen\\AppData\\Local\\Continuum\\anaconda3\\envs\\spiral\\lib\\site-packages\\sklearn\\svm\\base.py:193: FutureWarning: The default value of gamma will change from 'auto' to 'scale' in version 0.22 to account better for unscaled features. Set gamma explicitly to 'auto' or 'scale' to avoid this warning.\n",
      "  \"avoid this warning.\", FutureWarning)\n",
      "C:\\Users\\isancmen\\AppData\\Local\\Continuum\\anaconda3\\envs\\spiral\\lib\\site-packages\\sklearn\\svm\\base.py:193: FutureWarning: The default value of gamma will change from 'auto' to 'scale' in version 0.22 to account better for unscaled features. Set gamma explicitly to 'auto' or 'scale' to avoid this warning.\n",
      "  \"avoid this warning.\", FutureWarning)\n",
      "C:\\Users\\isancmen\\AppData\\Local\\Continuum\\anaconda3\\envs\\spiral\\lib\\site-packages\\sklearn\\svm\\base.py:193: FutureWarning: The default value of gamma will change from 'auto' to 'scale' in version 0.22 to account better for unscaled features. Set gamma explicitly to 'auto' or 'scale' to avoid this warning.\n",
      "  \"avoid this warning.\", FutureWarning)\n",
      "C:\\Users\\isancmen\\AppData\\Local\\Continuum\\anaconda3\\envs\\spiral\\lib\\site-packages\\sklearn\\svm\\base.py:193: FutureWarning: The default value of gamma will change from 'auto' to 'scale' in version 0.22 to account better for unscaled features. Set gamma explicitly to 'auto' or 'scale' to avoid this warning.\n",
      "  \"avoid this warning.\", FutureWarning)\n"
     ]
    },
    {
     "data": {
      "text/plain": [
       "array([0.5, 0.5, 0.5, 0.6, 0.6, 0.6, 0.6, 0.5, 0.5, 0.5])"
      ]
     },
     "execution_count": 24,
     "metadata": {},
     "output_type": "execute_result"
    }
   ],
   "source": [
    "from sklearn.svm import SVC\n",
    "from sklearn.model_selection import cross_val_score\n",
    "\n",
    "estimator = SVC()\n",
    "cross_val_score(estimator, x[:-5], y, cv=10)"
   ]
  },
  {
   "cell_type": "code",
   "execution_count": 18,
   "metadata": {},
   "outputs": [
    {
     "ename": "KeyError",
     "evalue": "0",
     "output_type": "error",
     "traceback": [
      "\u001b[1;31m---------------------------------------------------------------------------\u001b[0m",
      "\u001b[1;31mKeyError\u001b[0m                                  Traceback (most recent call last)",
      "\u001b[1;32m~\\AppData\\Local\\Continuum\\anaconda3\\envs\\spiral\\lib\\site-packages\\pandas\\core\\indexes\\base.py\u001b[0m in \u001b[0;36mget_loc\u001b[1;34m(self, key, method, tolerance)\u001b[0m\n\u001b[0;32m   2896\u001b[0m             \u001b[1;32mtry\u001b[0m\u001b[1;33m:\u001b[0m\u001b[1;33m\u001b[0m\u001b[1;33m\u001b[0m\u001b[0m\n\u001b[1;32m-> 2897\u001b[1;33m                 \u001b[1;32mreturn\u001b[0m \u001b[0mself\u001b[0m\u001b[1;33m.\u001b[0m\u001b[0m_engine\u001b[0m\u001b[1;33m.\u001b[0m\u001b[0mget_loc\u001b[0m\u001b[1;33m(\u001b[0m\u001b[0mkey\u001b[0m\u001b[1;33m)\u001b[0m\u001b[1;33m\u001b[0m\u001b[1;33m\u001b[0m\u001b[0m\n\u001b[0m\u001b[0;32m   2898\u001b[0m             \u001b[1;32mexcept\u001b[0m \u001b[0mKeyError\u001b[0m\u001b[1;33m:\u001b[0m\u001b[1;33m\u001b[0m\u001b[1;33m\u001b[0m\u001b[0m\n",
      "\u001b[1;32mpandas\\_libs\\index.pyx\u001b[0m in \u001b[0;36mpandas._libs.index.IndexEngine.get_loc\u001b[1;34m()\u001b[0m\n",
      "\u001b[1;32mpandas\\_libs\\index.pyx\u001b[0m in \u001b[0;36mpandas._libs.index.IndexEngine.get_loc\u001b[1;34m()\u001b[0m\n",
      "\u001b[1;32mpandas\\_libs\\hashtable_class_helper.pxi\u001b[0m in \u001b[0;36mpandas._libs.hashtable.PyObjectHashTable.get_item\u001b[1;34m()\u001b[0m\n",
      "\u001b[1;32mpandas\\_libs\\hashtable_class_helper.pxi\u001b[0m in \u001b[0;36mpandas._libs.hashtable.PyObjectHashTable.get_item\u001b[1;34m()\u001b[0m\n",
      "\u001b[1;31mKeyError\u001b[0m: 0",
      "\nDuring handling of the above exception, another exception occurred:\n",
      "\u001b[1;31mKeyError\u001b[0m                                  Traceback (most recent call last)",
      "\u001b[1;32m<ipython-input-18-0e2417aea50e>\u001b[0m in \u001b[0;36m<module>\u001b[1;34m\u001b[0m\n\u001b[1;32m----> 1\u001b[1;33m \u001b[0mfltr\u001b[0m\u001b[1;33m.\u001b[0m\u001b[0mfit_transform\u001b[0m\u001b[1;33m(\u001b[0m\u001b[0mx\u001b[0m\u001b[1;33m,\u001b[0m\u001b[0my\u001b[0m\u001b[1;33m)\u001b[0m\u001b[1;33m\u001b[0m\u001b[1;33m\u001b[0m\u001b[0m\n\u001b[0m",
      "\u001b[1;32m~\\AppData\\Local\\Continuum\\anaconda3\\envs\\spiral\\lib\\site-packages\\skrebate\\relieff.py\u001b[0m in \u001b[0;36mfit_transform\u001b[1;34m(self, X, y)\u001b[0m\n\u001b[0;32m    251\u001b[0m \u001b[1;33m\u001b[0m\u001b[0m\n\u001b[0;32m    252\u001b[0m         \"\"\"\n\u001b[1;32m--> 253\u001b[1;33m         \u001b[0mself\u001b[0m\u001b[1;33m.\u001b[0m\u001b[0mfit\u001b[0m\u001b[1;33m(\u001b[0m\u001b[0mX\u001b[0m\u001b[1;33m,\u001b[0m \u001b[0my\u001b[0m\u001b[1;33m)\u001b[0m\u001b[1;33m\u001b[0m\u001b[1;33m\u001b[0m\u001b[0m\n\u001b[0m\u001b[0;32m    254\u001b[0m \u001b[1;33m\u001b[0m\u001b[0m\n\u001b[0;32m    255\u001b[0m         \u001b[1;32mreturn\u001b[0m \u001b[0mself\u001b[0m\u001b[1;33m.\u001b[0m\u001b[0mtransform\u001b[0m\u001b[1;33m(\u001b[0m\u001b[0mX\u001b[0m\u001b[1;33m)\u001b[0m\u001b[1;33m\u001b[0m\u001b[1;33m\u001b[0m\u001b[0m\n",
      "\u001b[1;32m~\\AppData\\Local\\Continuum\\anaconda3\\envs\\spiral\\lib\\site-packages\\skrebate\\relieff.py\u001b[0m in \u001b[0;36mfit\u001b[1;34m(self, X, y)\u001b[0m\n\u001b[0;32m    140\u001b[0m             \u001b[0mself\u001b[0m\u001b[1;33m.\u001b[0m\u001b[0m_labels_std\u001b[0m \u001b[1;33m=\u001b[0m \u001b[0mnp\u001b[0m\u001b[1;33m.\u001b[0m\u001b[0mstd\u001b[0m\u001b[1;33m(\u001b[0m\u001b[0mself\u001b[0m\u001b[1;33m.\u001b[0m\u001b[0m_y\u001b[0m\u001b[1;33m,\u001b[0m \u001b[0mddof\u001b[0m\u001b[1;33m=\u001b[0m\u001b[1;36m1\u001b[0m\u001b[1;33m)\u001b[0m\u001b[1;33m\u001b[0m\u001b[1;33m\u001b[0m\u001b[0m\n\u001b[0;32m    141\u001b[0m \u001b[1;33m\u001b[0m\u001b[0m\n\u001b[1;32m--> 142\u001b[1;33m         \u001b[0mself\u001b[0m\u001b[1;33m.\u001b[0m\u001b[0m_num_attributes\u001b[0m \u001b[1;33m=\u001b[0m \u001b[0mlen\u001b[0m\u001b[1;33m(\u001b[0m\u001b[0mself\u001b[0m\u001b[1;33m.\u001b[0m\u001b[0m_X\u001b[0m\u001b[1;33m[\u001b[0m\u001b[1;36m0\u001b[0m\u001b[1;33m]\u001b[0m\u001b[1;33m)\u001b[0m  \u001b[1;31m# Number of features in training data\u001b[0m\u001b[1;33m\u001b[0m\u001b[1;33m\u001b[0m\u001b[0m\n\u001b[0m\u001b[0;32m    143\u001b[0m \u001b[1;33m\u001b[0m\u001b[0m\n\u001b[0;32m    144\u001b[0m         \u001b[1;31m# Number of missing data values in predictor variable matrix.\u001b[0m\u001b[1;33m\u001b[0m\u001b[1;33m\u001b[0m\u001b[1;33m\u001b[0m\u001b[0m\n",
      "\u001b[1;32m~\\AppData\\Local\\Continuum\\anaconda3\\envs\\spiral\\lib\\site-packages\\pandas\\core\\frame.py\u001b[0m in \u001b[0;36m__getitem__\u001b[1;34m(self, key)\u001b[0m\n\u001b[0;32m   2978\u001b[0m             \u001b[1;32mif\u001b[0m \u001b[0mself\u001b[0m\u001b[1;33m.\u001b[0m\u001b[0mcolumns\u001b[0m\u001b[1;33m.\u001b[0m\u001b[0mnlevels\u001b[0m \u001b[1;33m>\u001b[0m \u001b[1;36m1\u001b[0m\u001b[1;33m:\u001b[0m\u001b[1;33m\u001b[0m\u001b[1;33m\u001b[0m\u001b[0m\n\u001b[0;32m   2979\u001b[0m                 \u001b[1;32mreturn\u001b[0m \u001b[0mself\u001b[0m\u001b[1;33m.\u001b[0m\u001b[0m_getitem_multilevel\u001b[0m\u001b[1;33m(\u001b[0m\u001b[0mkey\u001b[0m\u001b[1;33m)\u001b[0m\u001b[1;33m\u001b[0m\u001b[1;33m\u001b[0m\u001b[0m\n\u001b[1;32m-> 2980\u001b[1;33m             \u001b[0mindexer\u001b[0m \u001b[1;33m=\u001b[0m \u001b[0mself\u001b[0m\u001b[1;33m.\u001b[0m\u001b[0mcolumns\u001b[0m\u001b[1;33m.\u001b[0m\u001b[0mget_loc\u001b[0m\u001b[1;33m(\u001b[0m\u001b[0mkey\u001b[0m\u001b[1;33m)\u001b[0m\u001b[1;33m\u001b[0m\u001b[1;33m\u001b[0m\u001b[0m\n\u001b[0m\u001b[0;32m   2981\u001b[0m             \u001b[1;32mif\u001b[0m \u001b[0mis_integer\u001b[0m\u001b[1;33m(\u001b[0m\u001b[0mindexer\u001b[0m\u001b[1;33m)\u001b[0m\u001b[1;33m:\u001b[0m\u001b[1;33m\u001b[0m\u001b[1;33m\u001b[0m\u001b[0m\n\u001b[0;32m   2982\u001b[0m                 \u001b[0mindexer\u001b[0m \u001b[1;33m=\u001b[0m \u001b[1;33m[\u001b[0m\u001b[0mindexer\u001b[0m\u001b[1;33m]\u001b[0m\u001b[1;33m\u001b[0m\u001b[1;33m\u001b[0m\u001b[0m\n",
      "\u001b[1;32m~\\AppData\\Local\\Continuum\\anaconda3\\envs\\spiral\\lib\\site-packages\\pandas\\core\\indexes\\base.py\u001b[0m in \u001b[0;36mget_loc\u001b[1;34m(self, key, method, tolerance)\u001b[0m\n\u001b[0;32m   2897\u001b[0m                 \u001b[1;32mreturn\u001b[0m \u001b[0mself\u001b[0m\u001b[1;33m.\u001b[0m\u001b[0m_engine\u001b[0m\u001b[1;33m.\u001b[0m\u001b[0mget_loc\u001b[0m\u001b[1;33m(\u001b[0m\u001b[0mkey\u001b[0m\u001b[1;33m)\u001b[0m\u001b[1;33m\u001b[0m\u001b[1;33m\u001b[0m\u001b[0m\n\u001b[0;32m   2898\u001b[0m             \u001b[1;32mexcept\u001b[0m \u001b[0mKeyError\u001b[0m\u001b[1;33m:\u001b[0m\u001b[1;33m\u001b[0m\u001b[1;33m\u001b[0m\u001b[0m\n\u001b[1;32m-> 2899\u001b[1;33m                 \u001b[1;32mreturn\u001b[0m \u001b[0mself\u001b[0m\u001b[1;33m.\u001b[0m\u001b[0m_engine\u001b[0m\u001b[1;33m.\u001b[0m\u001b[0mget_loc\u001b[0m\u001b[1;33m(\u001b[0m\u001b[0mself\u001b[0m\u001b[1;33m.\u001b[0m\u001b[0m_maybe_cast_indexer\u001b[0m\u001b[1;33m(\u001b[0m\u001b[0mkey\u001b[0m\u001b[1;33m)\u001b[0m\u001b[1;33m)\u001b[0m\u001b[1;33m\u001b[0m\u001b[1;33m\u001b[0m\u001b[0m\n\u001b[0m\u001b[0;32m   2900\u001b[0m         \u001b[0mindexer\u001b[0m \u001b[1;33m=\u001b[0m \u001b[0mself\u001b[0m\u001b[1;33m.\u001b[0m\u001b[0mget_indexer\u001b[0m\u001b[1;33m(\u001b[0m\u001b[1;33m[\u001b[0m\u001b[0mkey\u001b[0m\u001b[1;33m]\u001b[0m\u001b[1;33m,\u001b[0m \u001b[0mmethod\u001b[0m\u001b[1;33m=\u001b[0m\u001b[0mmethod\u001b[0m\u001b[1;33m,\u001b[0m \u001b[0mtolerance\u001b[0m\u001b[1;33m=\u001b[0m\u001b[0mtolerance\u001b[0m\u001b[1;33m)\u001b[0m\u001b[1;33m\u001b[0m\u001b[1;33m\u001b[0m\u001b[0m\n\u001b[0;32m   2901\u001b[0m         \u001b[1;32mif\u001b[0m \u001b[0mindexer\u001b[0m\u001b[1;33m.\u001b[0m\u001b[0mndim\u001b[0m \u001b[1;33m>\u001b[0m \u001b[1;36m1\u001b[0m \u001b[1;32mor\u001b[0m \u001b[0mindexer\u001b[0m\u001b[1;33m.\u001b[0m\u001b[0msize\u001b[0m \u001b[1;33m>\u001b[0m \u001b[1;36m1\u001b[0m\u001b[1;33m:\u001b[0m\u001b[1;33m\u001b[0m\u001b[1;33m\u001b[0m\u001b[0m\n",
      "\u001b[1;32mpandas\\_libs\\index.pyx\u001b[0m in \u001b[0;36mpandas._libs.index.IndexEngine.get_loc\u001b[1;34m()\u001b[0m\n",
      "\u001b[1;32mpandas\\_libs\\index.pyx\u001b[0m in \u001b[0;36mpandas._libs.index.IndexEngine.get_loc\u001b[1;34m()\u001b[0m\n",
      "\u001b[1;32mpandas\\_libs\\hashtable_class_helper.pxi\u001b[0m in \u001b[0;36mpandas._libs.hashtable.PyObjectHashTable.get_item\u001b[1;34m()\u001b[0m\n",
      "\u001b[1;32mpandas\\_libs\\hashtable_class_helper.pxi\u001b[0m in \u001b[0;36mpandas._libs.hashtable.PyObjectHashTable.get_item\u001b[1;34m()\u001b[0m\n",
      "\u001b[1;31mKeyError\u001b[0m: 0"
     ]
    }
   ],
   "source": [
    "fltr.fit_transform(x,y)"
   ]
  },
  {
   "cell_type": "code",
   "execution_count": null,
   "metadata": {},
   "outputs": [],
   "source": []
  },
  {
   "cell_type": "code",
   "execution_count": null,
   "metadata": {},
   "outputs": [],
   "source": [
    "ranked = np.array(list(enumerate(fltr.feature_importances_)),dtype=[('index',np.int),('values',np.float32)])"
   ]
  },
  {
   "cell_type": "code",
   "execution_count": null,
   "metadata": {},
   "outputs": [],
   "source": [
    "ranked"
   ]
  },
  {
   "cell_type": "code",
   "execution_count": null,
   "metadata": {},
   "outputs": [],
   "source": [
    "ranked.sort(order=['values'])"
   ]
  },
  {
   "cell_type": "code",
   "execution_count": null,
   "metadata": {},
   "outputs": [],
   "source": [
    "ranked"
   ]
  },
  {
   "cell_type": "code",
   "execution_count": null,
   "metadata": {},
   "outputs": [],
   "source": [
    "len(f_names),len(ranked)"
   ]
  },
  {
   "cell_type": "code",
   "execution_count": null,
   "metadata": {},
   "outputs": [],
   "source": [
    "f_names[24]"
   ]
  },
  {
   "cell_type": "code",
   "execution_count": null,
   "metadata": {},
   "outputs": [],
   "source": [
    "np.array(f_names)[ranked['index'][-5:]]"
   ]
  },
  {
   "cell_type": "code",
   "execution_count": null,
   "metadata": {},
   "outputs": [],
   "source": [
    "from keras.models import Sequential\n",
    "from keras.layers import Dense,Dropout\n",
    "from keras.utils import to_categorical"
   ]
  },
  {
   "cell_type": "markdown",
   "metadata": {},
   "source": [
    "Requisito Keras: tipo de las clases categorico"
   ]
  },
  {
   "cell_type": "code",
   "execution_count": null,
   "metadata": {},
   "outputs": [],
   "source": [
    "Y_train = to_categorical([0,1,0,1])\n",
    "#test_labels = to_categorical(test_labels)"
   ]
  },
  {
   "cell_type": "markdown",
   "metadata": {},
   "source": [
    "Aplanar y normalizar los datos para utilizarlos de entrada de la NN"
   ]
  },
  {
   "cell_type": "code",
   "execution_count": null,
   "metadata": {},
   "outputs": [],
   "source": [
    "from sklearn import preprocessing\n",
    "X_train = preprocessing.scale(X_train.T.reshape((X_train.shape[0], -1)))\n",
    "#X_test = X_test.reshape((X_test.shape[0], -1))"
   ]
  },
  {
   "cell_type": "code",
   "execution_count": null,
   "metadata": {},
   "outputs": [],
   "source": [
    "for i in range(X_train.shape[0]):\n",
    "    plt.plot(X_train[i,5000:5157])"
   ]
  },
  {
   "cell_type": "markdown",
   "metadata": {},
   "source": [
    "En caso de querer normalizarlo entre 0 y 1"
   ]
  },
  {
   "cell_type": "code",
   "execution_count": null,
   "metadata": {},
   "outputs": [],
   "source": [
    "#https://scikit-learn.org/stable/modules/preprocessing.html\n",
    "min_max_scaler = preprocessing.MinMaxScaler()\n",
    "X_train_minmax = min_max_scaler.fit_transform(X_train)\n",
    "for i in range(X_train_minmax.shape[0]):\n",
    "    plt.plot(X_train_minmax[i,5000:5157])"
   ]
  },
  {
   "cell_type": "code",
   "execution_count": null,
   "metadata": {},
   "outputs": [],
   "source": [
    "X_train_minmax.shape"
   ]
  },
  {
   "cell_type": "code",
   "execution_count": null,
   "metadata": {},
   "outputs": [],
   "source": [
    "model = Sequential()\n",
    "model.add(Dense(8, input_shape=(X_train_minmax.shape[-1],), activation='relu'))\n",
    "model.add(Dense(16, activation='relu'))\n",
    "model.add(Dense(32, activation='relu'))\n",
    "model.add(Dropout(0.15))\n",
    "model.add(Dense(2, activation='softmax'))\n",
    "\n",
    "model.compile(loss='categorical_crossentropy',\n",
    "              optimizer='rmsprop',\n",
    "              metrics=['accuracy'])"
   ]
  },
  {
   "cell_type": "code",
   "execution_count": null,
   "metadata": {},
   "outputs": [],
   "source": [
    "history = model.fit(X_train_minmax, Y_train, epochs=5, batch_size=16, validation_split=0.2)\n",
    "\n",
    "\n",
    "# Plot training & validation accuracy values\n",
    "plt.plot(history.history['acc'])\n",
    "plt.plot(history.history['val_acc'])\n",
    "plt.title('Model accuracy')\n",
    "plt.ylabel('Accuracy')\n",
    "plt.xlabel('Epoch')\n",
    "plt.legend(['Train', 'Test'], loc='upper left')\n",
    "plt.show()\n",
    "\n",
    "# Plot training & validation loss values\n",
    "plt.plot(history.history['loss'])\n",
    "plt.plot(history.history['val_loss'])\n",
    "plt.title('Model loss')\n",
    "plt.ylabel('Loss')\n",
    "plt.xlabel('Epoch')\n",
    "plt.legend(['Train', 'Test'], loc='upper left')\n",
    "plt.show()"
   ]
  }
 ],
 "metadata": {
  "kernelspec": {
   "display_name": "Python 3",
   "language": "python",
   "name": "python3"
  },
  "language_info": {
   "codemirror_mode": {
    "name": "ipython",
    "version": 3
   },
   "file_extension": ".py",
   "mimetype": "text/x-python",
   "name": "python",
   "nbconvert_exporter": "python",
   "pygments_lexer": "ipython3",
   "version": "3.7.2"
  }
 },
 "nbformat": 4,
 "nbformat_minor": 4
}
