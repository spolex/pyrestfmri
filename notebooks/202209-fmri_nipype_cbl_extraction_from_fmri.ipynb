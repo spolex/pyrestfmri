{
 "cells": [
  {
   "cell_type": "markdown",
   "metadata": {},
   "source": [
    "Building docker image with FSL and ANTs"
   ]
  },
  {
   "cell_type": "code",
   "execution_count": 25,
   "metadata": {},
   "outputs": [],
   "source": [
    "from nipype.interfaces.fsl import preprocess\n",
    "from nipype.interfaces.fsl import ImageMaths\n",
    "from nilearn import plotting\n",
    "%matplotlib inline\n",
    "from niwidgets import NiftiWidget\n",
    "import ipywidgets as widgets\n",
    "import warnings\n",
    "warnings.filterwarnings('ignore')\n",
    "from IPython.display import display\n",
    "from IPython.display import Javascript\n",
    "import nilearn.plotting as nip#for using nilearn plot functions\n",
    "from nilearn.image.image import mean_img,load_img\n",
    "import os"
   ]
  },
  {
   "cell_type": "code",
   "execution_count": 26,
   "metadata": {},
   "outputs": [],
   "source": [
    "origing_path = \"/data/elekin/data/origin/fmri\"\n",
    "results_path = \"/data/elekin/data/results/fmri/preproc/*\""
   ]
  },
  {
   "cell_type": "code",
   "execution_count": 27,
   "metadata": {
    "scrolled": true
   },
   "outputs": [],
   "source": [
    "list_subjs = !ls -d $results_path | grep session"
   ]
  },
  {
   "cell_type": "code",
   "execution_count": 28,
   "metadata": {},
   "outputs": [],
   "source": [
    "def run_cells_below():\n",
    "    display(Javascript(\"Jupyter.notebook.execute_cell_range(6,10)\"))"
   ]
  },
  {
   "cell_type": "code",
   "execution_count": 29,
   "metadata": {},
   "outputs": [
    {
     "data": {
      "application/vnd.jupyter.widget-view+json": {
       "model_id": "48362712b78546558629b544c70556b7",
       "version_major": 2,
       "version_minor": 0
      },
      "text/plain": [
       "Select(description='Subject Id:', options=('/data/elekin/data/results/fmri/preproc/_session_id_1_subject_id_C0…"
      ]
     },
     "metadata": {},
     "output_type": "display_data"
    }
   ],
   "source": [
    "subj_id_selector = widgets.Select(\n",
    "    options=list_subjs,\n",
    "    # value='C575',\n",
    "    # rows=10,\n",
    "    description='Subject Id:',\n",
    "    disabled=False\n",
    ")\n",
    "#subj_id_selector.on_trait_change(run_cells_below)\n",
    "display(subj_id_selector)"
   ]
  },
  {
   "cell_type": "code",
   "execution_count": 32,
   "metadata": {},
   "outputs": [
    {
     "name": "stdout",
     "output_type": "stream",
     "text": [
      "/data/elekin/data/results/fmri/preproc/_session_id_1_subject_id_C578\n"
     ]
    }
   ],
   "source": [
    "mni_template = os.path.join(origing_path, \"TEMPLATES/MNI152_T1_1mm.nii.gz\")\n",
    "mni_3mm_template = os.path.join(origing_path, \"TEMPLATES/MNI152_T1_3mm.nii.gz\")\n",
    "cbl_template = os.path.join(origing_path, \"TEMPLATES/Cerebellum-MNIflirt-maxprob-thr0-1mm.nii.gz\")\n",
    "#cbl_template = os.path.join(origing_path, \"TEMPLATES/Cerebellum-MNIflirt-prob-2mm.nii.gz\")\n",
    "neck_filename = subj_id_selector.value+\"/Neck_remover/mprage_ROI.nii.gz\"\n",
    "skull_filename = subj_id_selector.value+\"/skull_strip/mprage_ROI_flirt_brain.nii.gz\"\n",
    "bold_filename = subj_id_selector.value+\"/applyTransFunc/f1_trim_st_mcf_trans.nii.gz\"\n",
    "print(subj_id_selector.value)"
   ]
  },
  {
   "cell_type": "code",
   "execution_count": 33,
   "metadata": {},
   "outputs": [
    {
     "name": "stdout",
     "output_type": "stream",
     "text": [
      "220908-01:25:04,402 nipype.interface WARNING:\n",
      "\t FSLOUTPUTTYPE environment variable is not set. Setting FSLOUTPUTTYPE=NIFTI\n"
     ]
    },
    {
     "ename": "OSError",
     "evalue": "No command \"fslmaths\" found on host 3a13f7891f9f. Please check that the corresponding package is installed.",
     "output_type": "error",
     "traceback": [
      "\u001b[0;31m---------------------------------------------------------------------------\u001b[0m",
      "\u001b[0;31mOSError\u001b[0m                                   Traceback (most recent call last)",
      "Input \u001b[0;32mIn [33]\u001b[0m, in \u001b[0;36m<cell line: 3>\u001b[0;34m()\u001b[0m\n\u001b[1;32m      1\u001b[0m maths \u001b[38;5;241m=\u001b[39m ImageMaths(in_file\u001b[38;5;241m=\u001b[39mcbl_template, op_string\u001b[38;5;241m=\u001b[39m \u001b[38;5;124m'\u001b[39m\u001b[38;5;124m-bin\u001b[39m\u001b[38;5;124m'\u001b[39m)\n\u001b[1;32m      2\u001b[0m maths\u001b[38;5;241m.\u001b[39mverbose \u001b[38;5;241m=\u001b[39m \u001b[38;5;28;01mTrue\u001b[39;00m\n\u001b[0;32m----> 3\u001b[0m bin_result \u001b[38;5;241m=\u001b[39m \u001b[43mmaths\u001b[49m\u001b[38;5;241;43m.\u001b[39;49m\u001b[43mrun\u001b[49m\u001b[43m(\u001b[49m\u001b[43m)\u001b[49m\n",
      "File \u001b[0;32m/usr/local/lib/python3.8/dist-packages/nipype/interfaces/base/core.py:398\u001b[0m, in \u001b[0;36mBaseInterface.run\u001b[0;34m(self, cwd, ignore_exception, **inputs)\u001b[0m\n\u001b[1;32m    396\u001b[0m \u001b[38;5;66;03m# Run interface\u001b[39;00m\n\u001b[1;32m    397\u001b[0m runtime \u001b[38;5;241m=\u001b[39m \u001b[38;5;28mself\u001b[39m\u001b[38;5;241m.\u001b[39m_pre_run_hook(runtime)\n\u001b[0;32m--> 398\u001b[0m runtime \u001b[38;5;241m=\u001b[39m \u001b[38;5;28;43mself\u001b[39;49m\u001b[38;5;241;43m.\u001b[39;49m\u001b[43m_run_interface\u001b[49m\u001b[43m(\u001b[49m\u001b[43mruntime\u001b[49m\u001b[43m)\u001b[49m\n\u001b[1;32m    399\u001b[0m runtime \u001b[38;5;241m=\u001b[39m \u001b[38;5;28mself\u001b[39m\u001b[38;5;241m.\u001b[39m_post_run_hook(runtime)\n\u001b[1;32m    400\u001b[0m \u001b[38;5;66;03m# Collect outputs\u001b[39;00m\n",
      "File \u001b[0;32m/usr/local/lib/python3.8/dist-packages/nipype/interfaces/base/core.py:753\u001b[0m, in \u001b[0;36mCommandLine._run_interface\u001b[0;34m(self, runtime, correct_return_codes)\u001b[0m\n\u001b[1;32m    750\u001b[0m cmd_path \u001b[38;5;241m=\u001b[39m which(executable_name, env\u001b[38;5;241m=\u001b[39mruntime\u001b[38;5;241m.\u001b[39menviron)\n\u001b[1;32m    752\u001b[0m \u001b[38;5;28;01mif\u001b[39;00m cmd_path \u001b[38;5;129;01mis\u001b[39;00m \u001b[38;5;28;01mNone\u001b[39;00m:\n\u001b[0;32m--> 753\u001b[0m     \u001b[38;5;28;01mraise\u001b[39;00m \u001b[38;5;167;01mIOError\u001b[39;00m(\n\u001b[1;32m    754\u001b[0m         \u001b[38;5;124m'\u001b[39m\u001b[38;5;124mNo command \u001b[39m\u001b[38;5;124m\"\u001b[39m\u001b[38;5;132;01m%s\u001b[39;00m\u001b[38;5;124m\"\u001b[39m\u001b[38;5;124m found on host \u001b[39m\u001b[38;5;132;01m%s\u001b[39;00m\u001b[38;5;124m. Please check that the \u001b[39m\u001b[38;5;124m'\u001b[39m\n\u001b[1;32m    755\u001b[0m         \u001b[38;5;124m\"\u001b[39m\u001b[38;5;124mcorresponding package is installed.\u001b[39m\u001b[38;5;124m\"\u001b[39m\n\u001b[1;32m    756\u001b[0m         \u001b[38;5;241m%\u001b[39m (executable_name, runtime\u001b[38;5;241m.\u001b[39mhostname)\n\u001b[1;32m    757\u001b[0m     )\n\u001b[1;32m    759\u001b[0m runtime\u001b[38;5;241m.\u001b[39mcommand_path \u001b[38;5;241m=\u001b[39m cmd_path\n\u001b[1;32m    760\u001b[0m runtime\u001b[38;5;241m.\u001b[39mdependencies \u001b[38;5;241m=\u001b[39m (\n\u001b[1;32m    761\u001b[0m     get_dependencies(executable_name, runtime\u001b[38;5;241m.\u001b[39menviron)\n\u001b[1;32m    762\u001b[0m     \u001b[38;5;28;01mif\u001b[39;00m \u001b[38;5;28mself\u001b[39m\u001b[38;5;241m.\u001b[39m_ldd\n\u001b[1;32m    763\u001b[0m     \u001b[38;5;28;01melse\u001b[39;00m \u001b[38;5;124m\"\u001b[39m\u001b[38;5;124m<skipped>\u001b[39m\u001b[38;5;124m\"\u001b[39m\n\u001b[1;32m    764\u001b[0m )\n",
      "\u001b[0;31mOSError\u001b[0m: No command \"fslmaths\" found on host 3a13f7891f9f. Please check that the corresponding package is installed."
     ]
    }
   ],
   "source": [
    "maths = ImageMaths(in_file=cbl_template, op_string= '-bin')\n",
    "maths.verbose = True\n",
    "bin_result = maths.run()"
   ]
  },
  {
   "cell_type": "code",
   "execution_count": 9,
   "metadata": {},
   "outputs": [
    {
     "ename": "NameError",
     "evalue": "name 'bin_result' is not defined",
     "output_type": "error",
     "traceback": [
      "\u001b[0;31m---------------------------------------------------------------------------\u001b[0m",
      "\u001b[0;31mNameError\u001b[0m                                 Traceback (most recent call last)",
      "Input \u001b[0;32mIn [9]\u001b[0m, in \u001b[0;36m<cell line: 1>\u001b[0;34m()\u001b[0m\n\u001b[0;32m----> 1\u001b[0m anat_widget \u001b[38;5;241m=\u001b[39m NiftiWidget(\u001b[43mbin_result\u001b[49m\u001b[38;5;241m.\u001b[39moutputs\u001b[38;5;241m.\u001b[39mout_file)\n\u001b[1;32m      2\u001b[0m anat_widget\u001b[38;5;241m.\u001b[39mnifti_plotter()\n",
      "\u001b[0;31mNameError\u001b[0m: name 'bin_result' is not defined"
     ]
    }
   ],
   "source": [
    "anat_widget = NiftiWidget(bin_result.outputs.out_file)\n",
    "anat_widget.nifti_plotter()"
   ]
  },
  {
   "cell_type": "code",
   "execution_count": 10,
   "metadata": {
    "scrolled": true
   },
   "outputs": [
    {
     "ename": "NameError",
     "evalue": "name 'bin_result' is not defined",
     "output_type": "error",
     "traceback": [
      "\u001b[0;31m---------------------------------------------------------------------------\u001b[0m",
      "\u001b[0;31mNameError\u001b[0m                                 Traceback (most recent call last)",
      "Input \u001b[0;32mIn [10]\u001b[0m, in \u001b[0;36m<cell line: 1>\u001b[0;34m()\u001b[0m\n\u001b[0;32m----> 1\u001b[0m cbl_img \u001b[38;5;241m=\u001b[39m load_img(\u001b[43mbin_result\u001b[49m\u001b[38;5;241m.\u001b[39moutputs\u001b[38;5;241m.\u001b[39mout_file)\n",
      "\u001b[0;31mNameError\u001b[0m: name 'bin_result' is not defined"
     ]
    }
   ],
   "source": [
    "cbl_img = load_img(bin_result.outputs.out_file)"
   ]
  },
  {
   "cell_type": "code",
   "execution_count": 11,
   "metadata": {},
   "outputs": [
    {
     "ename": "NameError",
     "evalue": "name 'cbl_img' is not defined",
     "output_type": "error",
     "traceback": [
      "\u001b[0;31m---------------------------------------------------------------------------\u001b[0m",
      "\u001b[0;31mNameError\u001b[0m                                 Traceback (most recent call last)",
      "Input \u001b[0;32mIn [11]\u001b[0m, in \u001b[0;36m<cell line: 1>\u001b[0;34m()\u001b[0m\n\u001b[0;32m----> 1\u001b[0m \u001b[38;5;28mprint\u001b[39m(\u001b[43mcbl_img\u001b[49m\u001b[38;5;241m.\u001b[39mheader[\u001b[38;5;124m\"\u001b[39m\u001b[38;5;124mdim\u001b[39m\u001b[38;5;124m\"\u001b[39m])\n",
      "\u001b[0;31mNameError\u001b[0m: name 'cbl_img' is not defined"
     ]
    }
   ],
   "source": [
    "print(cbl_img.header[\"dim\"])"
   ]
  },
  {
   "cell_type": "code",
   "execution_count": 12,
   "metadata": {
    "scrolled": true
   },
   "outputs": [],
   "source": [
    "bold_img = load_img(bold_filename)"
   ]
  },
  {
   "cell_type": "code",
   "execution_count": 13,
   "metadata": {},
   "outputs": [
    {
     "name": "stdout",
     "output_type": "stream",
     "text": [
      "[  4  61  73  61 158   1   1   1]\n"
     ]
    }
   ],
   "source": [
    "print(bold_img.header[\"dim\"])"
   ]
  },
  {
   "cell_type": "code",
   "execution_count": 22,
   "metadata": {},
   "outputs": [],
   "source": [
    "from nilearn.input_data import NiftiMasker,NiftiMapsMasker\n",
    "masker = NiftiMasker(mask_img=bin_result.outputs.out_file, standardize=True)\n",
    "fmri_masked = masker.fit_transform(bold_filename)"
   ]
  },
  {
   "cell_type": "code",
   "execution_count": 15,
   "metadata": {},
   "outputs": [],
   "source": [
    "fmri_cbl = masker.inverse_transform(fmri_masked)"
   ]
  },
  {
   "cell_type": "code",
   "execution_count": null,
   "metadata": {},
   "outputs": [],
   "source": [
    "fmri_cbl.get_data().shape"
   ]
  },
  {
   "cell_type": "code",
   "execution_count": 17,
   "metadata": {},
   "outputs": [
    {
     "data": {
      "text/plain": [
       "<Figure size 432x288 with 0 Axes>"
      ]
     },
     "metadata": {},
     "output_type": "display_data"
    },
    {
     "data": {
      "application/vnd.jupyter.widget-view+json": {
       "model_id": "279a25d1c2c94404b7c9b31739fa746e",
       "version_major": 2,
       "version_minor": 0
      },
      "text/plain": [
       "interactive(children=(IntSlider(value=90, continuous_update=False, description='x', max=181), IntSlider(value=…"
      ]
     },
     "metadata": {},
     "output_type": "display_data"
    }
   ],
   "source": [
    "roi_widget = NiftiWidget(fmri_cbl)\n",
    "roi_widget.nifti_plotter()"
   ]
  },
  {
   "cell_type": "code",
   "execution_count": 25,
   "metadata": {},
   "outputs": [
    {
     "name": "stdout",
     "output_type": "stream",
     "text": [
      "[NiftiMapsMasker.fit_transform] loading regions from ../../datos/TEMPLATES/Cerebellum-MNIflirt-prob-2mm.nii.gz\n",
      "Resampling maps\n",
      "________________________________________________________________________________\n",
      "[Memory] Calling nilearn.image.resampling.resample_img...\n",
      "resample_img(<nibabel.nifti1.Nifti1Image object at 0x7f577ffa8898>, interpolation='continuous', target_shape=(61, 73, 61), target_affine=array([[  -3.,    0.,    0.,   90.],\n",
      "       [   0.,    3.,    0., -126.],\n",
      "       [   0.,    0.,    3.,  -72.],\n",
      "       [   0.,    0.,    0.,    1.]]))\n",
      "_____________________________________________________resample_img - 5.3s, 0.1min\n",
      "________________________________________________________________________________\n",
      "[Memory] Calling nilearn.input_data.base_masker.filter_and_extract...\n",
      "filter_and_extract('../../results/output/preproc/_session_id_1_subject_id_T078/applyTransFunc/f1_trim_st_mcf_trans.nii.gz', \n",
      "<nilearn.input_data.nifti_maps_masker._ExtractionFunctor object at 0x7f57c190c828>, \n",
      "{ 'allow_overlap': True,\n",
      "  'detrend': True,\n",
      "  'dtype': None,\n",
      "  'high_pass': None,\n",
      "  'low_pass': None,\n",
      "  'maps_img': '../../datos/TEMPLATES/Cerebellum-MNIflirt-prob-2mm.nii.gz',\n",
      "  'mask_img': None,\n",
      "  'smoothing_fwhm': None,\n",
      "  'standardize': False,\n",
      "  't_r': 1.94,\n",
      "  'target_affine': None,\n",
      "  'target_shape': None}, confounds=None, dtype=None, memory=Memory(location=nilearn_cache/joblib), memory_level=1, verbose=10)\n",
      "[NiftiMapsMasker.transform_single_imgs] Loading data from ../../results/output/preproc/_session_id_1_subject_id_T078/applyTransFunc/f1_trim_st_mcf_trans.nii.gz\n",
      "[NiftiMapsMasker.transform_single_imgs] Extracting region signals\n",
      "[NiftiMapsMasker.transform_single_imgs] Cleaning extracted signals\n",
      "_______________________________________________filter_and_extract - 8.9s, 0.1min\n"
     ]
    }
   ],
   "source": [
    "masker = NiftiMapsMasker(maps_img=cbl_template_prob, memory='nilearn_cache', memory_level=1, detrend=True,\n",
    "                             verbose=10, t_r=1.94)\n",
    "fmri_masked = masker.fit_transform(bold_filename)"
   ]
  },
  {
   "cell_type": "code",
   "execution_count": 26,
   "metadata": {},
   "outputs": [
    {
     "name": "stdout",
     "output_type": "stream",
     "text": [
      "[NiftiMapsMasker.inverse_transform] computing image from signals\n"
     ]
    }
   ],
   "source": [
    "fmri_cbl = masker.inverse_transform(fmri_masked)"
   ]
  },
  {
   "cell_type": "code",
   "execution_count": 27,
   "metadata": {},
   "outputs": [
    {
     "data": {
      "text/plain": [
       "<Figure size 432x288 with 0 Axes>"
      ]
     },
     "metadata": {},
     "output_type": "display_data"
    },
    {
     "data": {
      "application/vnd.jupyter.widget-view+json": {
       "model_id": "a0780e3490294113805a21cecf08cebc",
       "version_major": 2,
       "version_minor": 0
      },
      "text/plain": [
       "interactive(children=(IntSlider(value=45, continuous_update=False, description='x', max=90), IntSlider(value=5…"
      ]
     },
     "metadata": {},
     "output_type": "display_data"
    }
   ],
   "source": [
    "roi_widget = NiftiWidget(fmri_cbl)\n",
    "roi_widget.nifti_plotter()"
   ]
  }
 ],
 "metadata": {
  "kernelspec": {
   "display_name": "Python 3",
   "language": "python",
   "name": "python3"
  },
  "language_info": {
   "codemirror_mode": {
    "name": "ipython",
    "version": 3
   },
   "file_extension": ".py",
   "mimetype": "text/x-python",
   "name": "python",
   "nbconvert_exporter": "python",
   "pygments_lexer": "ipython3",
   "version": "3.8.10"
  }
 },
 "nbformat": 4,
 "nbformat_minor": 2
}
