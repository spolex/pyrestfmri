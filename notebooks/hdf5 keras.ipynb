{
 "cells": [
  {
   "cell_type": "code",
   "execution_count": 25,
   "metadata": {},
   "outputs": [],
   "source": [
    "import h5py\n",
    "import numpy as np\n",
    "import matplotlib.pyplot as plt"
   ]
  },
  {
   "cell_type": "code",
   "execution_count": 26,
   "metadata": {},
   "outputs": [],
   "source": [
    "h5_ts_file = h5py.File('elekin_phd_et.hdf5','r')"
   ]
  },
  {
   "cell_type": "code",
   "execution_count": 27,
   "metadata": {},
   "outputs": [
    {
     "data": {
      "text/plain": [
       "<KeysViewHDF5 ['cerebellum_ts']>"
      ]
     },
     "execution_count": 27,
     "metadata": {},
     "output_type": "execute_result"
    }
   ],
   "source": [
    "h5_ts_file.keys()"
   ]
  },
  {
   "cell_type": "code",
   "execution_count": 28,
   "metadata": {},
   "outputs": [],
   "source": [
    "group = h5_ts_file.get('cerebellum_ts')"
   ]
  },
  {
   "cell_type": "code",
   "execution_count": 99,
   "metadata": {},
   "outputs": [
    {
     "data": {
      "text/plain": [
       "(102, 158, 28)"
      ]
     },
     "execution_count": 99,
     "metadata": {},
     "output_type": "execute_result"
    }
   ],
   "source": [
    "timeseries = np.empty([102,158,28])\n",
    "timeseries.shape"
   ]
  },
  {
   "cell_type": "code",
   "execution_count": 100,
   "metadata": {},
   "outputs": [],
   "source": [
    "for i,item in enumerate(group):\n",
    "    new = np.array(group.get(item))\n",
    "    #print(item)\n",
    "    #print(timeseries[i].shape)\n",
    "    #print(new.shape)\n",
    "    if new.shape[0] == 158:\n",
    "        timeseries[i] = np.array(new)"
   ]
  },
  {
   "cell_type": "code",
   "execution_count": 101,
   "metadata": {},
   "outputs": [
    {
     "data": {
      "text/plain": [
       "(102, 158, 28)"
      ]
     },
     "execution_count": 101,
     "metadata": {},
     "output_type": "execute_result"
    }
   ],
   "source": [
    "timeseries.shape"
   ]
  },
  {
   "cell_type": "code",
   "execution_count": 106,
   "metadata": {},
   "outputs": [],
   "source": [
    "X_train=timeseries"
   ]
  },
  {
   "cell_type": "code",
   "execution_count": 102,
   "metadata": {},
   "outputs": [],
   "source": [
    "from keras.models import Sequential\n",
    "from keras.layers import Dense,Dropout\n",
    "from keras.utils import to_categorical"
   ]
  },
  {
   "cell_type": "code",
   "execution_count": 103,
   "metadata": {},
   "outputs": [
    {
     "data": {
      "text/plain": [
       "array([1, 1, 1, 1, 0, 0, 0, 0, 0, 0, 0, 1, 1, 0, 1, 1, 0, 1, 1, 0, 1, 1,\n",
       "       0, 1, 0, 0, 0, 0, 0, 1, 0, 0, 0, 0, 1, 0, 0, 0, 1, 0, 1, 1, 1, 1,\n",
       "       1, 1, 0, 1, 1, 1, 1, 1, 0, 0, 1, 0, 0, 0, 0, 0, 1, 0, 1, 1, 1, 1,\n",
       "       0, 1, 0, 1, 1, 1, 1, 0, 0, 0, 0, 1, 0, 0, 1, 1, 0, 0, 0, 1, 1, 0,\n",
       "       0, 1, 0, 1, 0, 1, 0, 0, 0, 0, 0, 1, 1, 0], dtype=int8)"
      ]
     },
     "execution_count": 103,
     "metadata": {},
     "output_type": "execute_result"
    }
   ],
   "source": [
    "np.array(['C' in item for item in group],dtype=np.int8)"
   ]
  },
  {
   "cell_type": "code",
   "execution_count": 104,
   "metadata": {},
   "outputs": [],
   "source": [
    "Y_train = to_categorical(np.array(['C' in item for item in group],dtype=np.int8))\n",
    "#test_labels = to_categorical(test_labels)"
   ]
  },
  {
   "cell_type": "code",
   "execution_count": 107,
   "metadata": {},
   "outputs": [
    {
     "data": {
      "text/plain": [
       "((102, 158, 28), (102, 2))"
      ]
     },
     "execution_count": 107,
     "metadata": {},
     "output_type": "execute_result"
    }
   ],
   "source": [
    "X_train.shape,Y_train.shape"
   ]
  },
  {
   "cell_type": "code",
   "execution_count": 108,
   "metadata": {},
   "outputs": [
    {
     "data": {
      "text/plain": [
       "(102, 4424)"
      ]
     },
     "execution_count": 108,
     "metadata": {},
     "output_type": "execute_result"
    }
   ],
   "source": [
    "X_train_flat = X_train.reshape((X_train.shape[0], -1))\n",
    "#X_test_data_flat = test_data.reshape((test_data.shape[0], -1))\n",
    "X_train_flat.shape"
   ]
  },
  {
   "cell_type": "code",
   "execution_count": 128,
   "metadata": {},
   "outputs": [],
   "source": [
    "model = Sequential()\n",
    "model.add(Dense(8, input_shape=(X_train_flat.shape[-1],), activation='relu'))\n",
    "model.add(Dense(16, activation='relu'))\n",
    "model.add(Dense(32, activation='relu'))\n",
    "#model.add(Dropout(0.15))\n",
    "model.add(Dense(2, activation='softmax'))\n",
    "\n",
    "model.compile(loss='categorical_crossentropy',\n",
    "              optimizer='rmsprop',\n",
    "              metrics=['accuracy'])"
   ]
  },
  {
   "cell_type": "code",
   "execution_count": 130,
   "metadata": {},
   "outputs": [
    {
     "name": "stdout",
     "output_type": "stream",
     "text": [
      "Train on 81 samples, validate on 21 samples\n",
      "Epoch 1/15\n",
      "81/81 [==============================] - 0s 763us/step - loss: 0.0856 - acc: 0.9753 - val_loss: 1.8010 - val_acc: 0.4286\n",
      "Epoch 2/15\n",
      "81/81 [==============================] - 0s 291us/step - loss: 0.0834 - acc: 0.9753 - val_loss: 1.9116 - val_acc: 0.4286\n",
      "Epoch 3/15\n",
      "81/81 [==============================] - 0s 275us/step - loss: 0.0809 - acc: 0.9753 - val_loss: 2.0036 - val_acc: 0.4286\n",
      "Epoch 4/15\n",
      "81/81 [==============================] - 0s 277us/step - loss: 0.0759 - acc: 0.9753 - val_loss: 2.0916 - val_acc: 0.4286\n",
      "Epoch 5/15\n",
      "81/81 [==============================] - 0s 269us/step - loss: 0.0751 - acc: 0.9753 - val_loss: 2.1818 - val_acc: 0.4286\n",
      "Epoch 6/15\n",
      "81/81 [==============================] - 0s 293us/step - loss: 0.0741 - acc: 0.9753 - val_loss: 2.2445 - val_acc: 0.4286\n",
      "Epoch 7/15\n",
      "81/81 [==============================] - 0s 278us/step - loss: 0.0731 - acc: 0.9753 - val_loss: 2.3122 - val_acc: 0.4286\n",
      "Epoch 8/15\n",
      "81/81 [==============================] - 0s 271us/step - loss: 0.0722 - acc: 0.9753 - val_loss: 2.3477 - val_acc: 0.4286\n",
      "Epoch 9/15\n",
      "81/81 [==============================] - 0s 313us/step - loss: 0.0717 - acc: 0.9753 - val_loss: 2.4141 - val_acc: 0.4286\n",
      "Epoch 10/15\n",
      "81/81 [==============================] - 0s 295us/step - loss: 0.0709 - acc: 0.9753 - val_loss: 2.4532 - val_acc: 0.4286\n",
      "Epoch 11/15\n",
      "81/81 [==============================] - 0s 260us/step - loss: 0.0706 - acc: 0.9753 - val_loss: 2.5429 - val_acc: 0.4286\n",
      "Epoch 12/15\n",
      "81/81 [==============================] - 0s 255us/step - loss: 0.1053 - acc: 0.9630 - val_loss: 2.5717 - val_acc: 0.4286\n",
      "Epoch 13/15\n",
      "81/81 [==============================] - 0s 260us/step - loss: 0.0690 - acc: 0.9753 - val_loss: 2.6264 - val_acc: 0.4286\n",
      "Epoch 14/15\n",
      "81/81 [==============================] - 0s 244us/step - loss: 0.0691 - acc: 0.9753 - val_loss: 2.6602 - val_acc: 0.4286\n",
      "Epoch 15/15\n",
      "81/81 [==============================] - 0s 260us/step - loss: 0.0684 - acc: 0.9753 - val_loss: 2.6735 - val_acc: 0.4286\n"
     ]
    },
    {
     "data": {
      "image/png": "[encoded data removed]",
      "text/plain": [
       "<Figure size 432x288 with 1 Axes>"
      ]
     },
     "metadata": {
      "needs_background": "light"
     },
     "output_type": "display_data"
    },
    {
     "data": {
      "image/png": "[encoded data removed]",
      "text/plain": [
       "<Figure size 432x288 with 1 Axes>"
      ]
     },
     "metadata": {
      "needs_background": "light"
     },
     "output_type": "display_data"
    }
   ],
   "source": [
    "history = model.fit(X_train_flat, Y_train, epochs=15, batch_size=8, validation_split=0.2)\n",
    "\n",
    "\n",
    "# Plot training & validation accuracy values\n",
    "plt.plot(history.history['acc'])\n",
    "plt.plot(history.history['val_acc'])\n",
    "plt.title('Model accuracy')\n",
    "plt.ylabel('Accuracy')\n",
    "plt.xlabel('Epoch')\n",
    "plt.legend(['Train', 'Test'], loc='upper left')\n",
    "plt.show()\n",
    "\n",
    "# Plot training & validation loss values\n",
    "plt.plot(history.history['loss'])\n",
    "plt.plot(history.history['val_loss'])\n",
    "plt.title('Model loss')\n",
    "plt.ylabel('Loss')\n",
    "plt.xlabel('Epoch')\n",
    "plt.legend(['Train', 'Test'], loc='upper left')\n",
    "plt.show()"
   ]
  },
  {
   "cell_type": "code",
   "execution_count": 131,
   "metadata": {},
   "outputs": [],
   "source": [
    "h5_ts_file.close()"
   ]
  }
 ],
 "metadata": {
  "kernelspec": {
   "display_name": "Python 3",
   "language": "python",
   "name": "python3"
  },
  "language_info": {
   "codemirror_mode": {
    "name": "ipython",
    "version": 3
   },
   "file_extension": ".py",
   "mimetype": "text/x-python",
   "name": "python",
   "nbconvert_exporter": "python",
   "pygments_lexer": "ipython3",
   "version": "3.6.7"
  }
 },
 "nbformat": 4,
 "nbformat_minor": 2
}
